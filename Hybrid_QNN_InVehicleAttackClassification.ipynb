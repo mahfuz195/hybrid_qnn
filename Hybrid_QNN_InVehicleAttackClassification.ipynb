{
  "nbformat": 4,
  "nbformat_minor": 0,
  "metadata": {
    "colab": {
      "name": "Hybrid_QNN-InVehicleAttackClassification.ipynb",
      "provenance": [],
      "collapsed_sections": [
        "mt3rjJfps61o",
        "_pAU9lOLsceg",
        "VcKeCz1uJ5fX"
      ]
    },
    "kernelspec": {
      "display_name": "Python 3",
      "name": "python3"
    }
  },
  "cells": [
    {
      "cell_type": "code",
      "metadata": {
        "id": "yROxNdJ_yb3V"
      },
      "source": [
        "pip install -q tensorflow==2.4.1"
      ],
      "execution_count": null,
      "outputs": []
    },
    {
      "cell_type": "code",
      "metadata": {
        "id": "rc9fo4TYzDpg"
      },
      "source": [
        "pip install -q tensorflow-quantum"
      ],
      "execution_count": null,
      "outputs": []
    },
    {
      "cell_type": "code",
      "metadata": {
        "id": "saFHsRDpkvkH"
      },
      "source": [
        "import tensorflow as tf\n",
        "import tensorflow_quantum as tfq\n",
        "\n",
        "import cirq\n",
        "import sympy\n",
        "import numpy as np\n",
        "import seaborn as sns\n",
        "import collections\n",
        "\n",
        "# visualization tools\n",
        "%matplotlib inline\n",
        "import matplotlib.pyplot as plt\n",
        "from cirq.contrib.svg import SVGCircuit\n"
      ],
      "execution_count": null,
      "outputs": []
    },
    {
      "cell_type": "markdown",
      "metadata": {
        "id": "mt3rjJfps61o"
      },
      "source": [
        "### Data Read and Pre-processing"
      ]
    },
    {
      "cell_type": "code",
      "metadata": {
        "id": "I1R9mgInzcRH"
      },
      "source": [
        "import pandas as pd\n",
        "from sklearn.preprocessing import MinMaxScaler,StandardScaler"
      ],
      "execution_count": null,
      "outputs": []
    },
    {
      "cell_type": "code",
      "metadata": {
        "id": "z_ALt3LlzgqA"
      },
      "source": [
        "df_x = pd.read_csv('/content/drive/My Drive/zadid/X_train2.txt',names=[ str(i) for i in range(1,14)])\n",
        "df_y = pd.read_csv('/content/drive/My Drive/zadid/y_train2.txt',names=['label'])\n",
        "\n",
        "df_x_test = pd.read_csv('/content/drive/My Drive/zadid/X_test2.txt',names=[ str(i) for i in range(1,14)])\n",
        "df_y_test = pd.read_csv('/content/drive/My Drive/zadid/y_test2.txt',names=['label'])\n",
        "\n",
        "\n",
        "df_x = df_x.abs()\n",
        "df_x_test = df_x_test.abs()"
      ],
      "execution_count": null,
      "outputs": []
    },
    {
      "cell_type": "code",
      "metadata": {
        "id": "TAfUKU9d5Vw5"
      },
      "source": [
        "min_max_scaler = MinMaxScaler()\n",
        "scaler = StandardScaler()\n",
        "df_x = pd.DataFrame(scaler.fit_transform(df_x), columns=df_x.columns)\n",
        "df_x = pd.DataFrame(min_max_scaler.fit_transform(df_x), columns=df_x.columns)\n",
        "\n",
        "df_x_test = pd.DataFrame(scaler.fit_transform(df_x_test), columns=df_x.columns)\n",
        "df_x_test = pd.DataFrame(min_max_scaler.fit_transform(df_x_test), columns=df_x.columns)"
      ],
      "execution_count": null,
      "outputs": []
    },
    {
      "cell_type": "markdown",
      "metadata": {
        "id": "_pAU9lOLsceg"
      },
      "source": [
        "### Build CAN image dataset"
      ]
    },
    {
      "cell_type": "code",
      "metadata": {
        "id": "dFcQ2WNYgC0G"
      },
      "source": [
        "x = []\n",
        "y = []\n",
        "\n",
        "np_x = df_x.to_numpy()\n",
        "np_y = df_y.to_numpy()\n",
        "\n",
        "\n",
        "print ('processing train data...')\n",
        "for i in range(len(np_x)-13):\n",
        "    if(i%13==0):\n",
        "      img = np_x[i:i+13,:].reshape(13,13,1)\n",
        "      img = np.resize(img,(4,4,1))\n",
        "      label = 1 if 1 in np_y[i:i+13,:] else 0\n",
        "      x.append(img)\n",
        "      y.append(label)\n",
        "\n",
        "x_train = np.array(x)\n",
        "y_train = np.array(y)"
      ],
      "execution_count": null,
      "outputs": []
    },
    {
      "cell_type": "code",
      "metadata": {
        "id": "f0km9qGE4Qq9"
      },
      "source": [
        "x = np.array(x_train)\n",
        "y = np.array(y_train)\n",
        "\n",
        "from sklearn.model_selection import train_test_split\n",
        "x_train, x_test, y_train, y_test = train_test_split(x, y, test_size=0.3, random_state=42)\n"
      ],
      "execution_count": null,
      "outputs": []
    },
    {
      "cell_type": "markdown",
      "metadata": {
        "id": "VcKeCz1uJ5fX"
      },
      "source": [
        "### Train a convolution neural network (CNN)"
      ]
    },
    {
      "cell_type": "code",
      "metadata": {
        "id": "6-jv5k4VJ9ON"
      },
      "source": [
        "def create_full_classical_model():\n",
        "    # A simple model based off LeNet \n",
        "    model = tf.keras.Sequential()\n",
        "    model.add(tf.keras.layers.Flatten(input_shape=(13,13,1)))\n",
        "    model.add(tf.keras.layers.Dense(100, activation='relu'))\n",
        "    model.add(tf.keras.layers.Dense(16))\n",
        "    model.add(tf.keras.layers.Dense(1))\n",
        "    return model\n",
        "\n",
        "\n",
        "model = create_full_classical_model()\n",
        "model.compile(loss=tf.keras.losses.BinaryCrossentropy(from_logits=True),\n",
        "              optimizer=tf.keras.optimizers.Adam(),\n",
        "              metrics=['accuracy'])\n",
        "\n",
        "model.summary()\n",
        "\n",
        "EPOCHS = 100\n",
        "BATCH_SIZE = 8\n",
        "\n",
        "fair_history = model.fit(x_train,\n",
        "          y_train,\n",
        "          batch_size=BATCH_SIZE,\n",
        "          epochs=EPOCHS,\n",
        "          verbose=1,\n",
        "          validation_data=(x_test, y_test))\n",
        "\n",
        "fair_nn_results = model.evaluate(x_test, y_test)"
      ],
      "execution_count": null,
      "outputs": []
    },
    {
      "cell_type": "code",
      "metadata": {
        "id": "bG9UvJSaK9T4"
      },
      "source": [
        "plt.plot(fair_history.history['accuracy'])\n",
        "plt.plot(fair_history.history['val_accuracy'])\n",
        "plt.title('model accuracy')\n",
        "plt.ylabel('accuracy')\n",
        "plt.xlabel('epoch')\n",
        "plt.legend(['train', 'test'], loc='upper left')\n",
        "plt.show()\n",
        "# summarize history for loss\n",
        "plt.plot(fair_history.history['loss'])\n",
        "plt.plot(fair_history.history['val_loss'])\n",
        "plt.title('model loss')\n",
        "plt.ylabel('loss')\n",
        "plt.xlabel('epoch')\n",
        "plt.legend(['train', 'test'], loc='upper left')\n",
        "plt.show()"
      ],
      "execution_count": null,
      "outputs": []
    },
    {
      "cell_type": "code",
      "metadata": {
        "id": "wu64yfXDMXsK"
      },
      "source": [
        "from tensorflow.keras.models import Model\n",
        "from sklearn.preprocessing import minmax_scale\n",
        "\n",
        "print (x_test[0].shape)\n",
        "layer_name = model.layers[-2].name\n",
        "intermediate_layer_model = Model(inputs=model.input,\n",
        "                                 outputs=model.get_layer(layer_name).output)\n",
        "intermediate_output = intermediate_layer_model.predict(x_test[0][None, :, :, :])\n",
        "\n",
        "foo_norm = minmax_scale(intermediate_output, feature_range=(0,1), axis=1)\n",
        "print (foo_norm)\n"
      ],
      "execution_count": null,
      "outputs": []
    },
    {
      "cell_type": "code",
      "metadata": {
        "id": "BvUejkgXXSJf"
      },
      "source": [
        "import sys\n",
        "def show_progress(count, total, status=''):\n",
        "\n",
        "    bar_len = 60\n",
        "    filled_len = int(round(bar_len * count / float(total)))\n",
        "\n",
        "    percents = round(100.0 * count / float(total), 1)\n",
        "    bar = '#' * filled_len + '-' * (bar_len - filled_len)\n",
        "\n",
        "    sys.stdout.write('[%s] %s%s ...%s\\r' % (bar, percents, '%', status))\n",
        "    sys.stdout.flush()"
      ],
      "execution_count": null,
      "outputs": []
    },
    {
      "cell_type": "code",
      "metadata": {
        "id": "pB9OWeJ3OtcY"
      },
      "source": [
        "x_trans = []\n",
        "y_trans = []\n",
        "total = len(x_train)\n",
        "for i in range(len(x_train)):\n",
        "  x_trans.append(x_train[i])\n",
        "  y_trans.append(y_train[i])\n",
        "\n",
        "print ('Done')"
      ],
      "execution_count": null,
      "outputs": []
    },
    {
      "cell_type": "code",
      "metadata": {
        "id": "xifJNvUpP_XA"
      },
      "source": [
        "x_trans_test = []\n",
        "y_trans_test = []\n",
        "\n",
        "for i in range(len(x_test)):\n",
        "  x_trans_test.append(x_test[i])\n",
        "  y_trans_test.append(y_test[i])\n",
        "\n",
        "print ('Done')"
      ],
      "execution_count": null,
      "outputs": []
    },
    {
      "cell_type": "code",
      "metadata": {
        "id": "WDORROUqPsVH"
      },
      "source": [
        "x_trans = np.array(x_trans)\n",
        "y_trans = np.array(y_trans)\n",
        "\n",
        "print (x_trans.shape)\n",
        "print (y_trans.shape)"
      ],
      "execution_count": null,
      "outputs": []
    },
    {
      "cell_type": "code",
      "metadata": {
        "id": "QxtbrVLARnhA"
      },
      "source": [
        "x_trans_test = np.array(x_trans_test)\n",
        "y_trans_test = np.array(y_trans_test)\n",
        "\n",
        "print (x_trans_test.shape)\n",
        "print (y_trans_test.shape)"
      ],
      "execution_count": null,
      "outputs": []
    },
    {
      "cell_type": "markdown",
      "metadata": {
        "id": "yWM_7KZwsr-D"
      },
      "source": [
        "### Perform Quantum Encoding"
      ]
    },
    {
      "cell_type": "code",
      "metadata": {
        "id": "2G47HpfIMFZk"
      },
      "source": [
        "per = 1.0\n",
        "x_train_nums = int(x_trans.shape[0]*per)\n",
        "x_test_nums = int(x_trans_test.shape[0]*1.0)"
      ],
      "execution_count": null,
      "outputs": []
    },
    {
      "cell_type": "code",
      "metadata": {
        "id": "Qj_3qGfW9qKW"
      },
      "source": [
        "x_train = x_trans[:x_train_nums]\n",
        "x_test = x_trans_test[:x_test_nums]\n",
        "y_train = y_trans[:x_train_nums]\n",
        "y_test = y_trans_test[:x_test_nums]\n",
        "\n",
        "x_train_small = tf.image.resize(x_train, (4,4)).numpy()\n",
        "x_test_small = tf.image.resize(x_test, (4,4)).numpy()"
      ],
      "execution_count": null,
      "outputs": []
    },
    {
      "cell_type": "code",
      "metadata": {
        "id": "nyuZTWBq8IOH"
      },
      "source": [
        "THRESHOLD = 0.5\n",
        "\n",
        "x_train_bin = np.array(x_train_small > THRESHOLD, dtype=np.float32)\n",
        "x_test_bin = np.array(x_test_small > THRESHOLD, dtype=np.float32)\n",
        "\n",
        "print (x_train_bin.shape)\n",
        "print (x_test_bin.shape)"
      ],
      "execution_count": null,
      "outputs": []
    },
    {
      "cell_type": "code",
      "metadata": {
        "id": "DqvrFuLEwEZJ"
      },
      "source": [
        "import random as random\n",
        "\n",
        "idx = random.randint(0,len(x_train_bin))\n",
        "print('index:', idx , ' label : ', y_train[idx])\n",
        "\n",
        "\n",
        "plt.imshow(x_train_bin[idx,:,:,0])\n",
        "plt.colorbar()"
      ],
      "execution_count": null,
      "outputs": []
    },
    {
      "cell_type": "markdown",
      "metadata": {
        "id": "z6KNTP9qtSNr"
      },
      "source": [
        "### Build Quantum Circuit"
      ]
    },
    {
      "cell_type": "code",
      "metadata": {
        "id": "wumGD0sG8Y-i"
      },
      "source": [
        "def convert_to_circuit(image):\n",
        "    \"\"\"Encode truncated classical image into quantum datapoint.\"\"\"\n",
        "    values = np.ndarray.flatten(image)\n",
        "    qubits = cirq.GridQubit.rect(4, 4)\n",
        "    circuit = cirq.Circuit()\n",
        "    for i, value in enumerate(values):\n",
        "      if value:\n",
        "        circuit.append(cirq.X(qubits[i])) \n",
        "    return circuit"
      ],
      "execution_count": null,
      "outputs": []
    },
    {
      "cell_type": "code",
      "metadata": {
        "id": "ecm73EFf9Nl2"
      },
      "source": [
        "x_train_tfcirc = tfq.convert_to_tensor(x_train_circ)\n",
        "x_test_tfcirc = tfq.convert_to_tensor(x_test_circ)"
      ],
      "execution_count": null,
      "outputs": []
    },
    {
      "cell_type": "code",
      "metadata": {
        "id": "-1Ar1J1Z-Akd"
      },
      "source": [
        "class CircuitLayerBuilder():\n",
        "    def __init__(self, data_qubits, readout):\n",
        "        self.data_qubits = data_qubits\n",
        "        self.readout = readout\n",
        "    \n",
        "    def add_layer(self, circuit, gate, prefix):\n",
        "        for i, qubit in enumerate(self.data_qubits):\n",
        "            symbol = sympy.Symbol(prefix + '-' + str(i))\n",
        "            circuit.append(gate(qubit, self.readout)**symbol)"
      ],
      "execution_count": null,
      "outputs": []
    },
    {
      "cell_type": "code",
      "metadata": {
        "id": "WAUDWo1w-Et_"
      },
      "source": [
        "def create_quantum_model():\n",
        "    \"\"\"Create a QNN model circuit and readout operation to go along with it.\"\"\"\n",
        "    data_qubits = cirq.GridQubit.rect(4, 4)  # a 4x4 grid.\n",
        "    readout = cirq.GridQubit(-1, -1)         # a single qubit at [-1,-1]\n",
        "    circuit = cirq.Circuit()\n",
        "    \n",
        "    # Prepare the readout qubit.\n",
        "    circuit.append(cirq.X(readout))\n",
        "    circuit.append(cirq.H(readout))\n",
        "    \n",
        "    builder = CircuitLayerBuilder(\n",
        "        data_qubits = data_qubits,\n",
        "        readout=readout)\n",
        "\n",
        "    # Then add layers (experiment by adding more).\n",
        "    builder.add_layer(circuit, cirq.XX, \"xx1\")\n",
        "    builder.add_layer(circuit, cirq.ZZ, \"zz1\")\n",
        "    builder.add_layer(circuit, cirq.XX, \"xx2\")\n",
        "    builder.add_layer(circuit, cirq.ZZ, \"zz2\")\n",
        "\n",
        "    builder.add_layer(circuit, cirq.XX, \"xx3\")\n",
        "    builder.add_layer(circuit, cirq.ZZ, \"zz3\")\n",
        "\n",
        "    # Finally, prepare the readout qubit.\n",
        "    circuit.append(cirq.H(readout))\n",
        "\n",
        "    return circuit, cirq.Z(readout)\n",
        "\n",
        "# create the circuit \n",
        "model_circuit, model_readout = create_quantum_model()    "
      ],
      "execution_count": null,
      "outputs": []
    },
    {
      "cell_type": "code",
      "metadata": {
        "id": "mIPIi2ec-Pd_"
      },
      "source": [
        "model_circuit, model_readout = create_quantum_model()"
      ],
      "execution_count": null,
      "outputs": []
    },
    {
      "cell_type": "code",
      "metadata": {
        "id": "NZuRShKbvXLu"
      },
      "source": [
        "import sympy"
      ],
      "execution_count": null,
      "outputs": []
    },
    {
      "cell_type": "code",
      "metadata": {
        "id": "0OwSy40atNaj"
      },
      "source": [
        "SVGCircuit(model_circuit)"
      ],
      "execution_count": null,
      "outputs": []
    },
    {
      "cell_type": "code",
      "metadata": {
        "id": "TN9D8N58-KXF"
      },
      "source": [
        "# Build the Keras model.\n",
        "model = tf.keras.Sequential([\n",
        "    # The input is the data-circuit, encoded as a tf.string\n",
        "    tf.keras.layers.Input(shape=(), dtype=tf.string),\n",
        "    # The PQC layer returns the expected value of the readout gate, range [-1,1].\n",
        "    tfq.layers.PQC(model_circuit, model_readout),\n",
        "])"
      ],
      "execution_count": null,
      "outputs": []
    },
    {
      "cell_type": "code",
      "metadata": {
        "id": "IBtNqKImx3Zr"
      },
      "source": [
        "tf.keras.utils.plot_model(model, show_shapes=True, dpi=70)"
      ],
      "execution_count": null,
      "outputs": []
    },
    {
      "cell_type": "code",
      "metadata": {
        "id": "5-dTjj_u-MOB"
      },
      "source": [
        "y_train_hinge = 2.0*y_train-1.0\n",
        "y_test_hinge = 2.0*y_test-1.0"
      ],
      "execution_count": null,
      "outputs": []
    },
    {
      "cell_type": "code",
      "metadata": {
        "id": "g5hRSuFX-S-1"
      },
      "source": [
        "def hinge_accuracy(y_true, y_pred):\n",
        "    y_true = tf.squeeze(y_true) > 0.0\n",
        "    y_pred = tf.squeeze(y_pred) > 0.0\n",
        "    result = tf.cast(y_true == y_pred, tf.float32)\n",
        "\n",
        "    return tf.reduce_mean(result)"
      ],
      "execution_count": null,
      "outputs": []
    },
    {
      "cell_type": "code",
      "metadata": {
        "id": "agPuIh2k-b4J"
      },
      "source": [
        "model.compile(\n",
        "    loss=tf.keras.losses.Hinge(),\n",
        "    optimizer=tf.keras.optimizers.Adam(),\n",
        "    metrics=[hinge_accuracy])\n"
      ],
      "execution_count": null,
      "outputs": []
    },
    {
      "cell_type": "code",
      "metadata": {
        "id": "6ExQNbXe-diC"
      },
      "source": [
        "print(model.summary())\n",
        "tf.keras.utils.plot_model(model, show_shapes=True, dpi=70)"
      ],
      "execution_count": null,
      "outputs": []
    },
    {
      "cell_type": "code",
      "metadata": {
        "id": "Y0bHM4s6-e-F"
      },
      "source": [
        "EPOCHS = 20\n",
        "BATCH_SIZE = 8\n",
        "\n",
        "NUM_EXAMPLES = len(x_train_tfcirc)"
      ],
      "execution_count": null,
      "outputs": []
    },
    {
      "cell_type": "code",
      "metadata": {
        "id": "YGDlF3hA-g8A"
      },
      "source": [
        "x_train_tfcirc_sub = x_train_tfcirc[:NUM_EXAMPLES]\n",
        "y_train_hinge_sub = y_train_hinge[:NUM_EXAMPLES]"
      ],
      "execution_count": null,
      "outputs": []
    },
    {
      "cell_type": "markdown",
      "metadata": {
        "id": "2mhunsfhtYBK"
      },
      "source": [
        "### Train Qunantum NN"
      ]
    },
    {
      "cell_type": "code",
      "metadata": {
        "id": "bnBHCoeJ-iky"
      },
      "source": [
        "qnn_history = model.fit(\n",
        "      x_train_tfcirc_sub, y_train_hinge_sub,\n",
        "      batch_size=BATCH_SIZE,\n",
        "      epochs=EPOCHS,\n",
        "      verbose=1,\n",
        "      validation_data=(x_test_tfcirc, y_test_hinge))"
      ],
      "execution_count": null,
      "outputs": []
    },
    {
      "cell_type": "code",
      "metadata": {
        "id": "X_6BgV3Q-l57"
      },
      "source": [
        "qnn_results = model.evaluate(x_test_tfcirc, y_test_hinge)"
      ],
      "execution_count": null,
      "outputs": []
    }
  ]
}