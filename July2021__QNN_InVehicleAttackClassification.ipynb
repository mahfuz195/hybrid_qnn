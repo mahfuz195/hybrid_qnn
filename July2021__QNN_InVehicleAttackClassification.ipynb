{
  "nbformat": 4,
  "nbformat_minor": 0,
  "metadata": {
    "colab": {
      "name": "July2021_-QNN-InVehicleAttackClassification.ipynb",
      "provenance": [],
      "collapsed_sections": [
        "mt3rjJfps61o",
        "_pAU9lOLsceg",
        "VcKeCz1uJ5fX"
      ]
    },
    "kernelspec": {
      "display_name": "Python 3",
      "name": "python3"
    }
  },
  "cells": [
    {
      "cell_type": "code",
      "metadata": {
        "colab": {
          "base_uri": "https://localhost:8080/"
        },
        "id": "yROxNdJ_yb3V",
        "outputId": "c582cbbe-b6dd-444f-c6a7-c0ae89081e16"
      },
      "source": [
        "pip install -q tensorflow==2.4.1"
      ],
      "execution_count": null,
      "outputs": [
        {
          "metadata": {
            "tags": null
          },
          "name": "stdout",
          "output_type": "stream",
          "text": [
            "\u001b[K     |████████████████████████████████| 394.3 MB 13 kB/s \n",
            "\u001b[K     |████████████████████████████████| 3.8 MB 43.7 MB/s \n",
            "\u001b[K     |████████████████████████████████| 462 kB 67.1 MB/s \n",
            "\u001b[K     |████████████████████████████████| 2.9 MB 55.3 MB/s \n",
            "\u001b[?25h  Building wheel for wrapt (setup.py) ... \u001b[?25l\u001b[?25hdone\n"
          ]
        }
      ]
    },
    {
      "cell_type": "markdown",
      "metadata": {
        "id": "Igw0r-gjtDFo"
      },
      "source": [
        "### Load Necessary Module"
      ]
    },
    {
      "cell_type": "markdown",
      "metadata": {
        "id": "awqd1yKnHVhX"
      },
      "source": [
        "https://github.com/XanaduAI/quantum-transfer-learning\n",
        "\n",
        "https://colab.research.google.com/drive/1ZU-5khIo9ViM8oS4e_Y5km87kC5dwDtN#scrollTo=D7S-YPmLGV9m\n",
        "\n",
        "https://www.youtube.com/playlist?list=PLQY2H8rRoyvx4VttfJOPRslw8XWT7yaBJ\n",
        "\n",
        "\n",
        "blog explanation: http://maditt.com/tensorflow-quantum-machine-learning-and-quantum-computing-meet-in-an-open-source-library/\n",
        "\n",
        "https://medium.com/mdr-inc/tensorflow-quantum-basic-tutorial-explained-with-supplementary-2f69011036c0"
      ]
    },
    {
      "cell_type": "code",
      "metadata": {
        "colab": {
          "base_uri": "https://localhost:8080/"
        },
        "id": "rc9fo4TYzDpg",
        "outputId": "bc707779-ae33-48d3-b744-65e55188a389"
      },
      "source": [
        "pip install -q tensorflow-quantum"
      ],
      "execution_count": null,
      "outputs": [
        {
          "output_type": "stream",
          "name": "stdout",
          "text": [
            "\u001b[?25h\u001b[?25l\r\u001b[K     |███▋                            | 10 kB 28.5 MB/s eta 0:00:01\r\u001b[K     |███████▏                        | 20 kB 36.1 MB/s eta 0:00:01\r\u001b[K     |██████████▉                     | 30 kB 43.3 MB/s eta 0:00:01\r\u001b[K     |██████████████▍                 | 40 kB 48.0 MB/s eta 0:00:01\r\u001b[K     |██████████████████              | 51 kB 50.3 MB/s eta 0:00:01\r\u001b[K     |█████████████████████▋          | 61 kB 53.9 MB/s eta 0:00:01\r\u001b[K     |█████████████████████████▏      | 71 kB 54.9 MB/s eta 0:00:01\r\u001b[K     |████████████████████████████▊   | 81 kB 56.0 MB/s eta 0:00:01\r\u001b[K     |████████████████████████████████| 91 kB 10.2 MB/s \n",
            "\u001b[?25h\u001b[?25l\r\u001b[K     |███▋                            | 10 kB 30.8 MB/s eta 0:00:01\r\u001b[K     |███████▏                        | 20 kB 36.3 MB/s eta 0:00:01\r\u001b[K     |██████████▉                     | 30 kB 43.8 MB/s eta 0:00:01\r\u001b[K     |██████████████▍                 | 40 kB 48.8 MB/s eta 0:00:01\r\u001b[K     |██████████████████              | 51 kB 51.4 MB/s eta 0:00:01\r\u001b[K     |█████████████████████▋          | 61 kB 55.1 MB/s eta 0:00:01\r\u001b[K     |█████████████████████████▏      | 71 kB 56.8 MB/s eta 0:00:01\r\u001b[K     |████████████████████████████▊   | 81 kB 59.0 MB/s eta 0:00:01\r\u001b[K     |████████████████████████████████| 91 kB 10.8 MB/s \n",
            "\u001b[?25h"
          ]
        }
      ]
    },
    {
      "cell_type": "code",
      "metadata": {
        "id": "saFHsRDpkvkH"
      },
      "source": [
        "import tensorflow as tf\n",
        "import tensorflow_quantum as tfq\n",
        "\n",
        "import cirq\n",
        "import sympy\n",
        "import numpy as np\n",
        "import seaborn as sns\n",
        "import collections\n",
        "\n",
        "# visualization tools\n",
        "%matplotlib inline\n",
        "import matplotlib.pyplot as plt\n",
        "from cirq.contrib.svg import SVGCircuit\n"
      ],
      "execution_count": null,
      "outputs": []
    },
    {
      "cell_type": "code",
      "metadata": {
        "colab": {
          "base_uri": "https://localhost:8080/"
        },
        "id": "hHNn6Znas6dK",
        "outputId": "c1278148-76d6-4700-9b23-0447385fdc2f"
      },
      "source": [
        "print ('Module Load Done!')"
      ],
      "execution_count": null,
      "outputs": [
        {
          "output_type": "stream",
          "name": "stdout",
          "text": [
            "Module Load Done!\n"
          ]
        }
      ]
    },
    {
      "cell_type": "markdown",
      "metadata": {
        "id": "mt3rjJfps61o"
      },
      "source": [
        "### Data Read and Pre-processing"
      ]
    },
    {
      "cell_type": "code",
      "metadata": {
        "id": "I1R9mgInzcRH"
      },
      "source": [
        "import pandas as pd\n",
        "from sklearn.preprocessing import MinMaxScaler,StandardScaler"
      ],
      "execution_count": null,
      "outputs": []
    },
    {
      "cell_type": "code",
      "metadata": {
        "id": "z_ALt3LlzgqA"
      },
      "source": [
        "df_x = pd.read_csv('/content/drive/My Drive/zadid/X_train2.txt',names=[ str(i) for i in range(1,14)])\n",
        "df_y = pd.read_csv('/content/drive/My Drive/zadid/y_train2.txt',names=['label'])\n",
        "\n",
        "df_x_test = pd.read_csv('/content/drive/My Drive/zadid/X_test2.txt',names=[ str(i) for i in range(1,14)])\n",
        "df_y_test = pd.read_csv('/content/drive/My Drive/zadid/y_test2.txt',names=['label'])\n",
        "\n",
        "\n",
        "df_x = df_x.abs()\n",
        "df_x_test = df_x_test.abs()"
      ],
      "execution_count": null,
      "outputs": []
    },
    {
      "cell_type": "code",
      "metadata": {
        "id": "PAzwRMXXhFlz",
        "colab": {
          "base_uri": "https://localhost:8080/"
        },
        "outputId": "4a5caf79-8e82-4a19-bc10-64d8e44fc1e5"
      },
      "source": [
        "df_x_test.min()"
      ],
      "execution_count": null,
      "outputs": [
        {
          "output_type": "execute_result",
          "data": {
            "text/plain": [
              "1      0.0000\n",
              "2      0.0000\n",
              "3      0.0000\n",
              "4      0.0000\n",
              "5      4.4547\n",
              "6      0.0000\n",
              "7      0.8391\n",
              "8      0.0000\n",
              "9      0.0000\n",
              "10     0.0000\n",
              "11     0.0000\n",
              "12     0.0000\n",
              "13    53.5160\n",
              "dtype: float64"
            ]
          },
          "metadata": {
            "tags": []
          },
          "execution_count": 14
        }
      ]
    },
    {
      "cell_type": "code",
      "metadata": {
        "id": "TAfUKU9d5Vw5"
      },
      "source": [
        "min_max_scaler = MinMaxScaler()\n",
        "scaler = StandardScaler()\n",
        "df_x = pd.DataFrame(scaler.fit_transform(df_x), columns=df_x.columns)\n",
        "df_x = pd.DataFrame(min_max_scaler.fit_transform(df_x), columns=df_x.columns)\n",
        "\n",
        "df_x_test = pd.DataFrame(scaler.fit_transform(df_x_test), columns=df_x.columns)\n",
        "df_x_test = pd.DataFrame(min_max_scaler.fit_transform(df_x_test), columns=df_x.columns)"
      ],
      "execution_count": null,
      "outputs": []
    },
    {
      "cell_type": "code",
      "metadata": {
        "colab": {
          "base_uri": "https://localhost:8080/",
          "height": 204
        },
        "id": "jHn-cHvUgE-6",
        "outputId": "c665953f-a505-446e-ca91-fb24d7c70fc6"
      },
      "source": [
        "df_x.head()"
      ],
      "execution_count": null,
      "outputs": [
        {
          "output_type": "execute_result",
          "data": {
            "text/html": [
              "<div>\n",
              "<style scoped>\n",
              "    .dataframe tbody tr th:only-of-type {\n",
              "        vertical-align: middle;\n",
              "    }\n",
              "\n",
              "    .dataframe tbody tr th {\n",
              "        vertical-align: top;\n",
              "    }\n",
              "\n",
              "    .dataframe thead th {\n",
              "        text-align: right;\n",
              "    }\n",
              "</style>\n",
              "<table border=\"1\" class=\"dataframe\">\n",
              "  <thead>\n",
              "    <tr style=\"text-align: right;\">\n",
              "      <th></th>\n",
              "      <th>1</th>\n",
              "      <th>2</th>\n",
              "      <th>3</th>\n",
              "      <th>4</th>\n",
              "      <th>5</th>\n",
              "      <th>6</th>\n",
              "      <th>7</th>\n",
              "      <th>8</th>\n",
              "      <th>9</th>\n",
              "      <th>10</th>\n",
              "      <th>11</th>\n",
              "      <th>12</th>\n",
              "      <th>13</th>\n",
              "    </tr>\n",
              "  </thead>\n",
              "  <tbody>\n",
              "    <tr>\n",
              "      <th>0</th>\n",
              "      <td>0.0</td>\n",
              "      <td>0.0</td>\n",
              "      <td>0.0</td>\n",
              "      <td>0.0</td>\n",
              "      <td>0.332005</td>\n",
              "      <td>0.0</td>\n",
              "      <td>1.0</td>\n",
              "      <td>0.066667</td>\n",
              "      <td>0.0</td>\n",
              "      <td>0.0</td>\n",
              "      <td>0.0</td>\n",
              "      <td>0.14176</td>\n",
              "      <td>0.0</td>\n",
              "    </tr>\n",
              "    <tr>\n",
              "      <th>1</th>\n",
              "      <td>0.0</td>\n",
              "      <td>0.0</td>\n",
              "      <td>0.0</td>\n",
              "      <td>0.0</td>\n",
              "      <td>0.332005</td>\n",
              "      <td>0.0</td>\n",
              "      <td>1.0</td>\n",
              "      <td>0.066667</td>\n",
              "      <td>0.0</td>\n",
              "      <td>0.0</td>\n",
              "      <td>0.0</td>\n",
              "      <td>0.14176</td>\n",
              "      <td>0.0</td>\n",
              "    </tr>\n",
              "    <tr>\n",
              "      <th>2</th>\n",
              "      <td>0.0</td>\n",
              "      <td>0.0</td>\n",
              "      <td>0.0</td>\n",
              "      <td>0.0</td>\n",
              "      <td>0.332005</td>\n",
              "      <td>0.0</td>\n",
              "      <td>1.0</td>\n",
              "      <td>0.066667</td>\n",
              "      <td>0.0</td>\n",
              "      <td>0.0</td>\n",
              "      <td>0.0</td>\n",
              "      <td>0.14176</td>\n",
              "      <td>0.0</td>\n",
              "    </tr>\n",
              "    <tr>\n",
              "      <th>3</th>\n",
              "      <td>0.0</td>\n",
              "      <td>0.0</td>\n",
              "      <td>0.0</td>\n",
              "      <td>0.0</td>\n",
              "      <td>0.332005</td>\n",
              "      <td>0.0</td>\n",
              "      <td>1.0</td>\n",
              "      <td>0.053921</td>\n",
              "      <td>0.0</td>\n",
              "      <td>0.0</td>\n",
              "      <td>0.0</td>\n",
              "      <td>0.14176</td>\n",
              "      <td>0.0</td>\n",
              "    </tr>\n",
              "    <tr>\n",
              "      <th>4</th>\n",
              "      <td>0.0</td>\n",
              "      <td>0.0</td>\n",
              "      <td>0.0</td>\n",
              "      <td>0.0</td>\n",
              "      <td>0.332005</td>\n",
              "      <td>0.0</td>\n",
              "      <td>1.0</td>\n",
              "      <td>0.000000</td>\n",
              "      <td>0.0</td>\n",
              "      <td>0.0</td>\n",
              "      <td>0.0</td>\n",
              "      <td>0.14176</td>\n",
              "      <td>0.0</td>\n",
              "    </tr>\n",
              "  </tbody>\n",
              "</table>\n",
              "</div>"
            ],
            "text/plain": [
              "     1    2    3    4         5    6  ...         8    9   10   11       12   13\n",
              "0  0.0  0.0  0.0  0.0  0.332005  0.0  ...  0.066667  0.0  0.0  0.0  0.14176  0.0\n",
              "1  0.0  0.0  0.0  0.0  0.332005  0.0  ...  0.066667  0.0  0.0  0.0  0.14176  0.0\n",
              "2  0.0  0.0  0.0  0.0  0.332005  0.0  ...  0.066667  0.0  0.0  0.0  0.14176  0.0\n",
              "3  0.0  0.0  0.0  0.0  0.332005  0.0  ...  0.053921  0.0  0.0  0.0  0.14176  0.0\n",
              "4  0.0  0.0  0.0  0.0  0.332005  0.0  ...  0.000000  0.0  0.0  0.0  0.14176  0.0\n",
              "\n",
              "[5 rows x 13 columns]"
            ]
          },
          "metadata": {
            "tags": []
          },
          "execution_count": 16
        }
      ]
    },
    {
      "cell_type": "code",
      "metadata": {
        "colab": {
          "base_uri": "https://localhost:8080/",
          "height": 317
        },
        "id": "TGq5641wrVmO",
        "outputId": "fa630333-a238-422b-aa2f-f910bbac1952"
      },
      "source": [
        "df_x.describe()"
      ],
      "execution_count": null,
      "outputs": [
        {
          "output_type": "execute_result",
          "data": {
            "text/html": [
              "<div>\n",
              "<style scoped>\n",
              "    .dataframe tbody tr th:only-of-type {\n",
              "        vertical-align: middle;\n",
              "    }\n",
              "\n",
              "    .dataframe tbody tr th {\n",
              "        vertical-align: top;\n",
              "    }\n",
              "\n",
              "    .dataframe thead th {\n",
              "        text-align: right;\n",
              "    }\n",
              "</style>\n",
              "<table border=\"1\" class=\"dataframe\">\n",
              "  <thead>\n",
              "    <tr style=\"text-align: right;\">\n",
              "      <th></th>\n",
              "      <th>1</th>\n",
              "      <th>2</th>\n",
              "      <th>3</th>\n",
              "      <th>4</th>\n",
              "      <th>5</th>\n",
              "      <th>6</th>\n",
              "      <th>7</th>\n",
              "      <th>8</th>\n",
              "      <th>9</th>\n",
              "      <th>10</th>\n",
              "      <th>11</th>\n",
              "      <th>12</th>\n",
              "      <th>13</th>\n",
              "    </tr>\n",
              "  </thead>\n",
              "  <tbody>\n",
              "    <tr>\n",
              "      <th>count</th>\n",
              "      <td>60000.000000</td>\n",
              "      <td>60000.000000</td>\n",
              "      <td>60000.000000</td>\n",
              "      <td>60000.000000</td>\n",
              "      <td>60000.000000</td>\n",
              "      <td>60000.000000</td>\n",
              "      <td>60000.000000</td>\n",
              "      <td>60000.000000</td>\n",
              "      <td>60000.000000</td>\n",
              "      <td>60000.000000</td>\n",
              "      <td>60000.000000</td>\n",
              "      <td>60000.000000</td>\n",
              "      <td>60000.000000</td>\n",
              "    </tr>\n",
              "    <tr>\n",
              "      <th>mean</th>\n",
              "      <td>0.111312</td>\n",
              "      <td>0.280730</td>\n",
              "      <td>0.293126</td>\n",
              "      <td>0.280681</td>\n",
              "      <td>0.355493</td>\n",
              "      <td>0.174546</td>\n",
              "      <td>0.635420</td>\n",
              "      <td>0.043769</td>\n",
              "      <td>0.041899</td>\n",
              "      <td>0.185160</td>\n",
              "      <td>0.269405</td>\n",
              "      <td>0.232466</td>\n",
              "      <td>0.293264</td>\n",
              "    </tr>\n",
              "    <tr>\n",
              "      <th>std</th>\n",
              "      <td>0.291110</td>\n",
              "      <td>0.156833</td>\n",
              "      <td>0.136418</td>\n",
              "      <td>0.164517</td>\n",
              "      <td>0.112911</td>\n",
              "      <td>0.224669</td>\n",
              "      <td>0.424832</td>\n",
              "      <td>0.115761</td>\n",
              "      <td>0.101211</td>\n",
              "      <td>0.089285</td>\n",
              "      <td>0.152598</td>\n",
              "      <td>0.148484</td>\n",
              "      <td>0.235429</td>\n",
              "    </tr>\n",
              "    <tr>\n",
              "      <th>min</th>\n",
              "      <td>0.000000</td>\n",
              "      <td>0.000000</td>\n",
              "      <td>0.000000</td>\n",
              "      <td>0.000000</td>\n",
              "      <td>0.000000</td>\n",
              "      <td>0.000000</td>\n",
              "      <td>0.000000</td>\n",
              "      <td>0.000000</td>\n",
              "      <td>0.000000</td>\n",
              "      <td>0.000000</td>\n",
              "      <td>0.000000</td>\n",
              "      <td>0.000000</td>\n",
              "      <td>0.000000</td>\n",
              "    </tr>\n",
              "    <tr>\n",
              "      <th>25%</th>\n",
              "      <td>0.000000</td>\n",
              "      <td>0.205708</td>\n",
              "      <td>0.188006</td>\n",
              "      <td>0.205708</td>\n",
              "      <td>0.251963</td>\n",
              "      <td>0.000000</td>\n",
              "      <td>0.138599</td>\n",
              "      <td>0.000000</td>\n",
              "      <td>0.000000</td>\n",
              "      <td>0.150286</td>\n",
              "      <td>0.187022</td>\n",
              "      <td>0.170102</td>\n",
              "      <td>0.105232</td>\n",
              "    </tr>\n",
              "    <tr>\n",
              "      <th>50%</th>\n",
              "      <td>0.000000</td>\n",
              "      <td>0.245717</td>\n",
              "      <td>0.232371</td>\n",
              "      <td>0.245717</td>\n",
              "      <td>0.406568</td>\n",
              "      <td>0.070175</td>\n",
              "      <td>1.000000</td>\n",
              "      <td>0.000000</td>\n",
              "      <td>0.000000</td>\n",
              "      <td>0.190757</td>\n",
              "      <td>0.223397</td>\n",
              "      <td>0.203186</td>\n",
              "      <td>0.175432</td>\n",
              "    </tr>\n",
              "    <tr>\n",
              "      <th>75%</th>\n",
              "      <td>0.000000</td>\n",
              "      <td>0.274287</td>\n",
              "      <td>0.364653</td>\n",
              "      <td>0.274287</td>\n",
              "      <td>0.432020</td>\n",
              "      <td>0.315789</td>\n",
              "      <td>1.000000</td>\n",
              "      <td>0.000000</td>\n",
              "      <td>0.000000</td>\n",
              "      <td>0.202314</td>\n",
              "      <td>0.256075</td>\n",
              "      <td>0.225792</td>\n",
              "      <td>0.438581</td>\n",
              "    </tr>\n",
              "    <tr>\n",
              "      <th>max</th>\n",
              "      <td>1.000000</td>\n",
              "      <td>1.000000</td>\n",
              "      <td>1.000000</td>\n",
              "      <td>1.000000</td>\n",
              "      <td>1.000000</td>\n",
              "      <td>1.000000</td>\n",
              "      <td>1.000000</td>\n",
              "      <td>1.000000</td>\n",
              "      <td>1.000000</td>\n",
              "      <td>1.000000</td>\n",
              "      <td>1.000000</td>\n",
              "      <td>1.000000</td>\n",
              "      <td>1.000000</td>\n",
              "    </tr>\n",
              "  </tbody>\n",
              "</table>\n",
              "</div>"
            ],
            "text/plain": [
              "                  1             2  ...            12            13\n",
              "count  60000.000000  60000.000000  ...  60000.000000  60000.000000\n",
              "mean       0.111312      0.280730  ...      0.232466      0.293264\n",
              "std        0.291110      0.156833  ...      0.148484      0.235429\n",
              "min        0.000000      0.000000  ...      0.000000      0.000000\n",
              "25%        0.000000      0.205708  ...      0.170102      0.105232\n",
              "50%        0.000000      0.245717  ...      0.203186      0.175432\n",
              "75%        0.000000      0.274287  ...      0.225792      0.438581\n",
              "max        1.000000      1.000000  ...      1.000000      1.000000\n",
              "\n",
              "[8 rows x 13 columns]"
            ]
          },
          "metadata": {
            "tags": []
          },
          "execution_count": 17
        }
      ]
    },
    {
      "cell_type": "code",
      "metadata": {
        "colab": {
          "base_uri": "https://localhost:8080/",
          "height": 317
        },
        "id": "RYYxIGNLoiaK",
        "outputId": "3d423ab1-dfbe-46e9-acb1-2b474da78507"
      },
      "source": [
        "df_x_test.describe()"
      ],
      "execution_count": null,
      "outputs": [
        {
          "output_type": "execute_result",
          "data": {
            "text/html": [
              "<div>\n",
              "<style scoped>\n",
              "    .dataframe tbody tr th:only-of-type {\n",
              "        vertical-align: middle;\n",
              "    }\n",
              "\n",
              "    .dataframe tbody tr th {\n",
              "        vertical-align: top;\n",
              "    }\n",
              "\n",
              "    .dataframe thead th {\n",
              "        text-align: right;\n",
              "    }\n",
              "</style>\n",
              "<table border=\"1\" class=\"dataframe\">\n",
              "  <thead>\n",
              "    <tr style=\"text-align: right;\">\n",
              "      <th></th>\n",
              "      <th>1</th>\n",
              "      <th>2</th>\n",
              "      <th>3</th>\n",
              "      <th>4</th>\n",
              "      <th>5</th>\n",
              "      <th>6</th>\n",
              "      <th>7</th>\n",
              "      <th>8</th>\n",
              "      <th>9</th>\n",
              "      <th>10</th>\n",
              "      <th>11</th>\n",
              "      <th>12</th>\n",
              "      <th>13</th>\n",
              "    </tr>\n",
              "  </thead>\n",
              "  <tbody>\n",
              "    <tr>\n",
              "      <th>count</th>\n",
              "      <td>35210.000000</td>\n",
              "      <td>35210.000000</td>\n",
              "      <td>35210.000000</td>\n",
              "      <td>35210.000000</td>\n",
              "      <td>35210.000000</td>\n",
              "      <td>35210.000000</td>\n",
              "      <td>35210.000000</td>\n",
              "      <td>35210.000000</td>\n",
              "      <td>35210.000000</td>\n",
              "      <td>35210.000000</td>\n",
              "      <td>35210.000000</td>\n",
              "      <td>35210.000000</td>\n",
              "      <td>35210.000000</td>\n",
              "    </tr>\n",
              "    <tr>\n",
              "      <th>mean</th>\n",
              "      <td>0.162156</td>\n",
              "      <td>0.309992</td>\n",
              "      <td>0.394365</td>\n",
              "      <td>0.311496</td>\n",
              "      <td>0.367256</td>\n",
              "      <td>0.206934</td>\n",
              "      <td>0.641478</td>\n",
              "      <td>0.066525</td>\n",
              "      <td>0.076325</td>\n",
              "      <td>0.206114</td>\n",
              "      <td>0.324016</td>\n",
              "      <td>0.323988</td>\n",
              "      <td>0.359714</td>\n",
              "    </tr>\n",
              "    <tr>\n",
              "      <th>std</th>\n",
              "      <td>0.363544</td>\n",
              "      <td>0.195180</td>\n",
              "      <td>0.176574</td>\n",
              "      <td>0.192277</td>\n",
              "      <td>0.143355</td>\n",
              "      <td>0.250671</td>\n",
              "      <td>0.424102</td>\n",
              "      <td>0.156931</td>\n",
              "      <td>0.162864</td>\n",
              "      <td>0.102827</td>\n",
              "      <td>0.199943</td>\n",
              "      <td>0.204097</td>\n",
              "      <td>0.271267</td>\n",
              "    </tr>\n",
              "    <tr>\n",
              "      <th>min</th>\n",
              "      <td>0.000000</td>\n",
              "      <td>0.000000</td>\n",
              "      <td>0.000000</td>\n",
              "      <td>0.000000</td>\n",
              "      <td>0.000000</td>\n",
              "      <td>0.000000</td>\n",
              "      <td>0.000000</td>\n",
              "      <td>0.000000</td>\n",
              "      <td>0.000000</td>\n",
              "      <td>0.000000</td>\n",
              "      <td>0.000000</td>\n",
              "      <td>0.000000</td>\n",
              "      <td>0.000000</td>\n",
              "    </tr>\n",
              "    <tr>\n",
              "      <th>25%</th>\n",
              "      <td>0.000000</td>\n",
              "      <td>0.207101</td>\n",
              "      <td>0.243287</td>\n",
              "      <td>0.213009</td>\n",
              "      <td>0.243633</td>\n",
              "      <td>0.000000</td>\n",
              "      <td>0.138599</td>\n",
              "      <td>0.000000</td>\n",
              "      <td>0.000000</td>\n",
              "      <td>0.130772</td>\n",
              "      <td>0.218932</td>\n",
              "      <td>0.214939</td>\n",
              "      <td>0.119963</td>\n",
              "    </tr>\n",
              "    <tr>\n",
              "      <th>50%</th>\n",
              "      <td>0.000000</td>\n",
              "      <td>0.254438</td>\n",
              "      <td>0.308822</td>\n",
              "      <td>0.254438</td>\n",
              "      <td>0.390716</td>\n",
              "      <td>0.135259</td>\n",
              "      <td>1.000000</td>\n",
              "      <td>0.000000</td>\n",
              "      <td>0.000000</td>\n",
              "      <td>0.199554</td>\n",
              "      <td>0.254529</td>\n",
              "      <td>0.265561</td>\n",
              "      <td>0.199990</td>\n",
              "    </tr>\n",
              "    <tr>\n",
              "      <th>75%</th>\n",
              "      <td>0.000000</td>\n",
              "      <td>0.314106</td>\n",
              "      <td>0.471703</td>\n",
              "      <td>0.313545</td>\n",
              "      <td>0.474729</td>\n",
              "      <td>0.328273</td>\n",
              "      <td>1.000000</td>\n",
              "      <td>0.000000</td>\n",
              "      <td>0.000000</td>\n",
              "      <td>0.233877</td>\n",
              "      <td>0.331359</td>\n",
              "      <td>0.327315</td>\n",
              "      <td>0.499974</td>\n",
              "    </tr>\n",
              "    <tr>\n",
              "      <th>max</th>\n",
              "      <td>1.000000</td>\n",
              "      <td>1.000000</td>\n",
              "      <td>1.000000</td>\n",
              "      <td>1.000000</td>\n",
              "      <td>1.000000</td>\n",
              "      <td>1.000000</td>\n",
              "      <td>1.000000</td>\n",
              "      <td>1.000000</td>\n",
              "      <td>1.000000</td>\n",
              "      <td>1.000000</td>\n",
              "      <td>1.000000</td>\n",
              "      <td>1.000000</td>\n",
              "      <td>1.000000</td>\n",
              "    </tr>\n",
              "  </tbody>\n",
              "</table>\n",
              "</div>"
            ],
            "text/plain": [
              "                  1             2  ...            12            13\n",
              "count  35210.000000  35210.000000  ...  35210.000000  35210.000000\n",
              "mean       0.162156      0.309992  ...      0.323988      0.359714\n",
              "std        0.363544      0.195180  ...      0.204097      0.271267\n",
              "min        0.000000      0.000000  ...      0.000000      0.000000\n",
              "25%        0.000000      0.207101  ...      0.214939      0.119963\n",
              "50%        0.000000      0.254438  ...      0.265561      0.199990\n",
              "75%        0.000000      0.314106  ...      0.327315      0.499974\n",
              "max        1.000000      1.000000  ...      1.000000      1.000000\n",
              "\n",
              "[8 rows x 13 columns]"
            ]
          },
          "metadata": {
            "tags": []
          },
          "execution_count": 18
        }
      ]
    },
    {
      "cell_type": "code",
      "metadata": {
        "colab": {
          "base_uri": "https://localhost:8080/"
        },
        "id": "uomMZr92gmx0",
        "outputId": "4f465c7d-fb78-40f3-e3a5-09ac7fb8b342"
      },
      "source": [
        "#df_y.head()\n",
        "#print (df_x[['1']].max())\n",
        "print (df_x[['2']].max())\n",
        "\n",
        "print (len(df_x))"
      ],
      "execution_count": null,
      "outputs": [
        {
          "output_type": "stream",
          "text": [
            "2    1.0\n",
            "dtype: float64\n",
            "60000\n"
          ],
          "name": "stdout"
        }
      ]
    },
    {
      "cell_type": "markdown",
      "metadata": {
        "id": "_pAU9lOLsceg"
      },
      "source": [
        "### Build CAN image"
      ]
    },
    {
      "cell_type": "code",
      "metadata": {
        "colab": {
          "base_uri": "https://localhost:8080/"
        },
        "id": "dFcQ2WNYgC0G",
        "outputId": "4366cfe0-d727-40fb-8b54-88234aa702a6"
      },
      "source": [
        "x = []\n",
        "y = []\n",
        "\n",
        "np_x = df_x.to_numpy()[1000:40000]\n",
        "np_y = df_y.to_numpy()[1000:40000]\n",
        "\n",
        "\n",
        "print ('processing train data...')\n",
        "for i in range(len(np_x)-13):\n",
        "    if(i%13==0):\n",
        "      img = np_x[i:i+13,:].reshape(13,13,1)\n",
        "      #img = np_x[i,:]\n",
        "      img = np.resize(img,(4,4,1))\n",
        "        \n",
        "      label = 1 if 1 in np_y[i:i+13,:] else 0\n",
        "      #label = np_y[i] #1 if 1 in np_y[i:i+13,:] else 0\n",
        "      x.append(img)\n",
        "      y.append(label)\n",
        "\n",
        "    #i+=13\n",
        "\n",
        "print ('Done')\n",
        "\n",
        "x_train = np.array(x)\n",
        "y_train = np.array(y)"
      ],
      "execution_count": null,
      "outputs": [
        {
          "output_type": "stream",
          "text": [
            "processing train data...\n",
            "Done\n"
          ],
          "name": "stdout"
        }
      ]
    },
    {
      "cell_type": "code",
      "metadata": {
        "colab": {
          "base_uri": "https://localhost:8080/",
          "height": 86
        },
        "id": "LmOsz284fbsw",
        "outputId": "a27f6955-f477-452c-b4fa-72d5dabb3669"
      },
      "source": [
        "\"\"\"\n",
        "x = []\n",
        "y = []\n",
        "\n",
        "np_x = df_x_test.to_numpy()#[1000:60000]\n",
        "np_y = df_y_test.to_numpy()#[1000:60000]\n",
        "\n",
        "\n",
        "print ('processing train data...')\n",
        "for i in range(len(np_x)-13):\n",
        "    if(i%13==0):\n",
        "      img = np_x[i:i+13,:].reshape(13,13,1)\n",
        "      #img = np_x[i,:]\n",
        "      #img = np.resize(img,(4,4,1))\n",
        "        \n",
        "      label = 1 if 1 in np_y[i:i+13,:] else 0\n",
        "      #label = np_y[i] #1 if 1 in np_y[i:i+13,:] else 0\n",
        "      x.append(img)\n",
        "      y.append(label)\n",
        "\n",
        "    #i+=13\n",
        "\n",
        "print ('Done')\n",
        "x_test = np.array(x)\n",
        "y_test = np.array(y)\n",
        "\"\"\""
      ],
      "execution_count": null,
      "outputs": [
        {
          "output_type": "execute_result",
          "data": {
            "application/vnd.google.colaboratory.intrinsic+json": {
              "type": "string"
            },
            "text/plain": [
              "\"\\nx = []\\ny = []\\n\\nnp_x = df_x_test.to_numpy()#[1000:60000]\\nnp_y = df_y_test.to_numpy()#[1000:60000]\\n\\n\\nprint ('processing train data...')\\nfor i in range(len(np_x)-13):\\n    if(i%13==0):\\n      img = np_x[i:i+13,:].reshape(13,13,1)\\n      #img = np_x[i,:]\\n      #img = np.resize(img,(4,4,1))\\n        \\n      label = 1 if 1 in np_y[i:i+13,:] else 0\\n      #label = np_y[i] #1 if 1 in np_y[i:i+13,:] else 0\\n      x.append(img)\\n      y.append(label)\\n\\n    #i+=13\\n\\nprint ('Done')\\nx_test = np.array(x)\\ny_test = np.array(y)\\n\""
            ]
          },
          "metadata": {
            "tags": []
          },
          "execution_count": 22
        }
      ]
    },
    {
      "cell_type": "code",
      "metadata": {
        "id": "f0km9qGE4Qq9"
      },
      "source": [
        "x = np.array(x_train)\n",
        "y = np.array(y_train)\n",
        "\n",
        "#t_size = int(0.8*len(x))\n",
        "#x_train, x_test = x[:t_size], x[t_size:]\n",
        "#y_train, y_test = y[:t_size], y[t_size:]\n",
        "\n",
        "#import numpy as np\n",
        "from sklearn.model_selection import train_test_split\n",
        "x_train, x_test, y_train, y_test = train_test_split(x, y, test_size=0.3, random_state=42)\n",
        "\n",
        "#x_train = np.array(x_train)\n",
        "#y_train = np.array(y_train)\n",
        "#x_test = np.array(x_test)\n",
        "#y_test = np.array(y_test)\n"
      ],
      "execution_count": null,
      "outputs": []
    },
    {
      "cell_type": "code",
      "metadata": {
        "colab": {
          "base_uri": "https://localhost:8080/"
        },
        "id": "FTkW1n_e5jdo",
        "outputId": "95b75a41-73db-472e-f2b5-7c69a8f0c2bf"
      },
      "source": [
        "print ('X train shape: ', x_train.shape)\n",
        "print ('X Test shape: ', x_test.shape)\n",
        "print ('y train shape: ', y_train.shape)\n",
        "print ('y test shape: ', y_test.shape)"
      ],
      "execution_count": null,
      "outputs": [
        {
          "output_type": "stream",
          "text": [
            "X train shape:  (2099, 4, 4, 1)\n",
            "X Test shape:  (900, 4, 4, 1)\n",
            "y train shape:  (2099,)\n",
            "y test shape:  (900,)\n"
          ],
          "name": "stdout"
        }
      ]
    },
    {
      "cell_type": "markdown",
      "metadata": {
        "id": "VcKeCz1uJ5fX"
      },
      "source": [
        "### Train a neural network"
      ]
    },
    {
      "cell_type": "code",
      "metadata": {
        "id": "6-jv5k4VJ9ON"
      },
      "source": [
        "def create_full_classical_model():\n",
        "    # A simple model based off LeNet \n",
        "    model = tf.keras.Sequential()\n",
        "    model.add(tf.keras.layers.Flatten(input_shape=(13,13,1)))\n",
        "    model.add(tf.keras.layers.Dense(100, activation='relu'))\n",
        "    model.add(tf.keras.layers.Dense(16))\n",
        "    model.add(tf.keras.layers.Dense(1))\n",
        "    return model\n",
        "\n",
        "\n",
        "model = create_full_classical_model()\n",
        "model.compile(loss=tf.keras.losses.BinaryCrossentropy(from_logits=True),\n",
        "              optimizer=tf.keras.optimizers.Adam(),\n",
        "              metrics=['accuracy'])\n",
        "\n",
        "model.summary()\n",
        "\n",
        "EPOCHS = 100\n",
        "BATCH_SIZE = 8\n",
        "\n",
        "fair_history = model.fit(x_train,\n",
        "          y_train,\n",
        "          batch_size=BATCH_SIZE,\n",
        "          epochs=EPOCHS,\n",
        "          verbose=1,\n",
        "          validation_data=(x_test, y_test))\n",
        "\n",
        "fair_nn_results = model.evaluate(x_test, y_test)"
      ],
      "execution_count": null,
      "outputs": []
    },
    {
      "cell_type": "code",
      "metadata": {
        "id": "bG9UvJSaK9T4",
        "colab": {
          "base_uri": "https://localhost:8080/"
        },
        "outputId": "4cc97419-4aec-4680-817e-940f9e646702"
      },
      "source": [
        "plt.plot(fair_history.history['accuracy'])\n",
        "plt.plot(fair_history.history['val_accuracy'])\n",
        "plt.title('model accuracy')\n",
        "plt.ylabel('accuracy')\n",
        "plt.xlabel('epoch')\n",
        "plt.legend(['train', 'test'], loc='upper left')\n",
        "plt.show()\n",
        "# summarize history for loss\n",
        "plt.plot(fair_history.history['loss'])\n",
        "plt.plot(fair_history.history['val_loss'])\n",
        "plt.title('model loss')\n",
        "plt.ylabel('loss')\n",
        "plt.xlabel('epoch')\n",
        "plt.legend(['train', 'test'], loc='upper left')\n",
        "plt.show()"
      ],
      "execution_count": null,
      "outputs": [
        {
          "output_type": "display_data",
          "data": {
            "image/png": "[encoded data removed]",
            "text/plain": [
              "<Figure size 432x288 with 1 Axes>"
            ]
          },
          "metadata": {
            "tags": [],
            "needs_background": "light"
          }
        },
        {
          "output_type": "display_data",
          "data": {
            "image/png": "[encoded data removed]",
            "text/plain": [
              "<Figure size 432x288 with 1 Axes>"
            ]
          },
          "metadata": {
            "tags": [],
            "needs_background": "light"
          }
        }
      ]
    },
    {
      "cell_type": "code",
      "metadata": {
        "id": "uruDSYYlNi6g",
        "colab": {
          "base_uri": "https://localhost:8080/"
        },
        "outputId": "d44d36e3-2c29-486c-f6f2-534500da16ae"
      },
      "source": [
        "model.summary()"
      ],
      "execution_count": null,
      "outputs": [
        {
          "output_type": "stream",
          "text": [
            "Model: \"sequential\"\n",
            "_________________________________________________________________\n",
            "Layer (type)                 Output Shape              Param #   \n",
            "=================================================================\n",
            "flatten (Flatten)            (None, 169)               0         \n",
            "_________________________________________________________________\n",
            "dense (Dense)                (None, 100)               17000     \n",
            "_________________________________________________________________\n",
            "dense_1 (Dense)              (None, 16)                1616      \n",
            "_________________________________________________________________\n",
            "dense_2 (Dense)              (None, 1)                 17        \n",
            "=================================================================\n",
            "Total params: 18,633\n",
            "Trainable params: 18,633\n",
            "Non-trainable params: 0\n",
            "_________________________________________________________________\n"
          ],
          "name": "stdout"
        }
      ]
    },
    {
      "cell_type": "code",
      "metadata": {
        "colab": {
          "base_uri": "https://localhost:8080/"
        },
        "id": "QK5CRDQgogfM",
        "outputId": "35dd47fc-00fa-4339-9513-44b1444bdd1b"
      },
      "source": [
        "model.layers[-2].name"
      ],
      "execution_count": null,
      "outputs": [
        {
          "output_type": "execute_result",
          "data": {
            "application/vnd.google.colaboratory.intrinsic+json": {
              "type": "string"
            },
            "text/plain": [
              "'dense_1'"
            ]
          },
          "metadata": {
            "tags": []
          },
          "execution_count": 21
        }
      ]
    },
    {
      "cell_type": "code",
      "metadata": {
        "id": "wu64yfXDMXsK",
        "colab": {
          "base_uri": "https://localhost:8080/"
        },
        "outputId": "63abdfce-2a35-4cdb-ceb3-31a0ce39e732"
      },
      "source": [
        "from tensorflow.keras.models import Model\n",
        "from sklearn.preprocessing import minmax_scale\n",
        "\n",
        "print (x_test[0].shape)\n",
        "layer_name = model.layers[-2].name\n",
        "intermediate_layer_model = Model(inputs=model.input,\n",
        "                                 outputs=model.get_layer(layer_name).output)\n",
        "intermediate_output = intermediate_layer_model.predict(x_test[0][None, :, :, :])\n",
        "\n",
        "#print (intermediate_output)\n",
        "foo_norm = minmax_scale(intermediate_output, feature_range=(0,1), axis=1)\n",
        "print (foo_norm)\n"
      ],
      "execution_count": null,
      "outputs": [
        {
          "output_type": "stream",
          "text": [
            "(13, 13, 1)\n",
            "[[0.20555902 0.15401259 0.69690347 0.8265917  0.16278183 0.37077922\n",
            "  0.         0.10360798 0.31347847 0.80509543 0.7752855  0.26893374\n",
            "  0.8296983  1.         0.81867075 0.17177594]]\n"
          ],
          "name": "stdout"
        }
      ]
    },
    {
      "cell_type": "code",
      "metadata": {
        "id": "BvUejkgXXSJf"
      },
      "source": [
        "import sys\n",
        "def show_progress(count, total, status=''):\n",
        "\n",
        "    bar_len = 60\n",
        "    filled_len = int(round(bar_len * count / float(total)))\n",
        "\n",
        "    percents = round(100.0 * count / float(total), 1)\n",
        "    bar = '#' * filled_len + '-' * (bar_len - filled_len)\n",
        "\n",
        "    sys.stdout.write('[%s] %s%s ...%s\\r' % (bar, percents, '%', status))\n",
        "    sys.stdout.flush()"
      ],
      "execution_count": null,
      "outputs": []
    },
    {
      "cell_type": "code",
      "metadata": {
        "id": "pB9OWeJ3OtcY",
        "colab": {
          "base_uri": "https://localhost:8080/"
        },
        "outputId": "fc937d24-3357-46a1-d00f-03e059d62a01"
      },
      "source": [
        "x_trans = []\n",
        "y_trans = []\n",
        "total = len(x_train)\n",
        "for i in range(len(x_train)):\n",
        "  #print(x_train[i].shape)\n",
        "  # p = intermediate_layer_model.predict(x_train[i][None, :, :, :])\n",
        "  # p = minmax_scale(p, feature_range=(0,1), axis=1)\n",
        "  # p = np.reshape(p,(4,4,1))\n",
        "  # p = np.resize(x_train[i], (4,4,1))\n",
        "  x_trans.append(x_train[i])\n",
        "  y_trans.append(y_train[i])\n",
        "\n",
        "  #show_progress(i,total)\n",
        "print ('Done')\n",
        "\n"
      ],
      "execution_count": null,
      "outputs": [
        {
          "output_type": "stream",
          "text": [
            "Done\n"
          ],
          "name": "stdout"
        }
      ]
    },
    {
      "cell_type": "code",
      "metadata": {
        "id": "xifJNvUpP_XA",
        "colab": {
          "base_uri": "https://localhost:8080/"
        },
        "outputId": "1b206028-9253-458b-f259-02e3dc3a706f"
      },
      "source": [
        "x_trans_test = []\n",
        "y_trans_test = []\n",
        "\n",
        "for i in range(len(x_test)):\n",
        "  #print(x_train[i].shape)\n",
        "  # p = intermediate_layer_model.predict(x_test[i][None, :, :, :])\n",
        "  # p = minmax_scale(p, feature_range=(0,1), axis=1)\n",
        "  # p = np.reshape(p,(4,4,1))\n",
        "\n",
        "  x_trans_test.append(x_test[i])\n",
        "  y_trans_test.append(y_test[i])\n",
        "\n",
        "print ('Done')"
      ],
      "execution_count": null,
      "outputs": [
        {
          "output_type": "stream",
          "text": [
            "Done\n"
          ],
          "name": "stdout"
        }
      ]
    },
    {
      "cell_type": "code",
      "metadata": {
        "id": "WDORROUqPsVH",
        "colab": {
          "base_uri": "https://localhost:8080/"
        },
        "outputId": "d560a87f-cb01-4da7-c556-b2c65a79ee20"
      },
      "source": [
        "x_trans = np.array(x_trans)\n",
        "y_trans = np.array(y_trans)\n",
        "\n",
        "print (x_trans.shape)\n",
        "print (y_trans.shape)"
      ],
      "execution_count": null,
      "outputs": [
        {
          "output_type": "stream",
          "text": [
            "(2099, 4, 4, 1)\n",
            "(2099,)\n"
          ],
          "name": "stdout"
        }
      ]
    },
    {
      "cell_type": "code",
      "metadata": {
        "id": "QxtbrVLARnhA",
        "colab": {
          "base_uri": "https://localhost:8080/"
        },
        "outputId": "1e279d8e-01c9-4e42-9381-369e60e63778"
      },
      "source": [
        "x_trans_test = np.array(x_trans_test)\n",
        "y_trans_test = np.array(y_trans_test)\n",
        "\n",
        "print (x_trans_test.shape)\n",
        "print (y_trans_test.shape)"
      ],
      "execution_count": null,
      "outputs": [
        {
          "output_type": "stream",
          "text": [
            "(900, 4, 4, 1)\n",
            "(900,)\n"
          ],
          "name": "stdout"
        }
      ]
    },
    {
      "cell_type": "code",
      "metadata": {
        "id": "Uog6oy7vq4IH"
      },
      "source": [
        "np.save('/content/drive/My Drive/zadid/qnn_np_x_train.npy',x_trans)\n",
        "np.save('/content/drive/My Drive/zadid/qnn_np_y_train.npy',y_trans)\n",
        "np.save('/content/drive/My Drive/zadid/qnn_np_x_test.npy',x_trans_test)\n",
        "np.save('/content/drive/My Drive/zadid/qnn_np_y_test.npy',y_trans_test)"
      ],
      "execution_count": null,
      "outputs": []
    },
    {
      "cell_type": "code",
      "metadata": {
        "id": "tpgrfwLZL1QW",
        "colab": {
          "base_uri": "https://localhost:8080/",
          "height": 581
        },
        "outputId": "d62af9b0-39da-47f8-eb3e-9b5580745827"
      },
      "source": [
        "print (np.count_nonzero(y_train == 1))\n",
        "print (np.count_nonzero(y_train == 0))\n",
        "\n",
        "print (np.count_nonzero(y_test == 1))\n",
        "print (np.count_nonzero(y_test == 0))\n",
        "\n",
        "\n",
        "plt.hist(x_trans_test.flatten(),bins=20)\n",
        "plt.show()\n",
        "\n",
        "plt.hist(x_trans_test.flatten(),bins=30)\n",
        "plt.show()"
      ],
      "execution_count": null,
      "outputs": [
        {
          "output_type": "stream",
          "text": [
            "1075\n",
            "1024\n",
            "471\n",
            "429\n"
          ],
          "name": "stdout"
        },
        {
          "output_type": "display_data",
          "data": {
            "image/png": "[encoded data removed]",
            "text/plain": [
              "<Figure size 432x288 with 1 Axes>"
            ]
          },
          "metadata": {
            "tags": [],
            "needs_background": "light"
          }
        },
        {
          "output_type": "display_data",
          "data": {
            "image/png": "[encoded data removed]",
            "text/plain": [
              "<Figure size 432x288 with 1 Axes>"
            ]
          },
          "metadata": {
            "tags": [],
            "needs_background": "light"
          }
        }
      ]
    },
    {
      "cell_type": "code",
      "metadata": {
        "id": "pcYgPb6mLaKS"
      },
      "source": [
        ""
      ],
      "execution_count": null,
      "outputs": []
    },
    {
      "cell_type": "markdown",
      "metadata": {
        "id": "e-8j1y3ELesZ"
      },
      "source": [
        "### Load the trained data from drive"
      ]
    },
    {
      "cell_type": "code",
      "metadata": {
        "id": "7LiJMXAjK5Yr"
      },
      "source": [
        "x_trans = np.load('/content/drive/My Drive/zadid/qnn_np_x_train.npy')\n",
        "y_trans = np.load('/content/drive/My Drive/zadid/qnn_np_y_train.npy')\n",
        "x_trans_test = np.load('/content/drive/My Drive/zadid/qnn_np_x_test.npy')\n",
        "y_trans_test = np.load('/content/drive/My Drive/zadid/qnn_np_y_test.npy')"
      ],
      "execution_count": null,
      "outputs": []
    },
    {
      "cell_type": "markdown",
      "metadata": {
        "id": "yWM_7KZwsr-D"
      },
      "source": [
        "### Quantum Encoding"
      ]
    },
    {
      "cell_type": "code",
      "metadata": {
        "colab": {
          "base_uri": "https://localhost:8080/"
        },
        "id": "7Re1oVLQLstA",
        "outputId": "ccb6d508-697b-4987-f469-9d56e19a1b63"
      },
      "source": [
        "print ('total trained data: X train ', x_trans.shape)\n",
        "print ('total trained data: Y train ', y_trans.shape)\n",
        "print ('total test  data: X test ', x_trans_test.shape)\n",
        "print ('total test data: Y test ', y_trans_test.shape)"
      ],
      "execution_count": null,
      "outputs": [
        {
          "output_type": "stream",
          "text": [
            "total trained data: X train  (2099, 4, 4, 1)\n",
            "total trained data: Y train  (2099,)\n",
            "total test  data: X test  (900, 4, 4, 1)\n",
            "total test data: Y test  (900,)\n"
          ],
          "name": "stdout"
        }
      ]
    },
    {
      "cell_type": "code",
      "metadata": {
        "id": "2G47HpfIMFZk"
      },
      "source": [
        "per = 1.0\n",
        "x_train_nums = int(x_trans.shape[0]*per)\n",
        "x_test_nums = int(x_trans_test.shape[0]*1.0)"
      ],
      "execution_count": null,
      "outputs": []
    },
    {
      "cell_type": "code",
      "metadata": {
        "id": "Qj_3qGfW9qKW"
      },
      "source": [
        "x_train = x_trans[:x_train_nums]\n",
        "x_test = x_trans_test[:x_test_nums]\n",
        "y_train = y_trans[:x_train_nums]\n",
        "y_test = y_trans_test[:x_test_nums]\n",
        "\n",
        "x_train_small = tf.image.resize(x_train, (4,4)).numpy()\n",
        "x_test_small = tf.image.resize(x_test, (4,4)).numpy()"
      ],
      "execution_count": null,
      "outputs": []
    },
    {
      "cell_type": "code",
      "metadata": {
        "id": "bZJiTN6y3air",
        "colab": {
          "base_uri": "https://localhost:8080/"
        },
        "outputId": "84064543-8100-4ed3-d172-24d9f47dce90"
      },
      "source": [
        "print ('total trained data: X train ', x_train_small.shape)\n",
        "print ('total trained data: Y train ', y_train.shape)\n",
        "print ('total test  data: X test ', x_test_small.shape)\n",
        "print ('total test data: Y test ', y_test.shape)"
      ],
      "execution_count": null,
      "outputs": [
        {
          "output_type": "stream",
          "text": [
            "total trained data: X train  (2099, 4, 4, 1)\n",
            "total trained data: Y train  (2099,)\n",
            "total test  data: X test  (900, 4, 4, 1)\n",
            "total test data: Y test  (900,)\n"
          ],
          "name": "stdout"
        }
      ]
    },
    {
      "cell_type": "code",
      "metadata": {
        "id": "PkZbbz0j795D",
        "colab": {
          "base_uri": "https://localhost:8080/",
          "height": 303
        },
        "outputId": "c7d0f70e-bdf3-4df9-9831-3c891a8c8163"
      },
      "source": [
        "import random as random\n",
        "\n",
        "idx = random.randint(0,len(x_train_small))\n",
        "print(y_train[idx])\n",
        "\n",
        "plt.imshow(x_train_small[idx,:,:,0], vmin=0, vmax=1)\n",
        "plt.colorbar()"
      ],
      "execution_count": null,
      "outputs": [
        {
          "output_type": "stream",
          "text": [
            "0\n"
          ],
          "name": "stdout"
        },
        {
          "output_type": "execute_result",
          "data": {
            "text/plain": [
              "<matplotlib.colorbar.Colorbar at 0x7f4fa6db0510>"
            ]
          },
          "metadata": {
            "tags": []
          },
          "execution_count": 10
        },
        {
          "output_type": "display_data",
          "data": {
            "image/png": "[encoded data removed]",
            "text/plain": [
              "<Figure size 432x288 with 2 Axes>"
            ]
          },
          "metadata": {
            "tags": [],
            "needs_background": "light"
          }
        }
      ]
    },
    {
      "cell_type": "code",
      "metadata": {
        "id": "nyuZTWBq8IOH",
        "colab": {
          "base_uri": "https://localhost:8080/"
        },
        "outputId": "2d3eb287-14de-4816-b251-f08f6c97b709"
      },
      "source": [
        "THRESHOLD = 0.5\n",
        "\n",
        "x_train_bin = np.array(x_train_small > THRESHOLD, dtype=np.float32)\n",
        "x_test_bin = np.array(x_test_small > THRESHOLD, dtype=np.float32)\n",
        "\n",
        "print (x_train_bin.shape)\n",
        "print (x_test_bin.shape)\n",
        "\n",
        "#print (x_train_small[0])\n",
        "#print (x_train_bin[0])\n",
        "#print (x_test_bin.shape)\n"
      ],
      "execution_count": null,
      "outputs": [
        {
          "output_type": "stream",
          "text": [
            "(2099, 4, 4, 1)\n",
            "(900, 4, 4, 1)\n"
          ],
          "name": "stdout"
        }
      ]
    },
    {
      "cell_type": "code",
      "metadata": {
        "id": "DqvrFuLEwEZJ",
        "colab": {
          "base_uri": "https://localhost:8080/",
          "height": 303
        },
        "outputId": "fdb65c16-5453-4479-a954-25363aaa9c4e"
      },
      "source": [
        "import random as random\n",
        "\n",
        "idx = random.randint(0,len(x_train_bin))\n",
        "print('index:', idx , ' label : ', y_train[idx])\n",
        "\n",
        "\n",
        "plt.imshow(x_train_bin[idx,:,:,0])\n",
        "plt.colorbar()"
      ],
      "execution_count": null,
      "outputs": [
        {
          "output_type": "stream",
          "text": [
            "index: 196  label :  1\n"
          ],
          "name": "stdout"
        },
        {
          "output_type": "execute_result",
          "data": {
            "text/plain": [
              "<matplotlib.colorbar.Colorbar at 0x7f4fa6874810>"
            ]
          },
          "metadata": {
            "tags": []
          },
          "execution_count": 12
        },
        {
          "output_type": "display_data",
          "data": {
            "image/png": "[encoded data removed]",
            "text/plain": [
              "<Figure size 432x288 with 2 Axes>"
            ]
          },
          "metadata": {
            "tags": [],
            "needs_background": "light"
          }
        }
      ]
    },
    {
      "cell_type": "markdown",
      "metadata": {
        "id": "_ZpnG88K-fy2"
      },
      "source": [
        "### Remove Contradicting"
      ]
    },
    {
      "cell_type": "code",
      "metadata": {
        "id": "s1LDJcwv-jfi"
      },
      "source": [
        "def remove_contradicting(xs, ys):\n",
        "    mapping = collections.defaultdict(set)\n",
        "    # Determine the set of labels for each unique image:\n",
        "    for x,y in zip(xs,ys):\n",
        "       mapping[tuple(x.flatten())].add(y)\n",
        "    \n",
        "    new_x = []\n",
        "    new_y = []\n",
        "    for x,y in zip(xs, ys):\n",
        "      labels = mapping[tuple(x.flatten())]\n",
        "      if len(labels) == 1:\n",
        "          new_x.append(x)\n",
        "          new_y.append(list(labels)[0])\n",
        "      else:\n",
        "          # Throw out images that match more than one label.\n",
        "          pass\n",
        "    \n",
        "    num_3 = sum(1 for value in mapping.values() if True in value)\n",
        "    num_6 = sum(1 for value in mapping.values() if False in value)\n",
        "    num_both = sum(1 for value in mapping.values() if len(value) == 2)\n",
        "\n",
        "    print(\"Number of unique images:\", len(mapping.values()))\n",
        "    print(\"Number of 0s: \", num_3)\n",
        "    print(\"Number of 1s: \", num_6)\n",
        "    print(\"Number of contradictory images: \", num_both)\n",
        "    print()\n",
        "    print(\"Initial number of examples: \", len(xs))\n",
        "    print(\"Remaining non-contradictory examples: \", len(new_x))\n",
        "    \n",
        "    return np.array(new_x), np.array(new_y)\n"
      ],
      "execution_count": null,
      "outputs": []
    },
    {
      "cell_type": "code",
      "metadata": {
        "id": "q3gaGo_t-sNi",
        "colab": {
          "base_uri": "https://localhost:8080/"
        },
        "outputId": "e49849e0-f131-4d6a-93de-0f0eceb48725"
      },
      "source": [
        "x_train_nocon, y_train_nocon = remove_contradicting(x_train_small, y_train)"
      ],
      "execution_count": null,
      "outputs": [
        {
          "output_type": "stream",
          "text": [
            "Number of unique images: 2072\n",
            "Number of 0s:  1061\n",
            "Number of 1s:  1011\n",
            "Number of contradictory images:  0\n",
            "\n",
            "Initial number of examples:  2099\n",
            "Remaining non-contradictory examples:  2099\n"
          ],
          "name": "stdout"
        }
      ]
    },
    {
      "cell_type": "code",
      "metadata": {
        "id": "H3LLqFBk-vux",
        "colab": {
          "base_uri": "https://localhost:8080/"
        },
        "outputId": "15540581-94c1-408d-dd1b-c5620dada0da"
      },
      "source": [
        "x_train_bin, y_train = remove_contradicting(x_train_bin, y_train_nocon)\n",
        "#_ = remove_contradicting(x_train_bin, y_train_nocon)"
      ],
      "execution_count": null,
      "outputs": [
        {
          "output_type": "stream",
          "text": [
            "Number of unique images: 94\n",
            "Number of 0s:  68\n",
            "Number of 1s:  63\n",
            "Number of contradictory images:  37\n",
            "\n",
            "Initial number of examples:  2099\n",
            "Remaining non-contradictory examples:  126\n"
          ],
          "name": "stdout"
        }
      ]
    },
    {
      "cell_type": "markdown",
      "metadata": {
        "id": "z6KNTP9qtSNr"
      },
      "source": [
        "### Build Quantum Circuit"
      ]
    },
    {
      "cell_type": "code",
      "metadata": {
        "id": "wumGD0sG8Y-i"
      },
      "source": [
        "def convert_to_circuit(image):\n",
        "    \"\"\"Encode truncated classical image into quantum datapoint.\"\"\"\n",
        "    values = np.ndarray.flatten(image)\n",
        "    qubits = cirq.GridQubit.rect(4, 4)\n",
        "    circuit = cirq.Circuit()\n",
        "    for i, value in enumerate(values):\n",
        "      if value:\n",
        "        circuit.append(cirq.X(qubits[i]))\n",
        "    #    if value:\n",
        "        \n",
        "    return circuit\n",
        "\n"
      ],
      "execution_count": null,
      "outputs": []
    },
    {
      "cell_type": "markdown",
      "metadata": {
        "id": "H1kx5VYBs-PO"
      },
      "source": [
        "aaa"
      ]
    },
    {
      "cell_type": "code",
      "metadata": {
        "id": "_c0gSnrUtGNs"
      },
      "source": [
        "#x_train_circ = [convert_to_circuit(x) for x in x_train_bin]\n",
        "#x_test_circ = [convert_to_circuit(x) for x in x_test_bin]"
      ],
      "execution_count": null,
      "outputs": []
    },
    {
      "cell_type": "code",
      "metadata": {
        "id": "z-z8mleK8esc",
        "colab": {
          "base_uri": "https://localhost:8080/"
        },
        "outputId": "7202c0df-1953-4f69-823d-a809b51b2c68"
      },
      "source": [
        "#SVGCircuit(x_train_circ[100])\n",
        "\n",
        "print (len(x_train_circ))"
      ],
      "execution_count": null,
      "outputs": [
        {
          "output_type": "stream",
          "text": [
            "126\n"
          ],
          "name": "stdout"
        }
      ]
    },
    {
      "cell_type": "code",
      "metadata": {
        "id": "qGDTVEad8gqu"
      },
      "source": [
        "#bin_img = x_train_bin[100,:,:,0]\n",
        "#indices = np.array(np.where(bin_img)).T"
      ],
      "execution_count": null,
      "outputs": []
    },
    {
      "cell_type": "code",
      "metadata": {
        "id": "ecm73EFf9Nl2"
      },
      "source": [
        "x_train_tfcirc = tfq.convert_to_tensor(x_train_circ)\n",
        "x_test_tfcirc = tfq.convert_to_tensor(x_test_circ)"
      ],
      "execution_count": null,
      "outputs": []
    },
    {
      "cell_type": "code",
      "metadata": {
        "id": "-1Ar1J1Z-Akd"
      },
      "source": [
        "class CircuitLayerBuilder():\n",
        "    def __init__(self, data_qubits, readout):\n",
        "        self.data_qubits = data_qubits\n",
        "        self.readout = readout\n",
        "    \n",
        "    def add_layer(self, circuit, gate, prefix):\n",
        "        for i, qubit in enumerate(self.data_qubits):\n",
        "            symbol = sympy.Symbol(prefix + '-' + str(i))\n",
        "            circuit.append(gate(qubit, self.readout)**symbol)"
      ],
      "execution_count": null,
      "outputs": []
    },
    {
      "cell_type": "code",
      "metadata": {
        "id": "OwOG7Izv-DJc",
        "colab": {
          "base_uri": "https://localhost:8080/",
          "height": 289
        },
        "outputId": "d8d0011a-5917-4cc9-f25f-bf729cf3f9d8"
      },
      "source": [
        "demo_builder = CircuitLayerBuilder(data_qubits = cirq.GridQubit.rect(4,1),\n",
        "                                   readout=cirq.GridQubit(-1,-1))\n",
        "\n",
        "circuit = cirq.Circuit()\n",
        "demo_builder.add_layer(circuit, gate = cirq.XX, prefix='xx')\n",
        "#demo_builder.add_layer(circuit, gate = cirq.XX, prefix='yy')\n",
        "SVGCircuit(circuit)"
      ],
      "execution_count": null,
      "outputs": [
        {
          "output_type": "stream",
          "name": "stderr",
          "text": [
            "findfont: Font family ['Arial'] not found. Falling back to DejaVu Sans.\n"
          ]
        },
        {
          "output_type": "execute_result",
          "data": {
            "text/plain": [
              "<cirq.contrib.svg.svg.SVGCircuit at 0x7f446a6b0a10>"
            ],
            "image/svg+xml": "<svg xmlns=\"http://www.w3.org/2000/svg\" width=\"522.59953125\" height=\"250.0\"><line x1=\"39.810625\" x2=\"492.59953125000004\" y1=\"25.0\" y2=\"25.0\" stroke=\"#1967d2\" stroke-width=\"1\" /><line x1=\"39.810625\" x2=\"492.59953125000004\" y1=\"75.0\" y2=\"75.0\" stroke=\"#1967d2\" stroke-width=\"1\" /><line x1=\"39.810625\" x2=\"492.59953125000004\" y1=\"125.0\" y2=\"125.0\" stroke=\"#1967d2\" stroke-width=\"1\" /><line x1=\"39.810625\" x2=\"492.59953125000004\" y1=\"175.0\" y2=\"175.0\" stroke=\"#1967d2\" stroke-width=\"1\" /><line x1=\"39.810625\" x2=\"492.59953125000004\" y1=\"225.0\" y2=\"225.0\" stroke=\"#1967d2\" stroke-width=\"1\" /><line x1=\"129.99353515625\" x2=\"129.99353515625\" y1=\"25.0\" y2=\"75.0\" stroke=\"black\" stroke-width=\"3\" /><line x1=\"230.73810546875004\" x2=\"230.73810546875004\" y1=\"25.0\" y2=\"125.0\" stroke=\"black\" stroke-width=\"3\" /><line x1=\"331.48267578125007\" x2=\"331.48267578125007\" y1=\"25.0\" y2=\"175.0\" stroke=\"black\" stroke-width=\"3\" /><line x1=\"432.22724609375007\" x2=\"432.22724609375007\" y1=\"25.0\" y2=\"225.0\" stroke=\"black\" stroke-width=\"3\" /><rect x=\"10.0\" y=\"5.0\" width=\"59.62125\" height=\"40\" stroke=\"black\" fill=\"white\" stroke-width=\"0\" /><text x=\"39.810625\" y=\"25.0\" dominant-baseline=\"middle\" text-anchor=\"middle\" font-size=\"14px\" font-family=\"Arial\">(-1, -1): </text><rect x=\"10.0\" y=\"55.0\" width=\"59.62125\" height=\"40\" stroke=\"black\" fill=\"white\" stroke-width=\"0\" /><text x=\"39.810625\" y=\"75.0\" dominant-baseline=\"middle\" text-anchor=\"middle\" font-size=\"14px\" font-family=\"Arial\">(0, 0): </text><rect x=\"10.0\" y=\"105.0\" width=\"59.62125\" height=\"40\" stroke=\"black\" fill=\"white\" stroke-width=\"0\" /><text x=\"39.810625\" y=\"125.0\" dominant-baseline=\"middle\" text-anchor=\"middle\" font-size=\"14px\" font-family=\"Arial\">(1, 0): </text><rect x=\"10.0\" y=\"155.0\" width=\"59.62125\" height=\"40\" stroke=\"black\" fill=\"white\" stroke-width=\"0\" /><text x=\"39.810625\" y=\"175.0\" dominant-baseline=\"middle\" text-anchor=\"middle\" font-size=\"14px\" font-family=\"Arial\">(2, 0): </text><rect x=\"10.0\" y=\"205.0\" width=\"59.62125\" height=\"40\" stroke=\"black\" fill=\"white\" stroke-width=\"0\" /><text x=\"39.810625\" y=\"225.0\" dominant-baseline=\"middle\" text-anchor=\"middle\" font-size=\"14px\" font-family=\"Arial\">(3, 0): </text><rect x=\"89.62125\" y=\"55.0\" width=\"80.74457031250002\" height=\"40\" stroke=\"black\" fill=\"white\" stroke-width=\"1\" /><text x=\"129.99353515625\" y=\"75.0\" dominant-baseline=\"middle\" text-anchor=\"middle\" font-size=\"14px\" font-family=\"Arial\">XX^(xx-0)</text><rect x=\"89.62125\" y=\"5.0\" width=\"80.74457031250002\" height=\"40\" stroke=\"black\" fill=\"white\" stroke-width=\"1\" /><text x=\"129.99353515625\" y=\"25.0\" dominant-baseline=\"middle\" text-anchor=\"middle\" font-size=\"14px\" font-family=\"Arial\">XX</text><rect x=\"190.36582031250003\" y=\"105.0\" width=\"80.74457031250002\" height=\"40\" stroke=\"black\" fill=\"white\" stroke-width=\"1\" /><text x=\"230.73810546875004\" y=\"125.0\" dominant-baseline=\"middle\" text-anchor=\"middle\" font-size=\"14px\" font-family=\"Arial\">XX^(xx-1)</text><rect x=\"190.36582031250003\" y=\"5.0\" width=\"80.74457031250002\" height=\"40\" stroke=\"black\" fill=\"white\" stroke-width=\"1\" /><text x=\"230.73810546875004\" y=\"25.0\" dominant-baseline=\"middle\" text-anchor=\"middle\" font-size=\"14px\" font-family=\"Arial\">XX</text><rect x=\"291.11039062500004\" y=\"155.0\" width=\"80.74457031250002\" height=\"40\" stroke=\"black\" fill=\"white\" stroke-width=\"1\" /><text x=\"331.48267578125007\" y=\"175.0\" dominant-baseline=\"middle\" text-anchor=\"middle\" font-size=\"14px\" font-family=\"Arial\">XX^(xx-2)</text><rect x=\"291.11039062500004\" y=\"5.0\" width=\"80.74457031250002\" height=\"40\" stroke=\"black\" fill=\"white\" stroke-width=\"1\" /><text x=\"331.48267578125007\" y=\"25.0\" dominant-baseline=\"middle\" text-anchor=\"middle\" font-size=\"14px\" font-family=\"Arial\">XX</text><rect x=\"391.85496093750004\" y=\"205.0\" width=\"80.74457031250002\" height=\"40\" stroke=\"black\" fill=\"white\" stroke-width=\"1\" /><text x=\"432.22724609375007\" y=\"225.0\" dominant-baseline=\"middle\" text-anchor=\"middle\" font-size=\"14px\" font-family=\"Arial\">XX^(xx-3)</text><rect x=\"391.85496093750004\" y=\"5.0\" width=\"80.74457031250002\" height=\"40\" stroke=\"black\" fill=\"white\" stroke-width=\"1\" /><text x=\"432.22724609375007\" y=\"25.0\" dominant-baseline=\"middle\" text-anchor=\"middle\" font-size=\"14px\" font-family=\"Arial\">XX</text></svg>"
          },
          "metadata": {},
          "execution_count": 11
        }
      ]
    },
    {
      "cell_type": "code",
      "metadata": {
        "id": "WAUDWo1w-Et_"
      },
      "source": [
        "def create_quantum_model():\n",
        "    \"\"\"Create a QNN model circuit and readout operation to go along with it.\"\"\"\n",
        "    data_qubits = cirq.GridQubit.rect(4, 4)  # a 4x4 grid.\n",
        "    readout = cirq.GridQubit(-1, -1)         # a single qubit at [-1,-1]\n",
        "    circuit = cirq.Circuit()\n",
        "    \n",
        "    # Prepare the readout qubit.\n",
        "    circuit.append(cirq.X(readout))\n",
        "    circuit.append(cirq.H(readout))\n",
        "    \n",
        "    builder = CircuitLayerBuilder(\n",
        "        data_qubits = data_qubits,\n",
        "        readout=readout)\n",
        "\n",
        "    # Then add layers (experiment by adding more).\n",
        "    builder.add_layer(circuit, cirq.XX, \"xx1\")\n",
        "    builder.add_layer(circuit, cirq.ZZ, \"zz1\")\n",
        "    builder.add_layer(circuit, cirq.XX, \"xx2\")\n",
        "    builder.add_layer(circuit, cirq.ZZ, \"zz2\")\n",
        "\n",
        "    builder.add_layer(circuit, cirq.XX, \"xx3\")\n",
        "    builder.add_layer(circuit, cirq.ZZ, \"zz3\")\n",
        "\n",
        "    # Finally, prepare the readout qubit.\n",
        "    circuit.append(cirq.H(readout))\n",
        "\n",
        "    return circuit, cirq.Z(readout)\n",
        "\n",
        "# create the circuit \n",
        "model_circuit, model_readout = create_quantum_model()    "
      ],
      "execution_count": null,
      "outputs": []
    },
    {
      "cell_type": "code",
      "metadata": {
        "id": "mIPIi2ec-Pd_"
      },
      "source": [
        "model_circuit, model_readout = create_quantum_model()"
      ],
      "execution_count": null,
      "outputs": []
    },
    {
      "cell_type": "code",
      "metadata": {
        "id": "NZuRShKbvXLu"
      },
      "source": [
        "import sympy"
      ],
      "execution_count": null,
      "outputs": []
    },
    {
      "cell_type": "code",
      "metadata": {
        "colab": {
          "base_uri": "https://localhost:8080/",
          "height": 891
        },
        "id": "0OwSy40atNaj",
        "outputId": "58aa37ca-3013-4328-9089-f364e3b79ee5"
      },
      "source": [
        "SVGCircuit(model_circuit)"
      ],
      "execution_count": null,
      "outputs": [
        {
          "output_type": "execute_result",
          "data": {
            "text/plain": [
              "<cirq.contrib.svg.svg.SVGCircuit at 0x7f446a1fa650>"
            ],
            "image/svg+xml": "<svg xmlns=\"http://www.w3.org/2000/svg\" width=\"15073.201250000015\" height=\"850.0\"><line x1=\"39.810625\" x2=\"15043.201250000015\" y1=\"25.0\" y2=\"25.0\" stroke=\"#1967d2\" stroke-width=\"1\" /><line x1=\"39.810625\" x2=\"15043.201250000015\" y1=\"75.0\" y2=\"75.0\" stroke=\"#1967d2\" stroke-width=\"1\" /><line x1=\"39.810625\" x2=\"15043.201250000015\" y1=\"125.0\" y2=\"125.0\" stroke=\"#1967d2\" stroke-width=\"1\" /><line x1=\"39.810625\" x2=\"15043.201250000015\" y1=\"175.0\" y2=\"175.0\" stroke=\"#1967d2\" stroke-width=\"1\" /><line x1=\"39.810625\" x2=\"15043.201250000015\" y1=\"225.0\" y2=\"225.0\" stroke=\"#1967d2\" stroke-width=\"1\" /><line x1=\"39.810625\" x2=\"15043.201250000015\" y1=\"275.0\" y2=\"275.0\" stroke=\"#1967d2\" stroke-width=\"1\" /><line x1=\"39.810625\" x2=\"15043.201250000015\" y1=\"325.0\" y2=\"325.0\" stroke=\"#1967d2\" stroke-width=\"1\" /><line x1=\"39.810625\" x2=\"15043.201250000015\" y1=\"375.0\" y2=\"375.0\" stroke=\"#1967d2\" stroke-width=\"1\" /><line x1=\"39.810625\" x2=\"15043.201250000015\" y1=\"425.0\" y2=\"425.0\" stroke=\"#1967d2\" stroke-width=\"1\" /><line x1=\"39.810625\" x2=\"15043.201250000015\" y1=\"475.0\" y2=\"475.0\" stroke=\"#1967d2\" stroke-width=\"1\" /><line x1=\"39.810625\" x2=\"15043.201250000015\" y1=\"525.0\" y2=\"525.0\" stroke=\"#1967d2\" stroke-width=\"1\" /><line x1=\"39.810625\" x2=\"15043.201250000015\" y1=\"575.0\" y2=\"575.0\" stroke=\"#1967d2\" stroke-width=\"1\" /><line x1=\"39.810625\" x2=\"15043.201250000015\" y1=\"625.0\" y2=\"625.0\" stroke=\"#1967d2\" stroke-width=\"1\" /><line x1=\"39.810625\" x2=\"15043.201250000015\" y1=\"675.0\" y2=\"675.0\" stroke=\"#1967d2\" stroke-width=\"1\" /><line x1=\"39.810625\" x2=\"15043.201250000015\" y1=\"725.0\" y2=\"725.0\" stroke=\"#1967d2\" stroke-width=\"1\" /><line x1=\"39.810625\" x2=\"15043.201250000015\" y1=\"775.0\" y2=\"775.0\" stroke=\"#1967d2\" stroke-width=\"1\" /><line x1=\"39.810625\" x2=\"15043.201250000015\" y1=\"825.0\" y2=\"825.0\" stroke=\"#1967d2\" stroke-width=\"1\" /><line x1=\"254.4471484375\" x2=\"254.4471484375\" y1=\"25.0\" y2=\"75.0\" stroke=\"black\" stroke-width=\"3\" /><line x1=\"364.09894531250006\" x2=\"364.09894531250006\" y1=\"25.0\" y2=\"125.0\" stroke=\"black\" stroke-width=\"3\" /><line x1=\"473.75074218750007\" x2=\"473.75074218750007\" y1=\"25.0\" y2=\"175.0\" stroke=\"black\" stroke-width=\"3\" /><line x1=\"583.4025390625001\" x2=\"583.4025390625001\" y1=\"25.0\" y2=\"225.0\" stroke=\"black\" stroke-width=\"3\" /><line x1=\"693.0543359375001\" x2=\"693.0543359375001\" y1=\"25.0\" y2=\"275.0\" stroke=\"black\" stroke-width=\"3\" /><line x1=\"802.7061328125002\" x2=\"802.7061328125002\" y1=\"25.0\" y2=\"325.0\" stroke=\"black\" stroke-width=\"3\" /><line x1=\"912.3579296875002\" x2=\"912.3579296875002\" y1=\"25.0\" y2=\"375.0\" stroke=\"black\" stroke-width=\"3\" /><line x1=\"1022.0097265625003\" x2=\"1022.0097265625003\" y1=\"25.0\" y2=\"425.0\" stroke=\"black\" stroke-width=\"3\" /><line x1=\"1131.6615234375004\" x2=\"1131.6615234375004\" y1=\"25.0\" y2=\"475.0\" stroke=\"black\" stroke-width=\"3\" /><line x1=\"1241.3133203125003\" x2=\"1241.3133203125003\" y1=\"25.0\" y2=\"525.0\" stroke=\"black\" stroke-width=\"3\" /><line x1=\"1355.4187304687503\" x2=\"1355.4187304687503\" y1=\"25.0\" y2=\"575.0\" stroke=\"black\" stroke-width=\"3\" /><line x1=\"1473.9777539062502\" x2=\"1473.9777539062502\" y1=\"25.0\" y2=\"625.0\" stroke=\"black\" stroke-width=\"3\" /><line x1=\"1592.5367773437501\" x2=\"1592.5367773437501\" y1=\"25.0\" y2=\"675.0\" stroke=\"black\" stroke-width=\"3\" /><line x1=\"1711.09580078125\" x2=\"1711.09580078125\" y1=\"25.0\" y2=\"725.0\" stroke=\"black\" stroke-width=\"3\" /><line x1=\"1829.65482421875\" x2=\"1829.65482421875\" y1=\"25.0\" y2=\"775.0\" stroke=\"black\" stroke-width=\"3\" /><line x1=\"1948.21384765625\" x2=\"1948.21384765625\" y1=\"25.0\" y2=\"825.0\" stroke=\"black\" stroke-width=\"3\" /><line x1=\"2061.276640625\" x2=\"2061.276640625\" y1=\"25.0\" y2=\"75.0\" stroke=\"black\" stroke-width=\"3\" /><line x1=\"2168.843203125\" x2=\"2168.843203125\" y1=\"25.0\" y2=\"125.0\" stroke=\"black\" stroke-width=\"3\" /><line x1=\"2276.409765625\" x2=\"2276.409765625\" y1=\"25.0\" y2=\"175.0\" stroke=\"black\" stroke-width=\"3\" /><line x1=\"2383.9763281250002\" x2=\"2383.9763281250002\" y1=\"25.0\" y2=\"225.0\" stroke=\"black\" stroke-width=\"3\" /><line x1=\"2491.5428906250004\" x2=\"2491.5428906250004\" y1=\"25.0\" y2=\"275.0\" stroke=\"black\" stroke-width=\"3\" /><line x1=\"2599.1094531250005\" x2=\"2599.1094531250005\" y1=\"25.0\" y2=\"325.0\" stroke=\"black\" stroke-width=\"3\" /><line x1=\"2706.6760156250007\" x2=\"2706.6760156250007\" y1=\"25.0\" y2=\"375.0\" stroke=\"black\" stroke-width=\"3\" /><line x1=\"2814.242578125001\" x2=\"2814.242578125001\" y1=\"25.0\" y2=\"425.0\" stroke=\"black\" stroke-width=\"3\" /><line x1=\"2921.809140625001\" x2=\"2921.809140625001\" y1=\"25.0\" y2=\"475.0\" stroke=\"black\" stroke-width=\"3\" /><line x1=\"3029.375703125001\" x2=\"3029.375703125001\" y1=\"25.0\" y2=\"525.0\" stroke=\"black\" stroke-width=\"3\" /><line x1=\"3141.3958789062513\" x2=\"3141.3958789062513\" y1=\"25.0\" y2=\"575.0\" stroke=\"black\" stroke-width=\"3\" /><line x1=\"3257.8696679687514\" x2=\"3257.8696679687514\" y1=\"25.0\" y2=\"625.0\" stroke=\"black\" stroke-width=\"3\" /><line x1=\"3374.3434570312515\" x2=\"3374.3434570312515\" y1=\"25.0\" y2=\"675.0\" stroke=\"black\" stroke-width=\"3\" /><line x1=\"3490.8172460937517\" x2=\"3490.8172460937517\" y1=\"25.0\" y2=\"725.0\" stroke=\"black\" stroke-width=\"3\" /><line x1=\"3607.291035156252\" x2=\"3607.291035156252\" y1=\"25.0\" y2=\"775.0\" stroke=\"black\" stroke-width=\"3\" /><line x1=\"3723.764824218752\" x2=\"3723.764824218752\" y1=\"25.0\" y2=\"825.0\" stroke=\"black\" stroke-width=\"3\" /><line x1=\"3836.8276171875023\" x2=\"3836.8276171875023\" y1=\"25.0\" y2=\"75.0\" stroke=\"black\" stroke-width=\"3\" /><line x1=\"3946.479414062502\" x2=\"3946.479414062502\" y1=\"25.0\" y2=\"125.0\" stroke=\"black\" stroke-width=\"3\" /><line x1=\"4056.131210937502\" x2=\"4056.131210937502\" y1=\"25.0\" y2=\"175.0\" stroke=\"black\" stroke-width=\"3\" /><line x1=\"4165.783007812502\" x2=\"4165.783007812502\" y1=\"25.0\" y2=\"225.0\" stroke=\"black\" stroke-width=\"3\" /><line x1=\"4275.434804687502\" x2=\"4275.434804687502\" y1=\"25.0\" y2=\"275.0\" stroke=\"black\" stroke-width=\"3\" /><line x1=\"4385.086601562502\" x2=\"4385.086601562502\" y1=\"25.0\" y2=\"325.0\" stroke=\"black\" stroke-width=\"3\" /><line x1=\"4494.738398437503\" x2=\"4494.738398437503\" y1=\"25.0\" y2=\"375.0\" stroke=\"black\" stroke-width=\"3\" /><line x1=\"4604.390195312503\" x2=\"4604.390195312503\" y1=\"25.0\" y2=\"425.0\" stroke=\"black\" stroke-width=\"3\" /><line x1=\"4714.041992187504\" x2=\"4714.041992187504\" y1=\"25.0\" y2=\"475.0\" stroke=\"black\" stroke-width=\"3\" /><line x1=\"4823.693789062504\" x2=\"4823.693789062504\" y1=\"25.0\" y2=\"525.0\" stroke=\"black\" stroke-width=\"3\" /><line x1=\"4937.799199218754\" x2=\"4937.799199218754\" y1=\"25.0\" y2=\"575.0\" stroke=\"black\" stroke-width=\"3\" /><line x1=\"5056.358222656255\" x2=\"5056.358222656255\" y1=\"25.0\" y2=\"625.0\" stroke=\"black\" stroke-width=\"3\" /><line x1=\"5174.917246093755\" x2=\"5174.917246093755\" y1=\"25.0\" y2=\"675.0\" stroke=\"black\" stroke-width=\"3\" /><line x1=\"5293.476269531256\" x2=\"5293.476269531256\" y1=\"25.0\" y2=\"725.0\" stroke=\"black\" stroke-width=\"3\" /><line x1=\"5412.035292968756\" x2=\"5412.035292968756\" y1=\"25.0\" y2=\"775.0\" stroke=\"black\" stroke-width=\"3\" /><line x1=\"5530.594316406256\" x2=\"5530.594316406256\" y1=\"25.0\" y2=\"825.0\" stroke=\"black\" stroke-width=\"3\" /><line x1=\"5643.657109375007\" x2=\"5643.657109375007\" y1=\"25.0\" y2=\"75.0\" stroke=\"black\" stroke-width=\"3\" /><line x1=\"5751.223671875007\" x2=\"5751.223671875007\" y1=\"25.0\" y2=\"125.0\" stroke=\"black\" stroke-width=\"3\" /><line x1=\"5858.7902343750075\" x2=\"5858.7902343750075\" y1=\"25.0\" y2=\"175.0\" stroke=\"black\" stroke-width=\"3\" /><line x1=\"5966.356796875008\" x2=\"5966.356796875008\" y1=\"25.0\" y2=\"225.0\" stroke=\"black\" stroke-width=\"3\" /><line x1=\"6073.923359375008\" x2=\"6073.923359375008\" y1=\"25.0\" y2=\"275.0\" stroke=\"black\" stroke-width=\"3\" /><line x1=\"6181.489921875008\" x2=\"6181.489921875008\" y1=\"25.0\" y2=\"325.0\" stroke=\"black\" stroke-width=\"3\" /><line x1=\"6289.056484375008\" x2=\"6289.056484375008\" y1=\"25.0\" y2=\"375.0\" stroke=\"black\" stroke-width=\"3\" /><line x1=\"6396.623046875008\" x2=\"6396.623046875008\" y1=\"25.0\" y2=\"425.0\" stroke=\"black\" stroke-width=\"3\" /><line x1=\"6504.189609375008\" x2=\"6504.189609375008\" y1=\"25.0\" y2=\"475.0\" stroke=\"black\" stroke-width=\"3\" /><line x1=\"6611.7561718750085\" x2=\"6611.7561718750085\" y1=\"25.0\" y2=\"525.0\" stroke=\"black\" stroke-width=\"3\" /><line x1=\"6723.776347656259\" x2=\"6723.776347656259\" y1=\"25.0\" y2=\"575.0\" stroke=\"black\" stroke-width=\"3\" /><line x1=\"6840.250136718759\" x2=\"6840.250136718759\" y1=\"25.0\" y2=\"625.0\" stroke=\"black\" stroke-width=\"3\" /><line x1=\"6956.723925781259\" x2=\"6956.723925781259\" y1=\"25.0\" y2=\"675.0\" stroke=\"black\" stroke-width=\"3\" /><line x1=\"7073.197714843759\" x2=\"7073.197714843759\" y1=\"25.0\" y2=\"725.0\" stroke=\"black\" stroke-width=\"3\" /><line x1=\"7189.671503906259\" x2=\"7189.671503906259\" y1=\"25.0\" y2=\"775.0\" stroke=\"black\" stroke-width=\"3\" /><line x1=\"7306.145292968759\" x2=\"7306.145292968759\" y1=\"25.0\" y2=\"825.0\" stroke=\"black\" stroke-width=\"3\" /><line x1=\"7419.208085937509\" x2=\"7419.208085937509\" y1=\"25.0\" y2=\"75.0\" stroke=\"black\" stroke-width=\"3\" /><line x1=\"7528.85988281251\" x2=\"7528.85988281251\" y1=\"25.0\" y2=\"125.0\" stroke=\"black\" stroke-width=\"3\" /><line x1=\"7638.51167968751\" x2=\"7638.51167968751\" y1=\"25.0\" y2=\"175.0\" stroke=\"black\" stroke-width=\"3\" /><line x1=\"7748.16347656251\" x2=\"7748.16347656251\" y1=\"25.0\" y2=\"225.0\" stroke=\"black\" stroke-width=\"3\" /><line x1=\"7857.815273437511\" x2=\"7857.815273437511\" y1=\"25.0\" y2=\"275.0\" stroke=\"black\" stroke-width=\"3\" /><line x1=\"7967.467070312511\" x2=\"7967.467070312511\" y1=\"25.0\" y2=\"325.0\" stroke=\"black\" stroke-width=\"3\" /><line x1=\"8077.118867187512\" x2=\"8077.118867187512\" y1=\"25.0\" y2=\"375.0\" stroke=\"black\" stroke-width=\"3\" /><line x1=\"8186.770664062512\" x2=\"8186.770664062512\" y1=\"25.0\" y2=\"425.0\" stroke=\"black\" stroke-width=\"3\" /><line x1=\"8296.422460937512\" x2=\"8296.422460937512\" y1=\"25.0\" y2=\"475.0\" stroke=\"black\" stroke-width=\"3\" /><line x1=\"8406.074257812512\" x2=\"8406.074257812512\" y1=\"25.0\" y2=\"525.0\" stroke=\"black\" stroke-width=\"3\" /><line x1=\"8520.179667968761\" x2=\"8520.179667968761\" y1=\"25.0\" y2=\"575.0\" stroke=\"black\" stroke-width=\"3\" /><line x1=\"8638.73869140626\" x2=\"8638.73869140626\" y1=\"25.0\" y2=\"625.0\" stroke=\"black\" stroke-width=\"3\" /><line x1=\"8757.29771484376\" x2=\"8757.29771484376\" y1=\"25.0\" y2=\"675.0\" stroke=\"black\" stroke-width=\"3\" /><line x1=\"8875.85673828126\" x2=\"8875.85673828126\" y1=\"25.0\" y2=\"725.0\" stroke=\"black\" stroke-width=\"3\" /><line x1=\"8994.41576171876\" x2=\"8994.41576171876\" y1=\"25.0\" y2=\"775.0\" stroke=\"black\" stroke-width=\"3\" /><line x1=\"9112.974785156259\" x2=\"9112.974785156259\" y1=\"25.0\" y2=\"825.0\" stroke=\"black\" stroke-width=\"3\" /><line x1=\"9226.037578125008\" x2=\"9226.037578125008\" y1=\"25.0\" y2=\"75.0\" stroke=\"black\" stroke-width=\"3\" /><line x1=\"9333.604140625008\" x2=\"9333.604140625008\" y1=\"25.0\" y2=\"125.0\" stroke=\"black\" stroke-width=\"3\" /><line x1=\"9441.170703125008\" x2=\"9441.170703125008\" y1=\"25.0\" y2=\"175.0\" stroke=\"black\" stroke-width=\"3\" /><line x1=\"9548.737265625008\" x2=\"9548.737265625008\" y1=\"25.0\" y2=\"225.0\" stroke=\"black\" stroke-width=\"3\" /><line x1=\"9656.303828125008\" x2=\"9656.303828125008\" y1=\"25.0\" y2=\"275.0\" stroke=\"black\" stroke-width=\"3\" /><line x1=\"9763.870390625008\" x2=\"9763.870390625008\" y1=\"25.0\" y2=\"325.0\" stroke=\"black\" stroke-width=\"3\" /><line x1=\"9871.436953125009\" x2=\"9871.436953125009\" y1=\"25.0\" y2=\"375.0\" stroke=\"black\" stroke-width=\"3\" /><line x1=\"9979.003515625009\" x2=\"9979.003515625009\" y1=\"25.0\" y2=\"425.0\" stroke=\"black\" stroke-width=\"3\" /><line x1=\"10086.570078125009\" x2=\"10086.570078125009\" y1=\"25.0\" y2=\"475.0\" stroke=\"black\" stroke-width=\"3\" /><line x1=\"10194.136640625009\" x2=\"10194.136640625009\" y1=\"25.0\" y2=\"525.0\" stroke=\"black\" stroke-width=\"3\" /><line x1=\"10306.15681640626\" x2=\"10306.15681640626\" y1=\"25.0\" y2=\"575.0\" stroke=\"black\" stroke-width=\"3\" /><line x1=\"10422.63060546876\" x2=\"10422.63060546876\" y1=\"25.0\" y2=\"625.0\" stroke=\"black\" stroke-width=\"3\" /><line x1=\"10539.10439453126\" x2=\"10539.10439453126\" y1=\"25.0\" y2=\"675.0\" stroke=\"black\" stroke-width=\"3\" /><line x1=\"10655.57818359376\" x2=\"10655.57818359376\" y1=\"25.0\" y2=\"725.0\" stroke=\"black\" stroke-width=\"3\" /><line x1=\"10772.05197265626\" x2=\"10772.05197265626\" y1=\"25.0\" y2=\"775.0\" stroke=\"black\" stroke-width=\"3\" /><line x1=\"10888.52576171876\" x2=\"10888.52576171876\" y1=\"25.0\" y2=\"825.0\" stroke=\"black\" stroke-width=\"3\" /><line x1=\"11011.98246093751\" x2=\"11011.98246093751\" y1=\"25.0\" y2=\"75.0\" stroke=\"black\" stroke-width=\"3\" /><line x1=\"11142.42207031251\" x2=\"11142.42207031251\" y1=\"25.0\" y2=\"125.0\" stroke=\"black\" stroke-width=\"3\" /><line x1=\"11272.86167968751\" x2=\"11272.86167968751\" y1=\"25.0\" y2=\"175.0\" stroke=\"black\" stroke-width=\"3\" /><line x1=\"11403.30128906251\" x2=\"11403.30128906251\" y1=\"25.0\" y2=\"225.0\" stroke=\"black\" stroke-width=\"3\" /><line x1=\"11533.74089843751\" x2=\"11533.74089843751\" y1=\"25.0\" y2=\"275.0\" stroke=\"black\" stroke-width=\"3\" /><line x1=\"11664.18050781251\" x2=\"11664.18050781251\" y1=\"25.0\" y2=\"325.0\" stroke=\"black\" stroke-width=\"3\" /><line x1=\"11794.620117187511\" x2=\"11794.620117187511\" y1=\"25.0\" y2=\"375.0\" stroke=\"black\" stroke-width=\"3\" /><line x1=\"11925.059726562511\" x2=\"11925.059726562511\" y1=\"25.0\" y2=\"425.0\" stroke=\"black\" stroke-width=\"3\" /><line x1=\"12055.499335937511\" x2=\"12055.499335937511\" y1=\"25.0\" y2=\"475.0\" stroke=\"black\" stroke-width=\"3\" /><line x1=\"12185.938945312511\" x2=\"12185.938945312511\" y1=\"25.0\" y2=\"525.0\" stroke=\"black\" stroke-width=\"3\" /><line x1=\"12320.832167968761\" x2=\"12320.832167968761\" y1=\"25.0\" y2=\"575.0\" stroke=\"black\" stroke-width=\"3\" /><line x1=\"12460.179003906262\" x2=\"12460.179003906262\" y1=\"25.0\" y2=\"625.0\" stroke=\"black\" stroke-width=\"3\" /><line x1=\"12599.525839843762\" x2=\"12599.525839843762\" y1=\"25.0\" y2=\"675.0\" stroke=\"black\" stroke-width=\"3\" /><line x1=\"12738.872675781262\" x2=\"12738.872675781262\" y1=\"25.0\" y2=\"725.0\" stroke=\"black\" stroke-width=\"3\" /><line x1=\"12878.219511718762\" x2=\"12878.219511718762\" y1=\"25.0\" y2=\"775.0\" stroke=\"black\" stroke-width=\"3\" /><line x1=\"13017.566347656262\" x2=\"13017.566347656262\" y1=\"25.0\" y2=\"825.0\" stroke=\"black\" stroke-width=\"3\" /><line x1=\"13144.505957031262\" x2=\"13144.505957031262\" y1=\"25.0\" y2=\"75.0\" stroke=\"black\" stroke-width=\"3\" /><line x1=\"13259.038339843763\" x2=\"13259.038339843763\" y1=\"25.0\" y2=\"125.0\" stroke=\"black\" stroke-width=\"3\" /><line x1=\"13373.570722656263\" x2=\"13373.570722656263\" y1=\"25.0\" y2=\"175.0\" stroke=\"black\" stroke-width=\"3\" /><line x1=\"13488.103105468763\" x2=\"13488.103105468763\" y1=\"25.0\" y2=\"225.0\" stroke=\"black\" stroke-width=\"3\" /><line x1=\"13602.635488281263\" x2=\"13602.635488281263\" y1=\"25.0\" y2=\"275.0\" stroke=\"black\" stroke-width=\"3\" /><line x1=\"13717.167871093763\" x2=\"13717.167871093763\" y1=\"25.0\" y2=\"325.0\" stroke=\"black\" stroke-width=\"3\" /><line x1=\"13831.700253906263\" x2=\"13831.700253906263\" y1=\"25.0\" y2=\"375.0\" stroke=\"black\" stroke-width=\"3\" /><line x1=\"13946.232636718763\" x2=\"13946.232636718763\" y1=\"25.0\" y2=\"425.0\" stroke=\"black\" stroke-width=\"3\" /><line x1=\"14060.765019531264\" x2=\"14060.765019531264\" y1=\"25.0\" y2=\"475.0\" stroke=\"black\" stroke-width=\"3\" /><line x1=\"14175.297402343764\" x2=\"14175.297402343764\" y1=\"25.0\" y2=\"525.0\" stroke=\"black\" stroke-width=\"3\" /><line x1=\"14294.283398437514\" x2=\"14294.283398437514\" y1=\"25.0\" y2=\"575.0\" stroke=\"black\" stroke-width=\"3\" /><line x1=\"14417.723007812514\" x2=\"14417.723007812514\" y1=\"25.0\" y2=\"625.0\" stroke=\"black\" stroke-width=\"3\" /><line x1=\"14541.162617187514\" x2=\"14541.162617187514\" y1=\"25.0\" y2=\"675.0\" stroke=\"black\" stroke-width=\"3\" /><line x1=\"14664.602226562514\" x2=\"14664.602226562514\" y1=\"25.0\" y2=\"725.0\" stroke=\"black\" stroke-width=\"3\" /><line x1=\"14788.041835937514\" x2=\"14788.041835937514\" y1=\"25.0\" y2=\"775.0\" stroke=\"black\" stroke-width=\"3\" /><line x1=\"14911.481445312515\" x2=\"14911.481445312515\" y1=\"25.0\" y2=\"825.0\" stroke=\"black\" stroke-width=\"3\" /><rect x=\"10.0\" y=\"5.0\" width=\"59.62125\" height=\"40\" stroke=\"black\" fill=\"white\" stroke-width=\"0\" /><text x=\"39.810625\" y=\"25.0\" dominant-baseline=\"middle\" text-anchor=\"middle\" font-size=\"14px\" font-family=\"Arial\">(-1, -1): </text><rect x=\"10.0\" y=\"55.0\" width=\"59.62125\" height=\"40\" stroke=\"black\" fill=\"white\" stroke-width=\"0\" /><text x=\"39.810625\" y=\"75.0\" dominant-baseline=\"middle\" text-anchor=\"middle\" font-size=\"14px\" font-family=\"Arial\">(0, 0): </text><rect x=\"10.0\" y=\"105.0\" width=\"59.62125\" height=\"40\" stroke=\"black\" fill=\"white\" stroke-width=\"0\" /><text x=\"39.810625\" y=\"125.0\" dominant-baseline=\"middle\" text-anchor=\"middle\" font-size=\"14px\" font-family=\"Arial\">(0, 1): </text><rect x=\"10.0\" y=\"155.0\" width=\"59.62125\" height=\"40\" stroke=\"black\" fill=\"white\" stroke-width=\"0\" /><text x=\"39.810625\" y=\"175.0\" dominant-baseline=\"middle\" text-anchor=\"middle\" font-size=\"14px\" font-family=\"Arial\">(0, 2): </text><rect x=\"10.0\" y=\"205.0\" width=\"59.62125\" height=\"40\" stroke=\"black\" fill=\"white\" stroke-width=\"0\" /><text x=\"39.810625\" y=\"225.0\" dominant-baseline=\"middle\" text-anchor=\"middle\" font-size=\"14px\" font-family=\"Arial\">(0, 3): </text><rect x=\"10.0\" y=\"255.0\" width=\"59.62125\" height=\"40\" stroke=\"black\" fill=\"white\" stroke-width=\"0\" /><text x=\"39.810625\" y=\"275.0\" dominant-baseline=\"middle\" text-anchor=\"middle\" font-size=\"14px\" font-family=\"Arial\">(1, 0): </text><rect x=\"10.0\" y=\"305.0\" width=\"59.62125\" height=\"40\" stroke=\"black\" fill=\"white\" stroke-width=\"0\" /><text x=\"39.810625\" y=\"325.0\" dominant-baseline=\"middle\" text-anchor=\"middle\" font-size=\"14px\" font-family=\"Arial\">(1, 1): </text><rect x=\"10.0\" y=\"355.0\" width=\"59.62125\" height=\"40\" stroke=\"black\" fill=\"white\" stroke-width=\"0\" /><text x=\"39.810625\" y=\"375.0\" dominant-baseline=\"middle\" text-anchor=\"middle\" font-size=\"14px\" font-family=\"Arial\">(1, 2): </text><rect x=\"10.0\" y=\"405.0\" width=\"59.62125\" height=\"40\" stroke=\"black\" fill=\"white\" stroke-width=\"0\" /><text x=\"39.810625\" y=\"425.0\" dominant-baseline=\"middle\" text-anchor=\"middle\" font-size=\"14px\" font-family=\"Arial\">(1, 3): </text><rect x=\"10.0\" y=\"455.0\" width=\"59.62125\" height=\"40\" stroke=\"black\" fill=\"white\" stroke-width=\"0\" /><text x=\"39.810625\" y=\"475.0\" dominant-baseline=\"middle\" text-anchor=\"middle\" font-size=\"14px\" font-family=\"Arial\">(2, 0): </text><rect x=\"10.0\" y=\"505.0\" width=\"59.62125\" height=\"40\" stroke=\"black\" fill=\"white\" stroke-width=\"0\" /><text x=\"39.810625\" y=\"525.0\" dominant-baseline=\"middle\" text-anchor=\"middle\" font-size=\"14px\" font-family=\"Arial\">(2, 1): </text><rect x=\"10.0\" y=\"555.0\" width=\"59.62125\" height=\"40\" stroke=\"black\" fill=\"white\" stroke-width=\"0\" /><text x=\"39.810625\" y=\"575.0\" dominant-baseline=\"middle\" text-anchor=\"middle\" font-size=\"14px\" font-family=\"Arial\">(2, 2): </text><rect x=\"10.0\" y=\"605.0\" width=\"59.62125\" height=\"40\" stroke=\"black\" fill=\"white\" stroke-width=\"0\" /><text x=\"39.810625\" y=\"625.0\" dominant-baseline=\"middle\" text-anchor=\"middle\" font-size=\"14px\" font-family=\"Arial\">(2, 3): </text><rect x=\"10.0\" y=\"655.0\" width=\"59.62125\" height=\"40\" stroke=\"black\" fill=\"white\" stroke-width=\"0\" /><text x=\"39.810625\" y=\"675.0\" dominant-baseline=\"middle\" text-anchor=\"middle\" font-size=\"14px\" font-family=\"Arial\">(3, 0): </text><rect x=\"10.0\" y=\"705.0\" width=\"59.62125\" height=\"40\" stroke=\"black\" fill=\"white\" stroke-width=\"0\" /><text x=\"39.810625\" y=\"725.0\" dominant-baseline=\"middle\" text-anchor=\"middle\" font-size=\"14px\" font-family=\"Arial\">(3, 1): </text><rect x=\"10.0\" y=\"755.0\" width=\"59.62125\" height=\"40\" stroke=\"black\" fill=\"white\" stroke-width=\"0\" /><text x=\"39.810625\" y=\"775.0\" dominant-baseline=\"middle\" text-anchor=\"middle\" font-size=\"14px\" font-family=\"Arial\">(3, 2): </text><rect x=\"10.0\" y=\"805.0\" width=\"59.62125\" height=\"40\" stroke=\"black\" fill=\"white\" stroke-width=\"0\" /><text x=\"39.810625\" y=\"825.0\" dominant-baseline=\"middle\" text-anchor=\"middle\" font-size=\"14px\" font-family=\"Arial\">(3, 3): </text><rect x=\"89.62125\" y=\"5.0\" width=\"40\" height=\"40\" stroke=\"black\" fill=\"white\" stroke-width=\"1\" /><text x=\"109.62125\" y=\"25.0\" dominant-baseline=\"middle\" text-anchor=\"middle\" font-size=\"18px\" font-family=\"Arial\">X</text><rect x=\"149.62125\" y=\"5.0\" width=\"40\" height=\"40\" stroke=\"black\" fill=\"white\" stroke-width=\"1\" /><text x=\"169.62125\" y=\"25.0\" dominant-baseline=\"middle\" text-anchor=\"middle\" font-size=\"18px\" font-family=\"Arial\">H</text><rect x=\"209.62125\" y=\"55.0\" width=\"89.65179687500002\" height=\"40\" stroke=\"black\" fill=\"white\" stroke-width=\"1\" /><text x=\"254.4471484375\" y=\"75.0\" dominant-baseline=\"middle\" text-anchor=\"middle\" font-size=\"14px\" font-family=\"Arial\">XX^(xx1-0)</text><rect x=\"209.62125\" y=\"5.0\" width=\"89.65179687500002\" height=\"40\" stroke=\"black\" fill=\"white\" stroke-width=\"1\" /><text x=\"254.4471484375\" y=\"25.0\" dominant-baseline=\"middle\" text-anchor=\"middle\" font-size=\"14px\" font-family=\"Arial\">XX</text><rect x=\"319.27304687500003\" y=\"105.0\" width=\"89.65179687500002\" height=\"40\" stroke=\"black\" fill=\"white\" stroke-width=\"1\" /><text x=\"364.09894531250006\" y=\"125.0\" dominant-baseline=\"middle\" text-anchor=\"middle\" font-size=\"14px\" font-family=\"Arial\">XX^(xx1-1)</text><rect x=\"319.27304687500003\" y=\"5.0\" width=\"89.65179687500002\" height=\"40\" stroke=\"black\" fill=\"white\" stroke-width=\"1\" /><text x=\"364.09894531250006\" y=\"25.0\" dominant-baseline=\"middle\" text-anchor=\"middle\" font-size=\"14px\" font-family=\"Arial\">XX</text><rect x=\"428.92484375000004\" y=\"155.0\" width=\"89.65179687500002\" height=\"40\" stroke=\"black\" fill=\"white\" stroke-width=\"1\" /><text x=\"473.75074218750007\" y=\"175.0\" dominant-baseline=\"middle\" text-anchor=\"middle\" font-size=\"14px\" font-family=\"Arial\">XX^(xx1-2)</text><rect x=\"428.92484375000004\" y=\"5.0\" width=\"89.65179687500002\" height=\"40\" stroke=\"black\" fill=\"white\" stroke-width=\"1\" /><text x=\"473.75074218750007\" y=\"25.0\" dominant-baseline=\"middle\" text-anchor=\"middle\" font-size=\"14px\" font-family=\"Arial\">XX</text><rect x=\"538.5766406250001\" y=\"205.0\" width=\"89.65179687500002\" height=\"40\" stroke=\"black\" fill=\"white\" stroke-width=\"1\" /><text x=\"583.4025390625001\" y=\"225.0\" dominant-baseline=\"middle\" text-anchor=\"middle\" font-size=\"14px\" font-family=\"Arial\">XX^(xx1-3)</text><rect x=\"538.5766406250001\" y=\"5.0\" width=\"89.65179687500002\" height=\"40\" stroke=\"black\" fill=\"white\" stroke-width=\"1\" /><text x=\"583.4025390625001\" y=\"25.0\" dominant-baseline=\"middle\" text-anchor=\"middle\" font-size=\"14px\" font-family=\"Arial\">XX</text><rect x=\"648.2284375000002\" y=\"255.0\" width=\"89.65179687500002\" height=\"40\" stroke=\"black\" fill=\"white\" stroke-width=\"1\" /><text x=\"693.0543359375001\" y=\"275.0\" dominant-baseline=\"middle\" text-anchor=\"middle\" font-size=\"14px\" font-family=\"Arial\">XX^(xx1-4)</text><rect x=\"648.2284375000002\" y=\"5.0\" width=\"89.65179687500002\" height=\"40\" stroke=\"black\" fill=\"white\" stroke-width=\"1\" /><text x=\"693.0543359375001\" y=\"25.0\" dominant-baseline=\"middle\" text-anchor=\"middle\" font-size=\"14px\" font-family=\"Arial\">XX</text><rect x=\"757.8802343750002\" y=\"305.0\" width=\"89.65179687500002\" height=\"40\" stroke=\"black\" fill=\"white\" stroke-width=\"1\" /><text x=\"802.7061328125002\" y=\"325.0\" dominant-baseline=\"middle\" text-anchor=\"middle\" font-size=\"14px\" font-family=\"Arial\">XX^(xx1-5)</text><rect x=\"757.8802343750002\" y=\"5.0\" width=\"89.65179687500002\" height=\"40\" stroke=\"black\" fill=\"white\" stroke-width=\"1\" /><text x=\"802.7061328125002\" y=\"25.0\" dominant-baseline=\"middle\" text-anchor=\"middle\" font-size=\"14px\" font-family=\"Arial\">XX</text><rect x=\"867.5320312500003\" y=\"355.0\" width=\"89.65179687500002\" height=\"40\" stroke=\"black\" fill=\"white\" stroke-width=\"1\" /><text x=\"912.3579296875002\" y=\"375.0\" dominant-baseline=\"middle\" text-anchor=\"middle\" font-size=\"14px\" font-family=\"Arial\">XX^(xx1-6)</text><rect x=\"867.5320312500003\" y=\"5.0\" width=\"89.65179687500002\" height=\"40\" stroke=\"black\" fill=\"white\" stroke-width=\"1\" /><text x=\"912.3579296875002\" y=\"25.0\" dominant-baseline=\"middle\" text-anchor=\"middle\" font-size=\"14px\" font-family=\"Arial\">XX</text><rect x=\"977.1838281250003\" y=\"405.0\" width=\"89.65179687500002\" height=\"40\" stroke=\"black\" fill=\"white\" stroke-width=\"1\" /><text x=\"1022.0097265625003\" y=\"425.0\" dominant-baseline=\"middle\" text-anchor=\"middle\" font-size=\"14px\" font-family=\"Arial\">XX^(xx1-7)</text><rect x=\"977.1838281250003\" y=\"5.0\" width=\"89.65179687500002\" height=\"40\" stroke=\"black\" fill=\"white\" stroke-width=\"1\" /><text x=\"1022.0097265625003\" y=\"25.0\" dominant-baseline=\"middle\" text-anchor=\"middle\" font-size=\"14px\" font-family=\"Arial\">XX</text><rect x=\"1086.8356250000004\" y=\"455.0\" width=\"89.65179687500002\" height=\"40\" stroke=\"black\" fill=\"white\" stroke-width=\"1\" /><text x=\"1131.6615234375004\" y=\"475.0\" dominant-baseline=\"middle\" text-anchor=\"middle\" font-size=\"14px\" font-family=\"Arial\">XX^(xx1-8)</text><rect x=\"1086.8356250000004\" y=\"5.0\" width=\"89.65179687500002\" height=\"40\" stroke=\"black\" fill=\"white\" stroke-width=\"1\" /><text x=\"1131.6615234375004\" y=\"25.0\" dominant-baseline=\"middle\" text-anchor=\"middle\" font-size=\"14px\" font-family=\"Arial\">XX</text><rect x=\"1196.4874218750003\" y=\"505.0\" width=\"89.65179687500002\" height=\"40\" stroke=\"black\" fill=\"white\" stroke-width=\"1\" /><text x=\"1241.3133203125003\" y=\"525.0\" dominant-baseline=\"middle\" text-anchor=\"middle\" font-size=\"14px\" font-family=\"Arial\">XX^(xx1-9)</text><rect x=\"1196.4874218750003\" y=\"5.0\" width=\"89.65179687500002\" height=\"40\" stroke=\"black\" fill=\"white\" stroke-width=\"1\" /><text x=\"1241.3133203125003\" y=\"25.0\" dominant-baseline=\"middle\" text-anchor=\"middle\" font-size=\"14px\" font-family=\"Arial\">XX</text><rect x=\"1306.1392187500003\" y=\"555.0\" width=\"98.55902343750002\" height=\"40\" stroke=\"black\" fill=\"white\" stroke-width=\"1\" /><text x=\"1355.4187304687503\" y=\"575.0\" dominant-baseline=\"middle\" text-anchor=\"middle\" font-size=\"14px\" font-family=\"Arial\">XX^(xx1-10)</text><rect x=\"1306.1392187500003\" y=\"5.0\" width=\"98.55902343750002\" height=\"40\" stroke=\"black\" fill=\"white\" stroke-width=\"1\" /><text x=\"1355.4187304687503\" y=\"25.0\" dominant-baseline=\"middle\" text-anchor=\"middle\" font-size=\"14px\" font-family=\"Arial\">XX</text><rect x=\"1424.6982421875002\" y=\"605.0\" width=\"98.55902343750002\" height=\"40\" stroke=\"black\" fill=\"white\" stroke-width=\"1\" /><text x=\"1473.9777539062502\" y=\"625.0\" dominant-baseline=\"middle\" text-anchor=\"middle\" font-size=\"14px\" font-family=\"Arial\">XX^(xx1-11)</text><rect x=\"1424.6982421875002\" y=\"5.0\" width=\"98.55902343750002\" height=\"40\" stroke=\"black\" fill=\"white\" stroke-width=\"1\" /><text x=\"1473.9777539062502\" y=\"25.0\" dominant-baseline=\"middle\" text-anchor=\"middle\" font-size=\"14px\" font-family=\"Arial\">XX</text><rect x=\"1543.2572656250002\" y=\"655.0\" width=\"98.55902343750002\" height=\"40\" stroke=\"black\" fill=\"white\" stroke-width=\"1\" /><text x=\"1592.5367773437501\" y=\"675.0\" dominant-baseline=\"middle\" text-anchor=\"middle\" font-size=\"14px\" font-family=\"Arial\">XX^(xx1-12)</text><rect x=\"1543.2572656250002\" y=\"5.0\" width=\"98.55902343750002\" height=\"40\" stroke=\"black\" fill=\"white\" stroke-width=\"1\" /><text x=\"1592.5367773437501\" y=\"25.0\" dominant-baseline=\"middle\" text-anchor=\"middle\" font-size=\"14px\" font-family=\"Arial\">XX</text><rect x=\"1661.8162890625001\" y=\"705.0\" width=\"98.55902343750002\" height=\"40\" stroke=\"black\" fill=\"white\" stroke-width=\"1\" /><text x=\"1711.09580078125\" y=\"725.0\" dominant-baseline=\"middle\" text-anchor=\"middle\" font-size=\"14px\" font-family=\"Arial\">XX^(xx1-13)</text><rect x=\"1661.8162890625001\" y=\"5.0\" width=\"98.55902343750002\" height=\"40\" stroke=\"black\" fill=\"white\" stroke-width=\"1\" /><text x=\"1711.09580078125\" y=\"25.0\" dominant-baseline=\"middle\" text-anchor=\"middle\" font-size=\"14px\" font-family=\"Arial\">XX</text><rect x=\"1780.3753125\" y=\"755.0\" width=\"98.55902343750002\" height=\"40\" stroke=\"black\" fill=\"white\" stroke-width=\"1\" /><text x=\"1829.65482421875\" y=\"775.0\" dominant-baseline=\"middle\" text-anchor=\"middle\" font-size=\"14px\" font-family=\"Arial\">XX^(xx1-14)</text><rect x=\"1780.3753125\" y=\"5.0\" width=\"98.55902343750002\" height=\"40\" stroke=\"black\" fill=\"white\" stroke-width=\"1\" /><text x=\"1829.65482421875\" y=\"25.0\" dominant-baseline=\"middle\" text-anchor=\"middle\" font-size=\"14px\" font-family=\"Arial\">XX</text><rect x=\"1898.9343359375\" y=\"805.0\" width=\"98.55902343750002\" height=\"40\" stroke=\"black\" fill=\"white\" stroke-width=\"1\" /><text x=\"1948.21384765625\" y=\"825.0\" dominant-baseline=\"middle\" text-anchor=\"middle\" font-size=\"14px\" font-family=\"Arial\">XX^(xx1-15)</text><rect x=\"1898.9343359375\" y=\"5.0\" width=\"98.55902343750002\" height=\"40\" stroke=\"black\" fill=\"white\" stroke-width=\"1\" /><text x=\"1948.21384765625\" y=\"25.0\" dominant-baseline=\"middle\" text-anchor=\"middle\" font-size=\"14px\" font-family=\"Arial\">XX</text><rect x=\"2017.4933593749997\" y=\"55.0\" width=\"87.56656250000002\" height=\"40\" stroke=\"black\" fill=\"white\" stroke-width=\"1\" /><text x=\"2061.276640625\" y=\"75.0\" dominant-baseline=\"middle\" text-anchor=\"middle\" font-size=\"14px\" font-family=\"Arial\">ZZ^(zz1-0)</text><rect x=\"2017.4933593749997\" y=\"5.0\" width=\"87.56656250000002\" height=\"40\" stroke=\"black\" fill=\"white\" stroke-width=\"1\" /><text x=\"2061.276640625\" y=\"25.0\" dominant-baseline=\"middle\" text-anchor=\"middle\" font-size=\"14px\" font-family=\"Arial\">ZZ</text><rect x=\"2125.059921875\" y=\"105.0\" width=\"87.56656250000002\" height=\"40\" stroke=\"black\" fill=\"white\" stroke-width=\"1\" /><text x=\"2168.843203125\" y=\"125.0\" dominant-baseline=\"middle\" text-anchor=\"middle\" font-size=\"14px\" font-family=\"Arial\">ZZ^(zz1-1)</text><rect x=\"2125.059921875\" y=\"5.0\" width=\"87.56656250000002\" height=\"40\" stroke=\"black\" fill=\"white\" stroke-width=\"1\" /><text x=\"2168.843203125\" y=\"25.0\" dominant-baseline=\"middle\" text-anchor=\"middle\" font-size=\"14px\" font-family=\"Arial\">ZZ</text><rect x=\"2232.626484375\" y=\"155.0\" width=\"87.56656250000002\" height=\"40\" stroke=\"black\" fill=\"white\" stroke-width=\"1\" /><text x=\"2276.409765625\" y=\"175.0\" dominant-baseline=\"middle\" text-anchor=\"middle\" font-size=\"14px\" font-family=\"Arial\">ZZ^(zz1-2)</text><rect x=\"2232.626484375\" y=\"5.0\" width=\"87.56656250000002\" height=\"40\" stroke=\"black\" fill=\"white\" stroke-width=\"1\" /><text x=\"2276.409765625\" y=\"25.0\" dominant-baseline=\"middle\" text-anchor=\"middle\" font-size=\"14px\" font-family=\"Arial\">ZZ</text><rect x=\"2340.193046875\" y=\"205.0\" width=\"87.56656250000002\" height=\"40\" stroke=\"black\" fill=\"white\" stroke-width=\"1\" /><text x=\"2383.9763281250002\" y=\"225.0\" dominant-baseline=\"middle\" text-anchor=\"middle\" font-size=\"14px\" font-family=\"Arial\">ZZ^(zz1-3)</text><rect x=\"2340.193046875\" y=\"5.0\" width=\"87.56656250000002\" height=\"40\" stroke=\"black\" fill=\"white\" stroke-width=\"1\" /><text x=\"2383.9763281250002\" y=\"25.0\" dominant-baseline=\"middle\" text-anchor=\"middle\" font-size=\"14px\" font-family=\"Arial\">ZZ</text><rect x=\"2447.7596093750003\" y=\"255.0\" width=\"87.56656250000002\" height=\"40\" stroke=\"black\" fill=\"white\" stroke-width=\"1\" /><text x=\"2491.5428906250004\" y=\"275.0\" dominant-baseline=\"middle\" text-anchor=\"middle\" font-size=\"14px\" font-family=\"Arial\">ZZ^(zz1-4)</text><rect x=\"2447.7596093750003\" y=\"5.0\" width=\"87.56656250000002\" height=\"40\" stroke=\"black\" fill=\"white\" stroke-width=\"1\" /><text x=\"2491.5428906250004\" y=\"25.0\" dominant-baseline=\"middle\" text-anchor=\"middle\" font-size=\"14px\" font-family=\"Arial\">ZZ</text><rect x=\"2555.3261718750005\" y=\"305.0\" width=\"87.56656250000002\" height=\"40\" stroke=\"black\" fill=\"white\" stroke-width=\"1\" /><text x=\"2599.1094531250005\" y=\"325.0\" dominant-baseline=\"middle\" text-anchor=\"middle\" font-size=\"14px\" font-family=\"Arial\">ZZ^(zz1-5)</text><rect x=\"2555.3261718750005\" y=\"5.0\" width=\"87.56656250000002\" height=\"40\" stroke=\"black\" fill=\"white\" stroke-width=\"1\" /><text x=\"2599.1094531250005\" y=\"25.0\" dominant-baseline=\"middle\" text-anchor=\"middle\" font-size=\"14px\" font-family=\"Arial\">ZZ</text><rect x=\"2662.8927343750006\" y=\"355.0\" width=\"87.56656250000002\" height=\"40\" stroke=\"black\" fill=\"white\" stroke-width=\"1\" /><text x=\"2706.6760156250007\" y=\"375.0\" dominant-baseline=\"middle\" text-anchor=\"middle\" font-size=\"14px\" font-family=\"Arial\">ZZ^(zz1-6)</text><rect x=\"2662.8927343750006\" y=\"5.0\" width=\"87.56656250000002\" height=\"40\" stroke=\"black\" fill=\"white\" stroke-width=\"1\" /><text x=\"2706.6760156250007\" y=\"25.0\" dominant-baseline=\"middle\" text-anchor=\"middle\" font-size=\"14px\" font-family=\"Arial\">ZZ</text><rect x=\"2770.4592968750007\" y=\"405.0\" width=\"87.56656250000002\" height=\"40\" stroke=\"black\" fill=\"white\" stroke-width=\"1\" /><text x=\"2814.242578125001\" y=\"425.0\" dominant-baseline=\"middle\" text-anchor=\"middle\" font-size=\"14px\" font-family=\"Arial\">ZZ^(zz1-7)</text><rect x=\"2770.4592968750007\" y=\"5.0\" width=\"87.56656250000002\" height=\"40\" stroke=\"black\" fill=\"white\" stroke-width=\"1\" /><text x=\"2814.242578125001\" y=\"25.0\" dominant-baseline=\"middle\" text-anchor=\"middle\" font-size=\"14px\" font-family=\"Arial\">ZZ</text><rect x=\"2878.025859375001\" y=\"455.0\" width=\"87.56656250000002\" height=\"40\" stroke=\"black\" fill=\"white\" stroke-width=\"1\" /><text x=\"2921.809140625001\" y=\"475.0\" dominant-baseline=\"middle\" text-anchor=\"middle\" font-size=\"14px\" font-family=\"Arial\">ZZ^(zz1-8)</text><rect x=\"2878.025859375001\" y=\"5.0\" width=\"87.56656250000002\" height=\"40\" stroke=\"black\" fill=\"white\" stroke-width=\"1\" /><text x=\"2921.809140625001\" y=\"25.0\" dominant-baseline=\"middle\" text-anchor=\"middle\" font-size=\"14px\" font-family=\"Arial\">ZZ</text><rect x=\"2985.592421875001\" y=\"505.0\" width=\"87.56656250000002\" height=\"40\" stroke=\"black\" fill=\"white\" stroke-width=\"1\" /><text x=\"3029.375703125001\" y=\"525.0\" dominant-baseline=\"middle\" text-anchor=\"middle\" font-size=\"14px\" font-family=\"Arial\">ZZ^(zz1-9)</text><rect x=\"2985.592421875001\" y=\"5.0\" width=\"87.56656250000002\" height=\"40\" stroke=\"black\" fill=\"white\" stroke-width=\"1\" /><text x=\"3029.375703125001\" y=\"25.0\" dominant-baseline=\"middle\" text-anchor=\"middle\" font-size=\"14px\" font-family=\"Arial\">ZZ</text><rect x=\"3093.158984375001\" y=\"555.0\" width=\"96.47378906250002\" height=\"40\" stroke=\"black\" fill=\"white\" stroke-width=\"1\" /><text x=\"3141.3958789062513\" y=\"575.0\" dominant-baseline=\"middle\" text-anchor=\"middle\" font-size=\"14px\" font-family=\"Arial\">ZZ^(zz1-10)</text><rect x=\"3093.158984375001\" y=\"5.0\" width=\"96.47378906250002\" height=\"40\" stroke=\"black\" fill=\"white\" stroke-width=\"1\" /><text x=\"3141.3958789062513\" y=\"25.0\" dominant-baseline=\"middle\" text-anchor=\"middle\" font-size=\"14px\" font-family=\"Arial\">ZZ</text><rect x=\"3209.6327734375013\" y=\"605.0\" width=\"96.47378906250002\" height=\"40\" stroke=\"black\" fill=\"white\" stroke-width=\"1\" /><text x=\"3257.8696679687514\" y=\"625.0\" dominant-baseline=\"middle\" text-anchor=\"middle\" font-size=\"14px\" font-family=\"Arial\">ZZ^(zz1-11)</text><rect x=\"3209.6327734375013\" y=\"5.0\" width=\"96.47378906250002\" height=\"40\" stroke=\"black\" fill=\"white\" stroke-width=\"1\" /><text x=\"3257.8696679687514\" y=\"25.0\" dominant-baseline=\"middle\" text-anchor=\"middle\" font-size=\"14px\" font-family=\"Arial\">ZZ</text><rect x=\"3326.1065625000015\" y=\"655.0\" width=\"96.47378906250002\" height=\"40\" stroke=\"black\" fill=\"white\" stroke-width=\"1\" /><text x=\"3374.3434570312515\" y=\"675.0\" dominant-baseline=\"middle\" text-anchor=\"middle\" font-size=\"14px\" font-family=\"Arial\">ZZ^(zz1-12)</text><rect x=\"3326.1065625000015\" y=\"5.0\" width=\"96.47378906250002\" height=\"40\" stroke=\"black\" fill=\"white\" stroke-width=\"1\" /><text x=\"3374.3434570312515\" y=\"25.0\" dominant-baseline=\"middle\" text-anchor=\"middle\" font-size=\"14px\" font-family=\"Arial\">ZZ</text><rect x=\"3442.5803515625016\" y=\"705.0\" width=\"96.47378906250002\" height=\"40\" stroke=\"black\" fill=\"white\" stroke-width=\"1\" /><text x=\"3490.8172460937517\" y=\"725.0\" dominant-baseline=\"middle\" text-anchor=\"middle\" font-size=\"14px\" font-family=\"Arial\">ZZ^(zz1-13)</text><rect x=\"3442.5803515625016\" y=\"5.0\" width=\"96.47378906250002\" height=\"40\" stroke=\"black\" fill=\"white\" stroke-width=\"1\" /><text x=\"3490.8172460937517\" y=\"25.0\" dominant-baseline=\"middle\" text-anchor=\"middle\" font-size=\"14px\" font-family=\"Arial\">ZZ</text><rect x=\"3559.0541406250018\" y=\"755.0\" width=\"96.47378906250002\" height=\"40\" stroke=\"black\" fill=\"white\" stroke-width=\"1\" /><text x=\"3607.291035156252\" y=\"775.0\" dominant-baseline=\"middle\" text-anchor=\"middle\" font-size=\"14px\" font-family=\"Arial\">ZZ^(zz1-14)</text><rect x=\"3559.0541406250018\" y=\"5.0\" width=\"96.47378906250002\" height=\"40\" stroke=\"black\" fill=\"white\" stroke-width=\"1\" /><text x=\"3607.291035156252\" y=\"25.0\" dominant-baseline=\"middle\" text-anchor=\"middle\" font-size=\"14px\" font-family=\"Arial\">ZZ</text><rect x=\"3675.527929687502\" y=\"805.0\" width=\"96.47378906250002\" height=\"40\" stroke=\"black\" fill=\"white\" stroke-width=\"1\" /><text x=\"3723.764824218752\" y=\"825.0\" dominant-baseline=\"middle\" text-anchor=\"middle\" font-size=\"14px\" font-family=\"Arial\">ZZ^(zz1-15)</text><rect x=\"3675.527929687502\" y=\"5.0\" width=\"96.47378906250002\" height=\"40\" stroke=\"black\" fill=\"white\" stroke-width=\"1\" /><text x=\"3723.764824218752\" y=\"25.0\" dominant-baseline=\"middle\" text-anchor=\"middle\" font-size=\"14px\" font-family=\"Arial\">ZZ</text><rect x=\"3792.001718750002\" y=\"55.0\" width=\"89.65179687500002\" height=\"40\" stroke=\"black\" fill=\"white\" stroke-width=\"1\" /><text x=\"3836.8276171875023\" y=\"75.0\" dominant-baseline=\"middle\" text-anchor=\"middle\" font-size=\"14px\" font-family=\"Arial\">XX^(xx2-0)</text><rect x=\"3792.001718750002\" y=\"5.0\" width=\"89.65179687500002\" height=\"40\" stroke=\"black\" fill=\"white\" stroke-width=\"1\" /><text x=\"3836.8276171875023\" y=\"25.0\" dominant-baseline=\"middle\" text-anchor=\"middle\" font-size=\"14px\" font-family=\"Arial\">XX</text><rect x=\"3901.653515625002\" y=\"105.0\" width=\"89.65179687500002\" height=\"40\" stroke=\"black\" fill=\"white\" stroke-width=\"1\" /><text x=\"3946.479414062502\" y=\"125.0\" dominant-baseline=\"middle\" text-anchor=\"middle\" font-size=\"14px\" font-family=\"Arial\">XX^(xx2-1)</text><rect x=\"3901.653515625002\" y=\"5.0\" width=\"89.65179687500002\" height=\"40\" stroke=\"black\" fill=\"white\" stroke-width=\"1\" /><text x=\"3946.479414062502\" y=\"25.0\" dominant-baseline=\"middle\" text-anchor=\"middle\" font-size=\"14px\" font-family=\"Arial\">XX</text><rect x=\"4011.305312500002\" y=\"155.0\" width=\"89.65179687500002\" height=\"40\" stroke=\"black\" fill=\"white\" stroke-width=\"1\" /><text x=\"4056.131210937502\" y=\"175.0\" dominant-baseline=\"middle\" text-anchor=\"middle\" font-size=\"14px\" font-family=\"Arial\">XX^(xx2-2)</text><rect x=\"4011.305312500002\" y=\"5.0\" width=\"89.65179687500002\" height=\"40\" stroke=\"black\" fill=\"white\" stroke-width=\"1\" /><text x=\"4056.131210937502\" y=\"25.0\" dominant-baseline=\"middle\" text-anchor=\"middle\" font-size=\"14px\" font-family=\"Arial\">XX</text><rect x=\"4120.957109375002\" y=\"205.0\" width=\"89.65179687500002\" height=\"40\" stroke=\"black\" fill=\"white\" stroke-width=\"1\" /><text x=\"4165.783007812502\" y=\"225.0\" dominant-baseline=\"middle\" text-anchor=\"middle\" font-size=\"14px\" font-family=\"Arial\">XX^(xx2-3)</text><rect x=\"4120.957109375002\" y=\"5.0\" width=\"89.65179687500002\" height=\"40\" stroke=\"black\" fill=\"white\" stroke-width=\"1\" /><text x=\"4165.783007812502\" y=\"25.0\" dominant-baseline=\"middle\" text-anchor=\"middle\" font-size=\"14px\" font-family=\"Arial\">XX</text><rect x=\"4230.608906250002\" y=\"255.0\" width=\"89.65179687500002\" height=\"40\" stroke=\"black\" fill=\"white\" stroke-width=\"1\" /><text x=\"4275.434804687502\" y=\"275.0\" dominant-baseline=\"middle\" text-anchor=\"middle\" font-size=\"14px\" font-family=\"Arial\">XX^(xx2-4)</text><rect x=\"4230.608906250002\" y=\"5.0\" width=\"89.65179687500002\" height=\"40\" stroke=\"black\" fill=\"white\" stroke-width=\"1\" /><text x=\"4275.434804687502\" y=\"25.0\" dominant-baseline=\"middle\" text-anchor=\"middle\" font-size=\"14px\" font-family=\"Arial\">XX</text><rect x=\"4340.260703125003\" y=\"305.0\" width=\"89.65179687500002\" height=\"40\" stroke=\"black\" fill=\"white\" stroke-width=\"1\" /><text x=\"4385.086601562502\" y=\"325.0\" dominant-baseline=\"middle\" text-anchor=\"middle\" font-size=\"14px\" font-family=\"Arial\">XX^(xx2-5)</text><rect x=\"4340.260703125003\" y=\"5.0\" width=\"89.65179687500002\" height=\"40\" stroke=\"black\" fill=\"white\" stroke-width=\"1\" /><text x=\"4385.086601562502\" y=\"25.0\" dominant-baseline=\"middle\" text-anchor=\"middle\" font-size=\"14px\" font-family=\"Arial\">XX</text><rect x=\"4449.912500000003\" y=\"355.0\" width=\"89.65179687500002\" height=\"40\" stroke=\"black\" fill=\"white\" stroke-width=\"1\" /><text x=\"4494.738398437503\" y=\"375.0\" dominant-baseline=\"middle\" text-anchor=\"middle\" font-size=\"14px\" font-family=\"Arial\">XX^(xx2-6)</text><rect x=\"4449.912500000003\" y=\"5.0\" width=\"89.65179687500002\" height=\"40\" stroke=\"black\" fill=\"white\" stroke-width=\"1\" /><text x=\"4494.738398437503\" y=\"25.0\" dominant-baseline=\"middle\" text-anchor=\"middle\" font-size=\"14px\" font-family=\"Arial\">XX</text><rect x=\"4559.5642968750035\" y=\"405.0\" width=\"89.65179687500002\" height=\"40\" stroke=\"black\" fill=\"white\" stroke-width=\"1\" /><text x=\"4604.390195312503\" y=\"425.0\" dominant-baseline=\"middle\" text-anchor=\"middle\" font-size=\"14px\" font-family=\"Arial\">XX^(xx2-7)</text><rect x=\"4559.5642968750035\" y=\"5.0\" width=\"89.65179687500002\" height=\"40\" stroke=\"black\" fill=\"white\" stroke-width=\"1\" /><text x=\"4604.390195312503\" y=\"25.0\" dominant-baseline=\"middle\" text-anchor=\"middle\" font-size=\"14px\" font-family=\"Arial\">XX</text><rect x=\"4669.216093750004\" y=\"455.0\" width=\"89.65179687500002\" height=\"40\" stroke=\"black\" fill=\"white\" stroke-width=\"1\" /><text x=\"4714.041992187504\" y=\"475.0\" dominant-baseline=\"middle\" text-anchor=\"middle\" font-size=\"14px\" font-family=\"Arial\">XX^(xx2-8)</text><rect x=\"4669.216093750004\" y=\"5.0\" width=\"89.65179687500002\" height=\"40\" stroke=\"black\" fill=\"white\" stroke-width=\"1\" /><text x=\"4714.041992187504\" y=\"25.0\" dominant-baseline=\"middle\" text-anchor=\"middle\" font-size=\"14px\" font-family=\"Arial\">XX</text><rect x=\"4778.867890625004\" y=\"505.0\" width=\"89.65179687500002\" height=\"40\" stroke=\"black\" fill=\"white\" stroke-width=\"1\" /><text x=\"4823.693789062504\" y=\"525.0\" dominant-baseline=\"middle\" text-anchor=\"middle\" font-size=\"14px\" font-family=\"Arial\">XX^(xx2-9)</text><rect x=\"4778.867890625004\" y=\"5.0\" width=\"89.65179687500002\" height=\"40\" stroke=\"black\" fill=\"white\" stroke-width=\"1\" /><text x=\"4823.693789062504\" y=\"25.0\" dominant-baseline=\"middle\" text-anchor=\"middle\" font-size=\"14px\" font-family=\"Arial\">XX</text><rect x=\"4888.519687500005\" y=\"555.0\" width=\"98.55902343750002\" height=\"40\" stroke=\"black\" fill=\"white\" stroke-width=\"1\" /><text x=\"4937.799199218754\" y=\"575.0\" dominant-baseline=\"middle\" text-anchor=\"middle\" font-size=\"14px\" font-family=\"Arial\">XX^(xx2-10)</text><rect x=\"4888.519687500005\" y=\"5.0\" width=\"98.55902343750002\" height=\"40\" stroke=\"black\" fill=\"white\" stroke-width=\"1\" /><text x=\"4937.799199218754\" y=\"25.0\" dominant-baseline=\"middle\" text-anchor=\"middle\" font-size=\"14px\" font-family=\"Arial\">XX</text><rect x=\"5007.078710937505\" y=\"605.0\" width=\"98.55902343750002\" height=\"40\" stroke=\"black\" fill=\"white\" stroke-width=\"1\" /><text x=\"5056.358222656255\" y=\"625.0\" dominant-baseline=\"middle\" text-anchor=\"middle\" font-size=\"14px\" font-family=\"Arial\">XX^(xx2-11)</text><rect x=\"5007.078710937505\" y=\"5.0\" width=\"98.55902343750002\" height=\"40\" stroke=\"black\" fill=\"white\" stroke-width=\"1\" /><text x=\"5056.358222656255\" y=\"25.0\" dominant-baseline=\"middle\" text-anchor=\"middle\" font-size=\"14px\" font-family=\"Arial\">XX</text><rect x=\"5125.6377343750055\" y=\"655.0\" width=\"98.55902343750002\" height=\"40\" stroke=\"black\" fill=\"white\" stroke-width=\"1\" /><text x=\"5174.917246093755\" y=\"675.0\" dominant-baseline=\"middle\" text-anchor=\"middle\" font-size=\"14px\" font-family=\"Arial\">XX^(xx2-12)</text><rect x=\"5125.6377343750055\" y=\"5.0\" width=\"98.55902343750002\" height=\"40\" stroke=\"black\" fill=\"white\" stroke-width=\"1\" /><text x=\"5174.917246093755\" y=\"25.0\" dominant-baseline=\"middle\" text-anchor=\"middle\" font-size=\"14px\" font-family=\"Arial\">XX</text><rect x=\"5244.196757812506\" y=\"705.0\" width=\"98.55902343750002\" height=\"40\" stroke=\"black\" fill=\"white\" stroke-width=\"1\" /><text x=\"5293.476269531256\" y=\"725.0\" dominant-baseline=\"middle\" text-anchor=\"middle\" font-size=\"14px\" font-family=\"Arial\">XX^(xx2-13)</text><rect x=\"5244.196757812506\" y=\"5.0\" width=\"98.55902343750002\" height=\"40\" stroke=\"black\" fill=\"white\" stroke-width=\"1\" /><text x=\"5293.476269531256\" y=\"25.0\" dominant-baseline=\"middle\" text-anchor=\"middle\" font-size=\"14px\" font-family=\"Arial\">XX</text><rect x=\"5362.755781250006\" y=\"755.0\" width=\"98.55902343750002\" height=\"40\" stroke=\"black\" fill=\"white\" stroke-width=\"1\" /><text x=\"5412.035292968756\" y=\"775.0\" dominant-baseline=\"middle\" text-anchor=\"middle\" font-size=\"14px\" font-family=\"Arial\">XX^(xx2-14)</text><rect x=\"5362.755781250006\" y=\"5.0\" width=\"98.55902343750002\" height=\"40\" stroke=\"black\" fill=\"white\" stroke-width=\"1\" /><text x=\"5412.035292968756\" y=\"25.0\" dominant-baseline=\"middle\" text-anchor=\"middle\" font-size=\"14px\" font-family=\"Arial\">XX</text><rect x=\"5481.314804687507\" y=\"805.0\" width=\"98.55902343750002\" height=\"40\" stroke=\"black\" fill=\"white\" stroke-width=\"1\" /><text x=\"5530.594316406256\" y=\"825.0\" dominant-baseline=\"middle\" text-anchor=\"middle\" font-size=\"14px\" font-family=\"Arial\">XX^(xx2-15)</text><rect x=\"5481.314804687507\" y=\"5.0\" width=\"98.55902343750002\" height=\"40\" stroke=\"black\" fill=\"white\" stroke-width=\"1\" /><text x=\"5530.594316406256\" y=\"25.0\" dominant-baseline=\"middle\" text-anchor=\"middle\" font-size=\"14px\" font-family=\"Arial\">XX</text><rect x=\"5599.873828125007\" y=\"55.0\" width=\"87.56656250000002\" height=\"40\" stroke=\"black\" fill=\"white\" stroke-width=\"1\" /><text x=\"5643.657109375007\" y=\"75.0\" dominant-baseline=\"middle\" text-anchor=\"middle\" font-size=\"14px\" font-family=\"Arial\">ZZ^(zz2-0)</text><rect x=\"5599.873828125007\" y=\"5.0\" width=\"87.56656250000002\" height=\"40\" stroke=\"black\" fill=\"white\" stroke-width=\"1\" /><text x=\"5643.657109375007\" y=\"25.0\" dominant-baseline=\"middle\" text-anchor=\"middle\" font-size=\"14px\" font-family=\"Arial\">ZZ</text><rect x=\"5707.440390625007\" y=\"105.0\" width=\"87.56656250000002\" height=\"40\" stroke=\"black\" fill=\"white\" stroke-width=\"1\" /><text x=\"5751.223671875007\" y=\"125.0\" dominant-baseline=\"middle\" text-anchor=\"middle\" font-size=\"14px\" font-family=\"Arial\">ZZ^(zz2-1)</text><rect x=\"5707.440390625007\" y=\"5.0\" width=\"87.56656250000002\" height=\"40\" stroke=\"black\" fill=\"white\" stroke-width=\"1\" /><text x=\"5751.223671875007\" y=\"25.0\" dominant-baseline=\"middle\" text-anchor=\"middle\" font-size=\"14px\" font-family=\"Arial\">ZZ</text><rect x=\"5815.006953125007\" y=\"155.0\" width=\"87.56656250000002\" height=\"40\" stroke=\"black\" fill=\"white\" stroke-width=\"1\" /><text x=\"5858.7902343750075\" y=\"175.0\" dominant-baseline=\"middle\" text-anchor=\"middle\" font-size=\"14px\" font-family=\"Arial\">ZZ^(zz2-2)</text><rect x=\"5815.006953125007\" y=\"5.0\" width=\"87.56656250000002\" height=\"40\" stroke=\"black\" fill=\"white\" stroke-width=\"1\" /><text x=\"5858.7902343750075\" y=\"25.0\" dominant-baseline=\"middle\" text-anchor=\"middle\" font-size=\"14px\" font-family=\"Arial\">ZZ</text><rect x=\"5922.5735156250075\" y=\"205.0\" width=\"87.56656250000002\" height=\"40\" stroke=\"black\" fill=\"white\" stroke-width=\"1\" /><text x=\"5966.356796875008\" y=\"225.0\" dominant-baseline=\"middle\" text-anchor=\"middle\" font-size=\"14px\" font-family=\"Arial\">ZZ^(zz2-3)</text><rect x=\"5922.5735156250075\" y=\"5.0\" width=\"87.56656250000002\" height=\"40\" stroke=\"black\" fill=\"white\" stroke-width=\"1\" /><text x=\"5966.356796875008\" y=\"25.0\" dominant-baseline=\"middle\" text-anchor=\"middle\" font-size=\"14px\" font-family=\"Arial\">ZZ</text><rect x=\"6030.140078125008\" y=\"255.0\" width=\"87.56656250000002\" height=\"40\" stroke=\"black\" fill=\"white\" stroke-width=\"1\" /><text x=\"6073.923359375008\" y=\"275.0\" dominant-baseline=\"middle\" text-anchor=\"middle\" font-size=\"14px\" font-family=\"Arial\">ZZ^(zz2-4)</text><rect x=\"6030.140078125008\" y=\"5.0\" width=\"87.56656250000002\" height=\"40\" stroke=\"black\" fill=\"white\" stroke-width=\"1\" /><text x=\"6073.923359375008\" y=\"25.0\" dominant-baseline=\"middle\" text-anchor=\"middle\" font-size=\"14px\" font-family=\"Arial\">ZZ</text><rect x=\"6137.706640625008\" y=\"305.0\" width=\"87.56656250000002\" height=\"40\" stroke=\"black\" fill=\"white\" stroke-width=\"1\" /><text x=\"6181.489921875008\" y=\"325.0\" dominant-baseline=\"middle\" text-anchor=\"middle\" font-size=\"14px\" font-family=\"Arial\">ZZ^(zz2-5)</text><rect x=\"6137.706640625008\" y=\"5.0\" width=\"87.56656250000002\" height=\"40\" stroke=\"black\" fill=\"white\" stroke-width=\"1\" /><text x=\"6181.489921875008\" y=\"25.0\" dominant-baseline=\"middle\" text-anchor=\"middle\" font-size=\"14px\" font-family=\"Arial\">ZZ</text><rect x=\"6245.273203125008\" y=\"355.0\" width=\"87.56656250000002\" height=\"40\" stroke=\"black\" fill=\"white\" stroke-width=\"1\" /><text x=\"6289.056484375008\" y=\"375.0\" dominant-baseline=\"middle\" text-anchor=\"middle\" font-size=\"14px\" font-family=\"Arial\">ZZ^(zz2-6)</text><rect x=\"6245.273203125008\" y=\"5.0\" width=\"87.56656250000002\" height=\"40\" stroke=\"black\" fill=\"white\" stroke-width=\"1\" /><text x=\"6289.056484375008\" y=\"25.0\" dominant-baseline=\"middle\" text-anchor=\"middle\" font-size=\"14px\" font-family=\"Arial\">ZZ</text><rect x=\"6352.839765625008\" y=\"405.0\" width=\"87.56656250000002\" height=\"40\" stroke=\"black\" fill=\"white\" stroke-width=\"1\" /><text x=\"6396.623046875008\" y=\"425.0\" dominant-baseline=\"middle\" text-anchor=\"middle\" font-size=\"14px\" font-family=\"Arial\">ZZ^(zz2-7)</text><rect x=\"6352.839765625008\" y=\"5.0\" width=\"87.56656250000002\" height=\"40\" stroke=\"black\" fill=\"white\" stroke-width=\"1\" /><text x=\"6396.623046875008\" y=\"25.0\" dominant-baseline=\"middle\" text-anchor=\"middle\" font-size=\"14px\" font-family=\"Arial\">ZZ</text><rect x=\"6460.406328125008\" y=\"455.0\" width=\"87.56656250000002\" height=\"40\" stroke=\"black\" fill=\"white\" stroke-width=\"1\" /><text x=\"6504.189609375008\" y=\"475.0\" dominant-baseline=\"middle\" text-anchor=\"middle\" font-size=\"14px\" font-family=\"Arial\">ZZ^(zz2-8)</text><rect x=\"6460.406328125008\" y=\"5.0\" width=\"87.56656250000002\" height=\"40\" stroke=\"black\" fill=\"white\" stroke-width=\"1\" /><text x=\"6504.189609375008\" y=\"25.0\" dominant-baseline=\"middle\" text-anchor=\"middle\" font-size=\"14px\" font-family=\"Arial\">ZZ</text><rect x=\"6567.972890625008\" y=\"505.0\" width=\"87.56656250000002\" height=\"40\" stroke=\"black\" fill=\"white\" stroke-width=\"1\" /><text x=\"6611.7561718750085\" y=\"525.0\" dominant-baseline=\"middle\" text-anchor=\"middle\" font-size=\"14px\" font-family=\"Arial\">ZZ^(zz2-9)</text><rect x=\"6567.972890625008\" y=\"5.0\" width=\"87.56656250000002\" height=\"40\" stroke=\"black\" fill=\"white\" stroke-width=\"1\" /><text x=\"6611.7561718750085\" y=\"25.0\" dominant-baseline=\"middle\" text-anchor=\"middle\" font-size=\"14px\" font-family=\"Arial\">ZZ</text><rect x=\"6675.539453125009\" y=\"555.0\" width=\"96.47378906250002\" height=\"40\" stroke=\"black\" fill=\"white\" stroke-width=\"1\" /><text x=\"6723.776347656259\" y=\"575.0\" dominant-baseline=\"middle\" text-anchor=\"middle\" font-size=\"14px\" font-family=\"Arial\">ZZ^(zz2-10)</text><rect x=\"6675.539453125009\" y=\"5.0\" width=\"96.47378906250002\" height=\"40\" stroke=\"black\" fill=\"white\" stroke-width=\"1\" /><text x=\"6723.776347656259\" y=\"25.0\" dominant-baseline=\"middle\" text-anchor=\"middle\" font-size=\"14px\" font-family=\"Arial\">ZZ</text><rect x=\"6792.013242187509\" y=\"605.0\" width=\"96.47378906250002\" height=\"40\" stroke=\"black\" fill=\"white\" stroke-width=\"1\" /><text x=\"6840.250136718759\" y=\"625.0\" dominant-baseline=\"middle\" text-anchor=\"middle\" font-size=\"14px\" font-family=\"Arial\">ZZ^(zz2-11)</text><rect x=\"6792.013242187509\" y=\"5.0\" width=\"96.47378906250002\" height=\"40\" stroke=\"black\" fill=\"white\" stroke-width=\"1\" /><text x=\"6840.250136718759\" y=\"25.0\" dominant-baseline=\"middle\" text-anchor=\"middle\" font-size=\"14px\" font-family=\"Arial\">ZZ</text><rect x=\"6908.487031250009\" y=\"655.0\" width=\"96.47378906250002\" height=\"40\" stroke=\"black\" fill=\"white\" stroke-width=\"1\" /><text x=\"6956.723925781259\" y=\"675.0\" dominant-baseline=\"middle\" text-anchor=\"middle\" font-size=\"14px\" font-family=\"Arial\">ZZ^(zz2-12)</text><rect x=\"6908.487031250009\" y=\"5.0\" width=\"96.47378906250002\" height=\"40\" stroke=\"black\" fill=\"white\" stroke-width=\"1\" /><text x=\"6956.723925781259\" y=\"25.0\" dominant-baseline=\"middle\" text-anchor=\"middle\" font-size=\"14px\" font-family=\"Arial\">ZZ</text><rect x=\"7024.960820312509\" y=\"705.0\" width=\"96.47378906250002\" height=\"40\" stroke=\"black\" fill=\"white\" stroke-width=\"1\" /><text x=\"7073.197714843759\" y=\"725.0\" dominant-baseline=\"middle\" text-anchor=\"middle\" font-size=\"14px\" font-family=\"Arial\">ZZ^(zz2-13)</text><rect x=\"7024.960820312509\" y=\"5.0\" width=\"96.47378906250002\" height=\"40\" stroke=\"black\" fill=\"white\" stroke-width=\"1\" /><text x=\"7073.197714843759\" y=\"25.0\" dominant-baseline=\"middle\" text-anchor=\"middle\" font-size=\"14px\" font-family=\"Arial\">ZZ</text><rect x=\"7141.434609375009\" y=\"755.0\" width=\"96.47378906250002\" height=\"40\" stroke=\"black\" fill=\"white\" stroke-width=\"1\" /><text x=\"7189.671503906259\" y=\"775.0\" dominant-baseline=\"middle\" text-anchor=\"middle\" font-size=\"14px\" font-family=\"Arial\">ZZ^(zz2-14)</text><rect x=\"7141.434609375009\" y=\"5.0\" width=\"96.47378906250002\" height=\"40\" stroke=\"black\" fill=\"white\" stroke-width=\"1\" /><text x=\"7189.671503906259\" y=\"25.0\" dominant-baseline=\"middle\" text-anchor=\"middle\" font-size=\"14px\" font-family=\"Arial\">ZZ</text><rect x=\"7257.908398437509\" y=\"805.0\" width=\"96.47378906250002\" height=\"40\" stroke=\"black\" fill=\"white\" stroke-width=\"1\" /><text x=\"7306.145292968759\" y=\"825.0\" dominant-baseline=\"middle\" text-anchor=\"middle\" font-size=\"14px\" font-family=\"Arial\">ZZ^(zz2-15)</text><rect x=\"7257.908398437509\" y=\"5.0\" width=\"96.47378906250002\" height=\"40\" stroke=\"black\" fill=\"white\" stroke-width=\"1\" /><text x=\"7306.145292968759\" y=\"25.0\" dominant-baseline=\"middle\" text-anchor=\"middle\" font-size=\"14px\" font-family=\"Arial\">ZZ</text><rect x=\"7374.382187500009\" y=\"55.0\" width=\"89.65179687500002\" height=\"40\" stroke=\"black\" fill=\"white\" stroke-width=\"1\" /><text x=\"7419.208085937509\" y=\"75.0\" dominant-baseline=\"middle\" text-anchor=\"middle\" font-size=\"14px\" font-family=\"Arial\">XX^(xx3-0)</text><rect x=\"7374.382187500009\" y=\"5.0\" width=\"89.65179687500002\" height=\"40\" stroke=\"black\" fill=\"white\" stroke-width=\"1\" /><text x=\"7419.208085937509\" y=\"25.0\" dominant-baseline=\"middle\" text-anchor=\"middle\" font-size=\"14px\" font-family=\"Arial\">XX</text><rect x=\"7484.03398437501\" y=\"105.0\" width=\"89.65179687500002\" height=\"40\" stroke=\"black\" fill=\"white\" stroke-width=\"1\" /><text x=\"7528.85988281251\" y=\"125.0\" dominant-baseline=\"middle\" text-anchor=\"middle\" font-size=\"14px\" font-family=\"Arial\">XX^(xx3-1)</text><rect x=\"7484.03398437501\" y=\"5.0\" width=\"89.65179687500002\" height=\"40\" stroke=\"black\" fill=\"white\" stroke-width=\"1\" /><text x=\"7528.85988281251\" y=\"25.0\" dominant-baseline=\"middle\" text-anchor=\"middle\" font-size=\"14px\" font-family=\"Arial\">XX</text><rect x=\"7593.68578125001\" y=\"155.0\" width=\"89.65179687500002\" height=\"40\" stroke=\"black\" fill=\"white\" stroke-width=\"1\" /><text x=\"7638.51167968751\" y=\"175.0\" dominant-baseline=\"middle\" text-anchor=\"middle\" font-size=\"14px\" font-family=\"Arial\">XX^(xx3-2)</text><rect x=\"7593.68578125001\" y=\"5.0\" width=\"89.65179687500002\" height=\"40\" stroke=\"black\" fill=\"white\" stroke-width=\"1\" /><text x=\"7638.51167968751\" y=\"25.0\" dominant-baseline=\"middle\" text-anchor=\"middle\" font-size=\"14px\" font-family=\"Arial\">XX</text><rect x=\"7703.337578125011\" y=\"205.0\" width=\"89.65179687500002\" height=\"40\" stroke=\"black\" fill=\"white\" stroke-width=\"1\" /><text x=\"7748.16347656251\" y=\"225.0\" dominant-baseline=\"middle\" text-anchor=\"middle\" font-size=\"14px\" font-family=\"Arial\">XX^(xx3-3)</text><rect x=\"7703.337578125011\" y=\"5.0\" width=\"89.65179687500002\" height=\"40\" stroke=\"black\" fill=\"white\" stroke-width=\"1\" /><text x=\"7748.16347656251\" y=\"25.0\" dominant-baseline=\"middle\" text-anchor=\"middle\" font-size=\"14px\" font-family=\"Arial\">XX</text><rect x=\"7812.989375000011\" y=\"255.0\" width=\"89.65179687500002\" height=\"40\" stroke=\"black\" fill=\"white\" stroke-width=\"1\" /><text x=\"7857.815273437511\" y=\"275.0\" dominant-baseline=\"middle\" text-anchor=\"middle\" font-size=\"14px\" font-family=\"Arial\">XX^(xx3-4)</text><rect x=\"7812.989375000011\" y=\"5.0\" width=\"89.65179687500002\" height=\"40\" stroke=\"black\" fill=\"white\" stroke-width=\"1\" /><text x=\"7857.815273437511\" y=\"25.0\" dominant-baseline=\"middle\" text-anchor=\"middle\" font-size=\"14px\" font-family=\"Arial\">XX</text><rect x=\"7922.641171875011\" y=\"305.0\" width=\"89.65179687500002\" height=\"40\" stroke=\"black\" fill=\"white\" stroke-width=\"1\" /><text x=\"7967.467070312511\" y=\"325.0\" dominant-baseline=\"middle\" text-anchor=\"middle\" font-size=\"14px\" font-family=\"Arial\">XX^(xx3-5)</text><rect x=\"7922.641171875011\" y=\"5.0\" width=\"89.65179687500002\" height=\"40\" stroke=\"black\" fill=\"white\" stroke-width=\"1\" /><text x=\"7967.467070312511\" y=\"25.0\" dominant-baseline=\"middle\" text-anchor=\"middle\" font-size=\"14px\" font-family=\"Arial\">XX</text><rect x=\"8032.292968750012\" y=\"355.0\" width=\"89.65179687500002\" height=\"40\" stroke=\"black\" fill=\"white\" stroke-width=\"1\" /><text x=\"8077.118867187512\" y=\"375.0\" dominant-baseline=\"middle\" text-anchor=\"middle\" font-size=\"14px\" font-family=\"Arial\">XX^(xx3-6)</text><rect x=\"8032.292968750012\" y=\"5.0\" width=\"89.65179687500002\" height=\"40\" stroke=\"black\" fill=\"white\" stroke-width=\"1\" /><text x=\"8077.118867187512\" y=\"25.0\" dominant-baseline=\"middle\" text-anchor=\"middle\" font-size=\"14px\" font-family=\"Arial\">XX</text><rect x=\"8141.944765625012\" y=\"405.0\" width=\"89.65179687500002\" height=\"40\" stroke=\"black\" fill=\"white\" stroke-width=\"1\" /><text x=\"8186.770664062512\" y=\"425.0\" dominant-baseline=\"middle\" text-anchor=\"middle\" font-size=\"14px\" font-family=\"Arial\">XX^(xx3-7)</text><rect x=\"8141.944765625012\" y=\"5.0\" width=\"89.65179687500002\" height=\"40\" stroke=\"black\" fill=\"white\" stroke-width=\"1\" /><text x=\"8186.770664062512\" y=\"25.0\" dominant-baseline=\"middle\" text-anchor=\"middle\" font-size=\"14px\" font-family=\"Arial\">XX</text><rect x=\"8251.596562500012\" y=\"455.0\" width=\"89.65179687500002\" height=\"40\" stroke=\"black\" fill=\"white\" stroke-width=\"1\" /><text x=\"8296.422460937512\" y=\"475.0\" dominant-baseline=\"middle\" text-anchor=\"middle\" font-size=\"14px\" font-family=\"Arial\">XX^(xx3-8)</text><rect x=\"8251.596562500012\" y=\"5.0\" width=\"89.65179687500002\" height=\"40\" stroke=\"black\" fill=\"white\" stroke-width=\"1\" /><text x=\"8296.422460937512\" y=\"25.0\" dominant-baseline=\"middle\" text-anchor=\"middle\" font-size=\"14px\" font-family=\"Arial\">XX</text><rect x=\"8361.248359375011\" y=\"505.0\" width=\"89.65179687500002\" height=\"40\" stroke=\"black\" fill=\"white\" stroke-width=\"1\" /><text x=\"8406.074257812512\" y=\"525.0\" dominant-baseline=\"middle\" text-anchor=\"middle\" font-size=\"14px\" font-family=\"Arial\">XX^(xx3-9)</text><rect x=\"8361.248359375011\" y=\"5.0\" width=\"89.65179687500002\" height=\"40\" stroke=\"black\" fill=\"white\" stroke-width=\"1\" /><text x=\"8406.074257812512\" y=\"25.0\" dominant-baseline=\"middle\" text-anchor=\"middle\" font-size=\"14px\" font-family=\"Arial\">XX</text><rect x=\"8470.90015625001\" y=\"555.0\" width=\"98.55902343750002\" height=\"40\" stroke=\"black\" fill=\"white\" stroke-width=\"1\" /><text x=\"8520.179667968761\" y=\"575.0\" dominant-baseline=\"middle\" text-anchor=\"middle\" font-size=\"14px\" font-family=\"Arial\">XX^(xx3-10)</text><rect x=\"8470.90015625001\" y=\"5.0\" width=\"98.55902343750002\" height=\"40\" stroke=\"black\" fill=\"white\" stroke-width=\"1\" /><text x=\"8520.179667968761\" y=\"25.0\" dominant-baseline=\"middle\" text-anchor=\"middle\" font-size=\"14px\" font-family=\"Arial\">XX</text><rect x=\"8589.45917968751\" y=\"605.0\" width=\"98.55902343750002\" height=\"40\" stroke=\"black\" fill=\"white\" stroke-width=\"1\" /><text x=\"8638.73869140626\" y=\"625.0\" dominant-baseline=\"middle\" text-anchor=\"middle\" font-size=\"14px\" font-family=\"Arial\">XX^(xx3-11)</text><rect x=\"8589.45917968751\" y=\"5.0\" width=\"98.55902343750002\" height=\"40\" stroke=\"black\" fill=\"white\" stroke-width=\"1\" /><text x=\"8638.73869140626\" y=\"25.0\" dominant-baseline=\"middle\" text-anchor=\"middle\" font-size=\"14px\" font-family=\"Arial\">XX</text><rect x=\"8708.01820312501\" y=\"655.0\" width=\"98.55902343750002\" height=\"40\" stroke=\"black\" fill=\"white\" stroke-width=\"1\" /><text x=\"8757.29771484376\" y=\"675.0\" dominant-baseline=\"middle\" text-anchor=\"middle\" font-size=\"14px\" font-family=\"Arial\">XX^(xx3-12)</text><rect x=\"8708.01820312501\" y=\"5.0\" width=\"98.55902343750002\" height=\"40\" stroke=\"black\" fill=\"white\" stroke-width=\"1\" /><text x=\"8757.29771484376\" y=\"25.0\" dominant-baseline=\"middle\" text-anchor=\"middle\" font-size=\"14px\" font-family=\"Arial\">XX</text><rect x=\"8826.57722656251\" y=\"705.0\" width=\"98.55902343750002\" height=\"40\" stroke=\"black\" fill=\"white\" stroke-width=\"1\" /><text x=\"8875.85673828126\" y=\"725.0\" dominant-baseline=\"middle\" text-anchor=\"middle\" font-size=\"14px\" font-family=\"Arial\">XX^(xx3-13)</text><rect x=\"8826.57722656251\" y=\"5.0\" width=\"98.55902343750002\" height=\"40\" stroke=\"black\" fill=\"white\" stroke-width=\"1\" /><text x=\"8875.85673828126\" y=\"25.0\" dominant-baseline=\"middle\" text-anchor=\"middle\" font-size=\"14px\" font-family=\"Arial\">XX</text><rect x=\"8945.136250000009\" y=\"755.0\" width=\"98.55902343750002\" height=\"40\" stroke=\"black\" fill=\"white\" stroke-width=\"1\" /><text x=\"8994.41576171876\" y=\"775.0\" dominant-baseline=\"middle\" text-anchor=\"middle\" font-size=\"14px\" font-family=\"Arial\">XX^(xx3-14)</text><rect x=\"8945.136250000009\" y=\"5.0\" width=\"98.55902343750002\" height=\"40\" stroke=\"black\" fill=\"white\" stroke-width=\"1\" /><text x=\"8994.41576171876\" y=\"25.0\" dominant-baseline=\"middle\" text-anchor=\"middle\" font-size=\"14px\" font-family=\"Arial\">XX</text><rect x=\"9063.695273437508\" y=\"805.0\" width=\"98.55902343750002\" height=\"40\" stroke=\"black\" fill=\"white\" stroke-width=\"1\" /><text x=\"9112.974785156259\" y=\"825.0\" dominant-baseline=\"middle\" text-anchor=\"middle\" font-size=\"14px\" font-family=\"Arial\">XX^(xx3-15)</text><rect x=\"9063.695273437508\" y=\"5.0\" width=\"98.55902343750002\" height=\"40\" stroke=\"black\" fill=\"white\" stroke-width=\"1\" /><text x=\"9112.974785156259\" y=\"25.0\" dominant-baseline=\"middle\" text-anchor=\"middle\" font-size=\"14px\" font-family=\"Arial\">XX</text><rect x=\"9182.254296875008\" y=\"55.0\" width=\"87.56656250000002\" height=\"40\" stroke=\"black\" fill=\"white\" stroke-width=\"1\" /><text x=\"9226.037578125008\" y=\"75.0\" dominant-baseline=\"middle\" text-anchor=\"middle\" font-size=\"14px\" font-family=\"Arial\">ZZ^(zz3-0)</text><rect x=\"9182.254296875008\" y=\"5.0\" width=\"87.56656250000002\" height=\"40\" stroke=\"black\" fill=\"white\" stroke-width=\"1\" /><text x=\"9226.037578125008\" y=\"25.0\" dominant-baseline=\"middle\" text-anchor=\"middle\" font-size=\"14px\" font-family=\"Arial\">ZZ</text><rect x=\"9289.820859375008\" y=\"105.0\" width=\"87.56656250000002\" height=\"40\" stroke=\"black\" fill=\"white\" stroke-width=\"1\" /><text x=\"9333.604140625008\" y=\"125.0\" dominant-baseline=\"middle\" text-anchor=\"middle\" font-size=\"14px\" font-family=\"Arial\">ZZ^(zz3-1)</text><rect x=\"9289.820859375008\" y=\"5.0\" width=\"87.56656250000002\" height=\"40\" stroke=\"black\" fill=\"white\" stroke-width=\"1\" /><text x=\"9333.604140625008\" y=\"25.0\" dominant-baseline=\"middle\" text-anchor=\"middle\" font-size=\"14px\" font-family=\"Arial\">ZZ</text><rect x=\"9397.387421875008\" y=\"155.0\" width=\"87.56656250000002\" height=\"40\" stroke=\"black\" fill=\"white\" stroke-width=\"1\" /><text x=\"9441.170703125008\" y=\"175.0\" dominant-baseline=\"middle\" text-anchor=\"middle\" font-size=\"14px\" font-family=\"Arial\">ZZ^(zz3-2)</text><rect x=\"9397.387421875008\" y=\"5.0\" width=\"87.56656250000002\" height=\"40\" stroke=\"black\" fill=\"white\" stroke-width=\"1\" /><text x=\"9441.170703125008\" y=\"25.0\" dominant-baseline=\"middle\" text-anchor=\"middle\" font-size=\"14px\" font-family=\"Arial\">ZZ</text><rect x=\"9504.953984375008\" y=\"205.0\" width=\"87.56656250000002\" height=\"40\" stroke=\"black\" fill=\"white\" stroke-width=\"1\" /><text x=\"9548.737265625008\" y=\"225.0\" dominant-baseline=\"middle\" text-anchor=\"middle\" font-size=\"14px\" font-family=\"Arial\">ZZ^(zz3-3)</text><rect x=\"9504.953984375008\" y=\"5.0\" width=\"87.56656250000002\" height=\"40\" stroke=\"black\" fill=\"white\" stroke-width=\"1\" /><text x=\"9548.737265625008\" y=\"25.0\" dominant-baseline=\"middle\" text-anchor=\"middle\" font-size=\"14px\" font-family=\"Arial\">ZZ</text><rect x=\"9612.520546875008\" y=\"255.0\" width=\"87.56656250000002\" height=\"40\" stroke=\"black\" fill=\"white\" stroke-width=\"1\" /><text x=\"9656.303828125008\" y=\"275.0\" dominant-baseline=\"middle\" text-anchor=\"middle\" font-size=\"14px\" font-family=\"Arial\">ZZ^(zz3-4)</text><rect x=\"9612.520546875008\" y=\"5.0\" width=\"87.56656250000002\" height=\"40\" stroke=\"black\" fill=\"white\" stroke-width=\"1\" /><text x=\"9656.303828125008\" y=\"25.0\" dominant-baseline=\"middle\" text-anchor=\"middle\" font-size=\"14px\" font-family=\"Arial\">ZZ</text><rect x=\"9720.087109375008\" y=\"305.0\" width=\"87.56656250000002\" height=\"40\" stroke=\"black\" fill=\"white\" stroke-width=\"1\" /><text x=\"9763.870390625008\" y=\"325.0\" dominant-baseline=\"middle\" text-anchor=\"middle\" font-size=\"14px\" font-family=\"Arial\">ZZ^(zz3-5)</text><rect x=\"9720.087109375008\" y=\"5.0\" width=\"87.56656250000002\" height=\"40\" stroke=\"black\" fill=\"white\" stroke-width=\"1\" /><text x=\"9763.870390625008\" y=\"25.0\" dominant-baseline=\"middle\" text-anchor=\"middle\" font-size=\"14px\" font-family=\"Arial\">ZZ</text><rect x=\"9827.653671875009\" y=\"355.0\" width=\"87.56656250000002\" height=\"40\" stroke=\"black\" fill=\"white\" stroke-width=\"1\" /><text x=\"9871.436953125009\" y=\"375.0\" dominant-baseline=\"middle\" text-anchor=\"middle\" font-size=\"14px\" font-family=\"Arial\">ZZ^(zz3-6)</text><rect x=\"9827.653671875009\" y=\"5.0\" width=\"87.56656250000002\" height=\"40\" stroke=\"black\" fill=\"white\" stroke-width=\"1\" /><text x=\"9871.436953125009\" y=\"25.0\" dominant-baseline=\"middle\" text-anchor=\"middle\" font-size=\"14px\" font-family=\"Arial\">ZZ</text><rect x=\"9935.220234375009\" y=\"405.0\" width=\"87.56656250000002\" height=\"40\" stroke=\"black\" fill=\"white\" stroke-width=\"1\" /><text x=\"9979.003515625009\" y=\"425.0\" dominant-baseline=\"middle\" text-anchor=\"middle\" font-size=\"14px\" font-family=\"Arial\">ZZ^(zz3-7)</text><rect x=\"9935.220234375009\" y=\"5.0\" width=\"87.56656250000002\" height=\"40\" stroke=\"black\" fill=\"white\" stroke-width=\"1\" /><text x=\"9979.003515625009\" y=\"25.0\" dominant-baseline=\"middle\" text-anchor=\"middle\" font-size=\"14px\" font-family=\"Arial\">ZZ</text><rect x=\"10042.786796875009\" y=\"455.0\" width=\"87.56656250000002\" height=\"40\" stroke=\"black\" fill=\"white\" stroke-width=\"1\" /><text x=\"10086.570078125009\" y=\"475.0\" dominant-baseline=\"middle\" text-anchor=\"middle\" font-size=\"14px\" font-family=\"Arial\">ZZ^(zz3-8)</text><rect x=\"10042.786796875009\" y=\"5.0\" width=\"87.56656250000002\" height=\"40\" stroke=\"black\" fill=\"white\" stroke-width=\"1\" /><text x=\"10086.570078125009\" y=\"25.0\" dominant-baseline=\"middle\" text-anchor=\"middle\" font-size=\"14px\" font-family=\"Arial\">ZZ</text><rect x=\"10150.353359375009\" y=\"505.0\" width=\"87.56656250000002\" height=\"40\" stroke=\"black\" fill=\"white\" stroke-width=\"1\" /><text x=\"10194.136640625009\" y=\"525.0\" dominant-baseline=\"middle\" text-anchor=\"middle\" font-size=\"14px\" font-family=\"Arial\">ZZ^(zz3-9)</text><rect x=\"10150.353359375009\" y=\"5.0\" width=\"87.56656250000002\" height=\"40\" stroke=\"black\" fill=\"white\" stroke-width=\"1\" /><text x=\"10194.136640625009\" y=\"25.0\" dominant-baseline=\"middle\" text-anchor=\"middle\" font-size=\"14px\" font-family=\"Arial\">ZZ</text><rect x=\"10257.91992187501\" y=\"555.0\" width=\"96.47378906250002\" height=\"40\" stroke=\"black\" fill=\"white\" stroke-width=\"1\" /><text x=\"10306.15681640626\" y=\"575.0\" dominant-baseline=\"middle\" text-anchor=\"middle\" font-size=\"14px\" font-family=\"Arial\">ZZ^(zz3-10)</text><rect x=\"10257.91992187501\" y=\"5.0\" width=\"96.47378906250002\" height=\"40\" stroke=\"black\" fill=\"white\" stroke-width=\"1\" /><text x=\"10306.15681640626\" y=\"25.0\" dominant-baseline=\"middle\" text-anchor=\"middle\" font-size=\"14px\" font-family=\"Arial\">ZZ</text><rect x=\"10374.39371093751\" y=\"605.0\" width=\"96.47378906250002\" height=\"40\" stroke=\"black\" fill=\"white\" stroke-width=\"1\" /><text x=\"10422.63060546876\" y=\"625.0\" dominant-baseline=\"middle\" text-anchor=\"middle\" font-size=\"14px\" font-family=\"Arial\">ZZ^(zz3-11)</text><rect x=\"10374.39371093751\" y=\"5.0\" width=\"96.47378906250002\" height=\"40\" stroke=\"black\" fill=\"white\" stroke-width=\"1\" /><text x=\"10422.63060546876\" y=\"25.0\" dominant-baseline=\"middle\" text-anchor=\"middle\" font-size=\"14px\" font-family=\"Arial\">ZZ</text><rect x=\"10490.86750000001\" y=\"655.0\" width=\"96.47378906250002\" height=\"40\" stroke=\"black\" fill=\"white\" stroke-width=\"1\" /><text x=\"10539.10439453126\" y=\"675.0\" dominant-baseline=\"middle\" text-anchor=\"middle\" font-size=\"14px\" font-family=\"Arial\">ZZ^(zz3-12)</text><rect x=\"10490.86750000001\" y=\"5.0\" width=\"96.47378906250002\" height=\"40\" stroke=\"black\" fill=\"white\" stroke-width=\"1\" /><text x=\"10539.10439453126\" y=\"25.0\" dominant-baseline=\"middle\" text-anchor=\"middle\" font-size=\"14px\" font-family=\"Arial\">ZZ</text><rect x=\"10607.34128906251\" y=\"705.0\" width=\"96.47378906250002\" height=\"40\" stroke=\"black\" fill=\"white\" stroke-width=\"1\" /><text x=\"10655.57818359376\" y=\"725.0\" dominant-baseline=\"middle\" text-anchor=\"middle\" font-size=\"14px\" font-family=\"Arial\">ZZ^(zz3-13)</text><rect x=\"10607.34128906251\" y=\"5.0\" width=\"96.47378906250002\" height=\"40\" stroke=\"black\" fill=\"white\" stroke-width=\"1\" /><text x=\"10655.57818359376\" y=\"25.0\" dominant-baseline=\"middle\" text-anchor=\"middle\" font-size=\"14px\" font-family=\"Arial\">ZZ</text><rect x=\"10723.81507812501\" y=\"755.0\" width=\"96.47378906250002\" height=\"40\" stroke=\"black\" fill=\"white\" stroke-width=\"1\" /><text x=\"10772.05197265626\" y=\"775.0\" dominant-baseline=\"middle\" text-anchor=\"middle\" font-size=\"14px\" font-family=\"Arial\">ZZ^(zz3-14)</text><rect x=\"10723.81507812501\" y=\"5.0\" width=\"96.47378906250002\" height=\"40\" stroke=\"black\" fill=\"white\" stroke-width=\"1\" /><text x=\"10772.05197265626\" y=\"25.0\" dominant-baseline=\"middle\" text-anchor=\"middle\" font-size=\"14px\" font-family=\"Arial\">ZZ</text><rect x=\"10840.28886718751\" y=\"805.0\" width=\"96.47378906250002\" height=\"40\" stroke=\"black\" fill=\"white\" stroke-width=\"1\" /><text x=\"10888.52576171876\" y=\"825.0\" dominant-baseline=\"middle\" text-anchor=\"middle\" font-size=\"14px\" font-family=\"Arial\">ZZ^(zz3-15)</text><rect x=\"10840.28886718751\" y=\"5.0\" width=\"96.47378906250002\" height=\"40\" stroke=\"black\" fill=\"white\" stroke-width=\"1\" /><text x=\"10888.52576171876\" y=\"25.0\" dominant-baseline=\"middle\" text-anchor=\"middle\" font-size=\"14px\" font-family=\"Arial\">ZZ</text><rect x=\"10956.76265625001\" y=\"55.0\" width=\"110.43960937500003\" height=\"40\" stroke=\"black\" fill=\"white\" stroke-width=\"1\" /><text x=\"11011.98246093751\" y=\"75.0\" dominant-baseline=\"middle\" text-anchor=\"middle\" font-size=\"14px\" font-family=\"Arial\">ZZ^(zz_n_1-0)</text><rect x=\"10956.76265625001\" y=\"5.0\" width=\"110.43960937500003\" height=\"40\" stroke=\"black\" fill=\"white\" stroke-width=\"1\" /><text x=\"11011.98246093751\" y=\"25.0\" dominant-baseline=\"middle\" text-anchor=\"middle\" font-size=\"14px\" font-family=\"Arial\">ZZ</text><rect x=\"11087.20226562501\" y=\"105.0\" width=\"110.43960937500003\" height=\"40\" stroke=\"black\" fill=\"white\" stroke-width=\"1\" /><text x=\"11142.42207031251\" y=\"125.0\" dominant-baseline=\"middle\" text-anchor=\"middle\" font-size=\"14px\" font-family=\"Arial\">ZZ^(zz_n_1-1)</text><rect x=\"11087.20226562501\" y=\"5.0\" width=\"110.43960937500003\" height=\"40\" stroke=\"black\" fill=\"white\" stroke-width=\"1\" /><text x=\"11142.42207031251\" y=\"25.0\" dominant-baseline=\"middle\" text-anchor=\"middle\" font-size=\"14px\" font-family=\"Arial\">ZZ</text><rect x=\"11217.64187500001\" y=\"155.0\" width=\"110.43960937500003\" height=\"40\" stroke=\"black\" fill=\"white\" stroke-width=\"1\" /><text x=\"11272.86167968751\" y=\"175.0\" dominant-baseline=\"middle\" text-anchor=\"middle\" font-size=\"14px\" font-family=\"Arial\">ZZ^(zz_n_1-2)</text><rect x=\"11217.64187500001\" y=\"5.0\" width=\"110.43960937500003\" height=\"40\" stroke=\"black\" fill=\"white\" stroke-width=\"1\" /><text x=\"11272.86167968751\" y=\"25.0\" dominant-baseline=\"middle\" text-anchor=\"middle\" font-size=\"14px\" font-family=\"Arial\">ZZ</text><rect x=\"11348.08148437501\" y=\"205.0\" width=\"110.43960937500003\" height=\"40\" stroke=\"black\" fill=\"white\" stroke-width=\"1\" /><text x=\"11403.30128906251\" y=\"225.0\" dominant-baseline=\"middle\" text-anchor=\"middle\" font-size=\"14px\" font-family=\"Arial\">ZZ^(zz_n_1-3)</text><rect x=\"11348.08148437501\" y=\"5.0\" width=\"110.43960937500003\" height=\"40\" stroke=\"black\" fill=\"white\" stroke-width=\"1\" /><text x=\"11403.30128906251\" y=\"25.0\" dominant-baseline=\"middle\" text-anchor=\"middle\" font-size=\"14px\" font-family=\"Arial\">ZZ</text><rect x=\"11478.52109375001\" y=\"255.0\" width=\"110.43960937500003\" height=\"40\" stroke=\"black\" fill=\"white\" stroke-width=\"1\" /><text x=\"11533.74089843751\" y=\"275.0\" dominant-baseline=\"middle\" text-anchor=\"middle\" font-size=\"14px\" font-family=\"Arial\">ZZ^(zz_n_1-4)</text><rect x=\"11478.52109375001\" y=\"5.0\" width=\"110.43960937500003\" height=\"40\" stroke=\"black\" fill=\"white\" stroke-width=\"1\" /><text x=\"11533.74089843751\" y=\"25.0\" dominant-baseline=\"middle\" text-anchor=\"middle\" font-size=\"14px\" font-family=\"Arial\">ZZ</text><rect x=\"11608.96070312501\" y=\"305.0\" width=\"110.43960937500003\" height=\"40\" stroke=\"black\" fill=\"white\" stroke-width=\"1\" /><text x=\"11664.18050781251\" y=\"325.0\" dominant-baseline=\"middle\" text-anchor=\"middle\" font-size=\"14px\" font-family=\"Arial\">ZZ^(zz_n_1-5)</text><rect x=\"11608.96070312501\" y=\"5.0\" width=\"110.43960937500003\" height=\"40\" stroke=\"black\" fill=\"white\" stroke-width=\"1\" /><text x=\"11664.18050781251\" y=\"25.0\" dominant-baseline=\"middle\" text-anchor=\"middle\" font-size=\"14px\" font-family=\"Arial\">ZZ</text><rect x=\"11739.40031250001\" y=\"355.0\" width=\"110.43960937500003\" height=\"40\" stroke=\"black\" fill=\"white\" stroke-width=\"1\" /><text x=\"11794.620117187511\" y=\"375.0\" dominant-baseline=\"middle\" text-anchor=\"middle\" font-size=\"14px\" font-family=\"Arial\">ZZ^(zz_n_1-6)</text><rect x=\"11739.40031250001\" y=\"5.0\" width=\"110.43960937500003\" height=\"40\" stroke=\"black\" fill=\"white\" stroke-width=\"1\" /><text x=\"11794.620117187511\" y=\"25.0\" dominant-baseline=\"middle\" text-anchor=\"middle\" font-size=\"14px\" font-family=\"Arial\">ZZ</text><rect x=\"11869.839921875011\" y=\"405.0\" width=\"110.43960937500003\" height=\"40\" stroke=\"black\" fill=\"white\" stroke-width=\"1\" /><text x=\"11925.059726562511\" y=\"425.0\" dominant-baseline=\"middle\" text-anchor=\"middle\" font-size=\"14px\" font-family=\"Arial\">ZZ^(zz_n_1-7)</text><rect x=\"11869.839921875011\" y=\"5.0\" width=\"110.43960937500003\" height=\"40\" stroke=\"black\" fill=\"white\" stroke-width=\"1\" /><text x=\"11925.059726562511\" y=\"25.0\" dominant-baseline=\"middle\" text-anchor=\"middle\" font-size=\"14px\" font-family=\"Arial\">ZZ</text><rect x=\"12000.279531250011\" y=\"455.0\" width=\"110.43960937500003\" height=\"40\" stroke=\"black\" fill=\"white\" stroke-width=\"1\" /><text x=\"12055.499335937511\" y=\"475.0\" dominant-baseline=\"middle\" text-anchor=\"middle\" font-size=\"14px\" font-family=\"Arial\">ZZ^(zz_n_1-8)</text><rect x=\"12000.279531250011\" y=\"5.0\" width=\"110.43960937500003\" height=\"40\" stroke=\"black\" fill=\"white\" stroke-width=\"1\" /><text x=\"12055.499335937511\" y=\"25.0\" dominant-baseline=\"middle\" text-anchor=\"middle\" font-size=\"14px\" font-family=\"Arial\">ZZ</text><rect x=\"12130.719140625011\" y=\"505.0\" width=\"110.43960937500003\" height=\"40\" stroke=\"black\" fill=\"white\" stroke-width=\"1\" /><text x=\"12185.938945312511\" y=\"525.0\" dominant-baseline=\"middle\" text-anchor=\"middle\" font-size=\"14px\" font-family=\"Arial\">ZZ^(zz_n_1-9)</text><rect x=\"12130.719140625011\" y=\"5.0\" width=\"110.43960937500003\" height=\"40\" stroke=\"black\" fill=\"white\" stroke-width=\"1\" /><text x=\"12185.938945312511\" y=\"25.0\" dominant-baseline=\"middle\" text-anchor=\"middle\" font-size=\"14px\" font-family=\"Arial\">ZZ</text><rect x=\"12261.158750000011\" y=\"555.0\" width=\"119.34683593750003\" height=\"40\" stroke=\"black\" fill=\"white\" stroke-width=\"1\" /><text x=\"12320.832167968761\" y=\"575.0\" dominant-baseline=\"middle\" text-anchor=\"middle\" font-size=\"14px\" font-family=\"Arial\">ZZ^(zz_n_1-10)</text><rect x=\"12261.158750000011\" y=\"5.0\" width=\"119.34683593750003\" height=\"40\" stroke=\"black\" fill=\"white\" stroke-width=\"1\" /><text x=\"12320.832167968761\" y=\"25.0\" dominant-baseline=\"middle\" text-anchor=\"middle\" font-size=\"14px\" font-family=\"Arial\">ZZ</text><rect x=\"12400.505585937512\" y=\"605.0\" width=\"119.34683593750003\" height=\"40\" stroke=\"black\" fill=\"white\" stroke-width=\"1\" /><text x=\"12460.179003906262\" y=\"625.0\" dominant-baseline=\"middle\" text-anchor=\"middle\" font-size=\"14px\" font-family=\"Arial\">ZZ^(zz_n_1-11)</text><rect x=\"12400.505585937512\" y=\"5.0\" width=\"119.34683593750003\" height=\"40\" stroke=\"black\" fill=\"white\" stroke-width=\"1\" /><text x=\"12460.179003906262\" y=\"25.0\" dominant-baseline=\"middle\" text-anchor=\"middle\" font-size=\"14px\" font-family=\"Arial\">ZZ</text><rect x=\"12539.852421875012\" y=\"655.0\" width=\"119.34683593750003\" height=\"40\" stroke=\"black\" fill=\"white\" stroke-width=\"1\" /><text x=\"12599.525839843762\" y=\"675.0\" dominant-baseline=\"middle\" text-anchor=\"middle\" font-size=\"14px\" font-family=\"Arial\">ZZ^(zz_n_1-12)</text><rect x=\"12539.852421875012\" y=\"5.0\" width=\"119.34683593750003\" height=\"40\" stroke=\"black\" fill=\"white\" stroke-width=\"1\" /><text x=\"12599.525839843762\" y=\"25.0\" dominant-baseline=\"middle\" text-anchor=\"middle\" font-size=\"14px\" font-family=\"Arial\">ZZ</text><rect x=\"12679.199257812512\" y=\"705.0\" width=\"119.34683593750003\" height=\"40\" stroke=\"black\" fill=\"white\" stroke-width=\"1\" /><text x=\"12738.872675781262\" y=\"725.0\" dominant-baseline=\"middle\" text-anchor=\"middle\" font-size=\"14px\" font-family=\"Arial\">ZZ^(zz_n_1-13)</text><rect x=\"12679.199257812512\" y=\"5.0\" width=\"119.34683593750003\" height=\"40\" stroke=\"black\" fill=\"white\" stroke-width=\"1\" /><text x=\"12738.872675781262\" y=\"25.0\" dominant-baseline=\"middle\" text-anchor=\"middle\" font-size=\"14px\" font-family=\"Arial\">ZZ</text><rect x=\"12818.546093750012\" y=\"755.0\" width=\"119.34683593750003\" height=\"40\" stroke=\"black\" fill=\"white\" stroke-width=\"1\" /><text x=\"12878.219511718762\" y=\"775.0\" dominant-baseline=\"middle\" text-anchor=\"middle\" font-size=\"14px\" font-family=\"Arial\">ZZ^(zz_n_1-14)</text><rect x=\"12818.546093750012\" y=\"5.0\" width=\"119.34683593750003\" height=\"40\" stroke=\"black\" fill=\"white\" stroke-width=\"1\" /><text x=\"12878.219511718762\" y=\"25.0\" dominant-baseline=\"middle\" text-anchor=\"middle\" font-size=\"14px\" font-family=\"Arial\">ZZ</text><rect x=\"12957.892929687512\" y=\"805.0\" width=\"119.34683593750003\" height=\"40\" stroke=\"black\" fill=\"white\" stroke-width=\"1\" /><text x=\"13017.566347656262\" y=\"825.0\" dominant-baseline=\"middle\" text-anchor=\"middle\" font-size=\"14px\" font-family=\"Arial\">ZZ^(zz_n_1-15)</text><rect x=\"12957.892929687512\" y=\"5.0\" width=\"119.34683593750003\" height=\"40\" stroke=\"black\" fill=\"white\" stroke-width=\"1\" /><text x=\"13017.566347656262\" y=\"25.0\" dominant-baseline=\"middle\" text-anchor=\"middle\" font-size=\"14px\" font-family=\"Arial\">ZZ</text><rect x=\"13097.239765625012\" y=\"55.0\" width=\"94.53238281250002\" height=\"40\" stroke=\"black\" fill=\"white\" stroke-width=\"1\" /><text x=\"13144.505957031262\" y=\"75.0\" dominant-baseline=\"middle\" text-anchor=\"middle\" font-size=\"14px\" font-family=\"Arial\">ZZ^(zz_n-0)</text><rect x=\"13097.239765625012\" y=\"5.0\" width=\"94.53238281250002\" height=\"40\" stroke=\"black\" fill=\"white\" stroke-width=\"1\" /><text x=\"13144.505957031262\" y=\"25.0\" dominant-baseline=\"middle\" text-anchor=\"middle\" font-size=\"14px\" font-family=\"Arial\">ZZ</text><rect x=\"13211.772148437512\" y=\"105.0\" width=\"94.53238281250002\" height=\"40\" stroke=\"black\" fill=\"white\" stroke-width=\"1\" /><text x=\"13259.038339843763\" y=\"125.0\" dominant-baseline=\"middle\" text-anchor=\"middle\" font-size=\"14px\" font-family=\"Arial\">ZZ^(zz_n-1)</text><rect x=\"13211.772148437512\" y=\"5.0\" width=\"94.53238281250002\" height=\"40\" stroke=\"black\" fill=\"white\" stroke-width=\"1\" /><text x=\"13259.038339843763\" y=\"25.0\" dominant-baseline=\"middle\" text-anchor=\"middle\" font-size=\"14px\" font-family=\"Arial\">ZZ</text><rect x=\"13326.304531250013\" y=\"155.0\" width=\"94.53238281250002\" height=\"40\" stroke=\"black\" fill=\"white\" stroke-width=\"1\" /><text x=\"13373.570722656263\" y=\"175.0\" dominant-baseline=\"middle\" text-anchor=\"middle\" font-size=\"14px\" font-family=\"Arial\">ZZ^(zz_n-2)</text><rect x=\"13326.304531250013\" y=\"5.0\" width=\"94.53238281250002\" height=\"40\" stroke=\"black\" fill=\"white\" stroke-width=\"1\" /><text x=\"13373.570722656263\" y=\"25.0\" dominant-baseline=\"middle\" text-anchor=\"middle\" font-size=\"14px\" font-family=\"Arial\">ZZ</text><rect x=\"13440.836914062513\" y=\"205.0\" width=\"94.53238281250002\" height=\"40\" stroke=\"black\" fill=\"white\" stroke-width=\"1\" /><text x=\"13488.103105468763\" y=\"225.0\" dominant-baseline=\"middle\" text-anchor=\"middle\" font-size=\"14px\" font-family=\"Arial\">ZZ^(zz_n-3)</text><rect x=\"13440.836914062513\" y=\"5.0\" width=\"94.53238281250002\" height=\"40\" stroke=\"black\" fill=\"white\" stroke-width=\"1\" /><text x=\"13488.103105468763\" y=\"25.0\" dominant-baseline=\"middle\" text-anchor=\"middle\" font-size=\"14px\" font-family=\"Arial\">ZZ</text><rect x=\"13555.369296875013\" y=\"255.0\" width=\"94.53238281250002\" height=\"40\" stroke=\"black\" fill=\"white\" stroke-width=\"1\" /><text x=\"13602.635488281263\" y=\"275.0\" dominant-baseline=\"middle\" text-anchor=\"middle\" font-size=\"14px\" font-family=\"Arial\">ZZ^(zz_n-4)</text><rect x=\"13555.369296875013\" y=\"5.0\" width=\"94.53238281250002\" height=\"40\" stroke=\"black\" fill=\"white\" stroke-width=\"1\" /><text x=\"13602.635488281263\" y=\"25.0\" dominant-baseline=\"middle\" text-anchor=\"middle\" font-size=\"14px\" font-family=\"Arial\">ZZ</text><rect x=\"13669.901679687513\" y=\"305.0\" width=\"94.53238281250002\" height=\"40\" stroke=\"black\" fill=\"white\" stroke-width=\"1\" /><text x=\"13717.167871093763\" y=\"325.0\" dominant-baseline=\"middle\" text-anchor=\"middle\" font-size=\"14px\" font-family=\"Arial\">ZZ^(zz_n-5)</text><rect x=\"13669.901679687513\" y=\"5.0\" width=\"94.53238281250002\" height=\"40\" stroke=\"black\" fill=\"white\" stroke-width=\"1\" /><text x=\"13717.167871093763\" y=\"25.0\" dominant-baseline=\"middle\" text-anchor=\"middle\" font-size=\"14px\" font-family=\"Arial\">ZZ</text><rect x=\"13784.434062500013\" y=\"355.0\" width=\"94.53238281250002\" height=\"40\" stroke=\"black\" fill=\"white\" stroke-width=\"1\" /><text x=\"13831.700253906263\" y=\"375.0\" dominant-baseline=\"middle\" text-anchor=\"middle\" font-size=\"14px\" font-family=\"Arial\">ZZ^(zz_n-6)</text><rect x=\"13784.434062500013\" y=\"5.0\" width=\"94.53238281250002\" height=\"40\" stroke=\"black\" fill=\"white\" stroke-width=\"1\" /><text x=\"13831.700253906263\" y=\"25.0\" dominant-baseline=\"middle\" text-anchor=\"middle\" font-size=\"14px\" font-family=\"Arial\">ZZ</text><rect x=\"13898.966445312513\" y=\"405.0\" width=\"94.53238281250002\" height=\"40\" stroke=\"black\" fill=\"white\" stroke-width=\"1\" /><text x=\"13946.232636718763\" y=\"425.0\" dominant-baseline=\"middle\" text-anchor=\"middle\" font-size=\"14px\" font-family=\"Arial\">ZZ^(zz_n-7)</text><rect x=\"13898.966445312513\" y=\"5.0\" width=\"94.53238281250002\" height=\"40\" stroke=\"black\" fill=\"white\" stroke-width=\"1\" /><text x=\"13946.232636718763\" y=\"25.0\" dominant-baseline=\"middle\" text-anchor=\"middle\" font-size=\"14px\" font-family=\"Arial\">ZZ</text><rect x=\"14013.498828125013\" y=\"455.0\" width=\"94.53238281250002\" height=\"40\" stroke=\"black\" fill=\"white\" stroke-width=\"1\" /><text x=\"14060.765019531264\" y=\"475.0\" dominant-baseline=\"middle\" text-anchor=\"middle\" font-size=\"14px\" font-family=\"Arial\">ZZ^(zz_n-8)</text><rect x=\"14013.498828125013\" y=\"5.0\" width=\"94.53238281250002\" height=\"40\" stroke=\"black\" fill=\"white\" stroke-width=\"1\" /><text x=\"14060.765019531264\" y=\"25.0\" dominant-baseline=\"middle\" text-anchor=\"middle\" font-size=\"14px\" font-family=\"Arial\">ZZ</text><rect x=\"14128.031210937514\" y=\"505.0\" width=\"94.53238281250002\" height=\"40\" stroke=\"black\" fill=\"white\" stroke-width=\"1\" /><text x=\"14175.297402343764\" y=\"525.0\" dominant-baseline=\"middle\" text-anchor=\"middle\" font-size=\"14px\" font-family=\"Arial\">ZZ^(zz_n-9)</text><rect x=\"14128.031210937514\" y=\"5.0\" width=\"94.53238281250002\" height=\"40\" stroke=\"black\" fill=\"white\" stroke-width=\"1\" /><text x=\"14175.297402343764\" y=\"25.0\" dominant-baseline=\"middle\" text-anchor=\"middle\" font-size=\"14px\" font-family=\"Arial\">ZZ</text><rect x=\"14242.563593750014\" y=\"555.0\" width=\"103.43960937500002\" height=\"40\" stroke=\"black\" fill=\"white\" stroke-width=\"1\" /><text x=\"14294.283398437514\" y=\"575.0\" dominant-baseline=\"middle\" text-anchor=\"middle\" font-size=\"14px\" font-family=\"Arial\">ZZ^(zz_n-10)</text><rect x=\"14242.563593750014\" y=\"5.0\" width=\"103.43960937500002\" height=\"40\" stroke=\"black\" fill=\"white\" stroke-width=\"1\" /><text x=\"14294.283398437514\" y=\"25.0\" dominant-baseline=\"middle\" text-anchor=\"middle\" font-size=\"14px\" font-family=\"Arial\">ZZ</text><rect x=\"14366.003203125014\" y=\"605.0\" width=\"103.43960937500002\" height=\"40\" stroke=\"black\" fill=\"white\" stroke-width=\"1\" /><text x=\"14417.723007812514\" y=\"625.0\" dominant-baseline=\"middle\" text-anchor=\"middle\" font-size=\"14px\" font-family=\"Arial\">ZZ^(zz_n-11)</text><rect x=\"14366.003203125014\" y=\"5.0\" width=\"103.43960937500002\" height=\"40\" stroke=\"black\" fill=\"white\" stroke-width=\"1\" /><text x=\"14417.723007812514\" y=\"25.0\" dominant-baseline=\"middle\" text-anchor=\"middle\" font-size=\"14px\" font-family=\"Arial\">ZZ</text><rect x=\"14489.442812500014\" y=\"655.0\" width=\"103.43960937500002\" height=\"40\" stroke=\"black\" fill=\"white\" stroke-width=\"1\" /><text x=\"14541.162617187514\" y=\"675.0\" dominant-baseline=\"middle\" text-anchor=\"middle\" font-size=\"14px\" font-family=\"Arial\">ZZ^(zz_n-12)</text><rect x=\"14489.442812500014\" y=\"5.0\" width=\"103.43960937500002\" height=\"40\" stroke=\"black\" fill=\"white\" stroke-width=\"1\" /><text x=\"14541.162617187514\" y=\"25.0\" dominant-baseline=\"middle\" text-anchor=\"middle\" font-size=\"14px\" font-family=\"Arial\">ZZ</text><rect x=\"14612.882421875014\" y=\"705.0\" width=\"103.43960937500002\" height=\"40\" stroke=\"black\" fill=\"white\" stroke-width=\"1\" /><text x=\"14664.602226562514\" y=\"725.0\" dominant-baseline=\"middle\" text-anchor=\"middle\" font-size=\"14px\" font-family=\"Arial\">ZZ^(zz_n-13)</text><rect x=\"14612.882421875014\" y=\"5.0\" width=\"103.43960937500002\" height=\"40\" stroke=\"black\" fill=\"white\" stroke-width=\"1\" /><text x=\"14664.602226562514\" y=\"25.0\" dominant-baseline=\"middle\" text-anchor=\"middle\" font-size=\"14px\" font-family=\"Arial\">ZZ</text><rect x=\"14736.322031250014\" y=\"755.0\" width=\"103.43960937500002\" height=\"40\" stroke=\"black\" fill=\"white\" stroke-width=\"1\" /><text x=\"14788.041835937514\" y=\"775.0\" dominant-baseline=\"middle\" text-anchor=\"middle\" font-size=\"14px\" font-family=\"Arial\">ZZ^(zz_n-14)</text><rect x=\"14736.322031250014\" y=\"5.0\" width=\"103.43960937500002\" height=\"40\" stroke=\"black\" fill=\"white\" stroke-width=\"1\" /><text x=\"14788.041835937514\" y=\"25.0\" dominant-baseline=\"middle\" text-anchor=\"middle\" font-size=\"14px\" font-family=\"Arial\">ZZ</text><rect x=\"14859.761640625014\" y=\"805.0\" width=\"103.43960937500002\" height=\"40\" stroke=\"black\" fill=\"white\" stroke-width=\"1\" /><text x=\"14911.481445312515\" y=\"825.0\" dominant-baseline=\"middle\" text-anchor=\"middle\" font-size=\"14px\" font-family=\"Arial\">ZZ^(zz_n-15)</text><rect x=\"14859.761640625014\" y=\"5.0\" width=\"103.43960937500002\" height=\"40\" stroke=\"black\" fill=\"white\" stroke-width=\"1\" /><text x=\"14911.481445312515\" y=\"25.0\" dominant-baseline=\"middle\" text-anchor=\"middle\" font-size=\"14px\" font-family=\"Arial\">ZZ</text><rect x=\"14983.201250000015\" y=\"5.0\" width=\"40\" height=\"40\" stroke=\"black\" fill=\"white\" stroke-width=\"1\" /><text x=\"15003.201250000015\" y=\"25.0\" dominant-baseline=\"middle\" text-anchor=\"middle\" font-size=\"18px\" font-family=\"Arial\">H</text></svg>"
          },
          "metadata": {},
          "execution_count": 20
        }
      ]
    },
    {
      "cell_type": "code",
      "metadata": {
        "id": "TN9D8N58-KXF"
      },
      "source": [
        "# Build the Keras model.\n",
        "model = tf.keras.Sequential([\n",
        "    # The input is the data-circuit, encoded as a tf.string\n",
        "    tf.keras.layers.Input(shape=(), dtype=tf.string),\n",
        "    # The PQC layer returns the expected value of the readout gate, range [-1,1].\n",
        "    tfq.layers.PQC(model_circuit, model_readout),\n",
        "])"
      ],
      "execution_count": null,
      "outputs": []
    },
    {
      "cell_type": "code",
      "metadata": {
        "colab": {
          "base_uri": "https://localhost:8080/",
          "height": 151
        },
        "id": "IBtNqKImx3Zr",
        "outputId": "e4c58811-bbe7-48d6-c03f-6350e5cc2d9c"
      },
      "source": [
        "tf.keras.utils.plot_model(model, show_shapes=True, dpi=70)"
      ],
      "execution_count": null,
      "outputs": [
        {
          "output_type": "execute_result",
          "data": {
            "image/png": "[encoded data removed]",
            "text/plain": [
              "<IPython.core.display.Image object>"
            ]
          },
          "metadata": {},
          "execution_count": 22
        }
      ]
    },
    {
      "cell_type": "code",
      "metadata": {
        "colab": {
          "base_uri": "https://localhost:8080/"
        },
        "id": "5-dTjj_u-MOB",
        "outputId": "0471552e-86d4-4935-cf68-bee1b5bce873"
      },
      "source": [
        "y_train_hinge = 2.0*y_train-1.0\n",
        "y_test_hinge = 2.0*y_test-1.0\n",
        "\n",
        "print (y_test_hinge[:20])"
      ],
      "execution_count": null,
      "outputs": [
        {
          "output_type": "stream",
          "text": [
            "[ 1. -1.  1.  1. -1.  1.  1. -1. -1. -1. -1.  1.  1. -1.  1.  1.  1.  1.\n",
            "  1.  1.]\n"
          ],
          "name": "stdout"
        }
      ]
    },
    {
      "cell_type": "code",
      "metadata": {
        "id": "g5hRSuFX-S-1"
      },
      "source": [
        "def hinge_accuracy(y_true, y_pred):\n",
        "    y_true = tf.squeeze(y_true) > 0.0\n",
        "    y_pred = tf.squeeze(y_pred) > 0.0\n",
        "    result = tf.cast(y_true == y_pred, tf.float32)\n",
        "\n",
        "    return tf.reduce_mean(result)"
      ],
      "execution_count": null,
      "outputs": []
    },
    {
      "cell_type": "code",
      "metadata": {
        "id": "agPuIh2k-b4J"
      },
      "source": [
        "model.compile(\n",
        "    loss=tf.keras.losses.Hinge(),\n",
        "    optimizer=tf.keras.optimizers.Adam(),\n",
        "    metrics=[hinge_accuracy])\n"
      ],
      "execution_count": null,
      "outputs": []
    },
    {
      "cell_type": "code",
      "metadata": {
        "colab": {
          "base_uri": "https://localhost:8080/",
          "height": 338
        },
        "id": "6ExQNbXe-diC",
        "outputId": "f8e1684d-d17a-464b-8d2f-80a9141c3366"
      },
      "source": [
        "print(model.summary())\n",
        "tf.keras.utils.plot_model(model, show_shapes=True, dpi=70)"
      ],
      "execution_count": null,
      "outputs": [
        {
          "output_type": "stream",
          "text": [
            "Model: \"sequential_2\"\n",
            "_________________________________________________________________\n",
            "Layer (type)                 Output Shape              Param #   \n",
            "=================================================================\n",
            "pqc_2 (PQC)                  (None, 1)                 128       \n",
            "=================================================================\n",
            "Total params: 128\n",
            "Trainable params: 128\n",
            "Non-trainable params: 0\n",
            "_________________________________________________________________\n",
            "None\n"
          ],
          "name": "stdout"
        },
        {
          "output_type": "execute_result",
          "data": {
            "image/png": "[encoded data removed]",
            "text/plain": [
              "<IPython.core.display.Image object>"
            ]
          },
          "metadata": {
            "tags": []
          },
          "execution_count": 47
        }
      ]
    },
    {
      "cell_type": "code",
      "metadata": {
        "colab": {
          "base_uri": "https://localhost:8080/"
        },
        "id": "Y0bHM4s6-e-F",
        "outputId": "294710cc-ea14-4ac1-c5fc-7fbb166ee0cd"
      },
      "source": [
        "EPOCHS = 20\n",
        "BATCH_SIZE = 8\n",
        "\n",
        "NUM_EXAMPLES = len(x_train_tfcirc)\n",
        "\n",
        "print (NUM_EXAMPLES)"
      ],
      "execution_count": null,
      "outputs": [
        {
          "output_type": "stream",
          "text": [
            "126\n"
          ],
          "name": "stdout"
        }
      ]
    },
    {
      "cell_type": "code",
      "metadata": {
        "id": "YGDlF3hA-g8A"
      },
      "source": [
        "x_train_tfcirc_sub = x_train_tfcirc[:NUM_EXAMPLES]\n",
        "y_train_hinge_sub = y_train_hinge[:NUM_EXAMPLES]"
      ],
      "execution_count": null,
      "outputs": []
    },
    {
      "cell_type": "markdown",
      "metadata": {
        "id": "2mhunsfhtYBK"
      },
      "source": [
        "### Train Qunantum NN"
      ]
    },
    {
      "cell_type": "code",
      "metadata": {
        "colab": {
          "base_uri": "https://localhost:8080/"
        },
        "id": "bnBHCoeJ-iky",
        "outputId": "d587c149-8096-4b76-b49d-360dbc1bc594"
      },
      "source": [
        "qnn_history = model.fit(\n",
        "      x_train_tfcirc_sub, y_train_hinge_sub,\n",
        "      batch_size=BATCH_SIZE,\n",
        "      epochs=EPOCHS,\n",
        "      verbose=1,\n",
        "      validation_data=(x_test_tfcirc, y_test_hinge))"
      ],
      "execution_count": null,
      "outputs": [
        {
          "output_type": "stream",
          "text": [
            "Epoch 1/20\n",
            "16/16 [==============================] - 77s 5s/step - loss: 0.9993 - hinge_accuracy: 0.6415 - val_loss: 0.9996 - val_hinge_accuracy: 0.4978\n",
            "Epoch 2/20\n",
            "16/16 [==============================] - 76s 5s/step - loss: 0.9881 - hinge_accuracy: 0.7316 - val_loss: 0.9997 - val_hinge_accuracy: 0.4867\n",
            "Epoch 3/20\n",
            "16/16 [==============================] - 76s 5s/step - loss: 0.9826 - hinge_accuracy: 0.7790 - val_loss: 0.9999 - val_hinge_accuracy: 0.4912\n",
            "Epoch 4/20\n",
            "16/16 [==============================] - 77s 5s/step - loss: 0.9617 - hinge_accuracy: 0.8063 - val_loss: 1.0002 - val_hinge_accuracy: 0.5022\n",
            "Epoch 5/20\n",
            "16/16 [==============================] - 76s 5s/step - loss: 0.9446 - hinge_accuracy: 0.7965 - val_loss: 0.9999 - val_hinge_accuracy: 0.5265\n",
            "Epoch 6/20\n",
            "16/16 [==============================] - 76s 5s/step - loss: 0.9157 - hinge_accuracy: 0.8338 - val_loss: 0.9996 - val_hinge_accuracy: 0.4646\n",
            "Epoch 7/20\n",
            "16/16 [==============================] - 76s 5s/step - loss: 0.8912 - hinge_accuracy: 0.7783 - val_loss: 0.9981 - val_hinge_accuracy: 0.4790\n",
            "Epoch 8/20\n",
            "16/16 [==============================] - 76s 5s/step - loss: 0.8736 - hinge_accuracy: 0.8339 - val_loss: 0.9932 - val_hinge_accuracy: 0.5033\n",
            "Epoch 9/20\n",
            "16/16 [==============================] - 76s 5s/step - loss: 0.8059 - hinge_accuracy: 0.8712 - val_loss: 0.9773 - val_hinge_accuracy: 0.5553\n",
            "Epoch 10/20\n",
            "16/16 [==============================] - 76s 5s/step - loss: 0.7394 - hinge_accuracy: 0.8134 - val_loss: 0.9555 - val_hinge_accuracy: 0.5575\n",
            "Epoch 11/20\n",
            "16/16 [==============================] - 76s 5s/step - loss: 0.6356 - hinge_accuracy: 0.8691 - val_loss: 0.9321 - val_hinge_accuracy: 0.5697\n",
            "Epoch 12/20\n",
            "16/16 [==============================] - 76s 5s/step - loss: 0.5668 - hinge_accuracy: 0.8629 - val_loss: 0.9148 - val_hinge_accuracy: 0.5730\n",
            "Epoch 13/20\n",
            "16/16 [==============================] - 76s 5s/step - loss: 0.4422 - hinge_accuracy: 0.8826 - val_loss: 0.9000 - val_hinge_accuracy: 0.5730\n",
            "Epoch 14/20\n",
            "16/16 [==============================] - 76s 5s/step - loss: 0.4077 - hinge_accuracy: 0.8891 - val_loss: 0.8899 - val_hinge_accuracy: 0.5752\n",
            "Epoch 15/20\n",
            "16/16 [==============================] - 76s 5s/step - loss: 0.4019 - hinge_accuracy: 0.8709 - val_loss: 0.8815 - val_hinge_accuracy: 0.5752\n",
            "Epoch 16/20\n",
            "16/16 [==============================] - 76s 5s/step - loss: 0.3519 - hinge_accuracy: 0.8553 - val_loss: 0.8756 - val_hinge_accuracy: 0.5719\n",
            "Epoch 17/20\n",
            "16/16 [==============================] - 76s 5s/step - loss: 0.3594 - hinge_accuracy: 0.8388 - val_loss: 0.8698 - val_hinge_accuracy: 0.5719\n",
            "Epoch 18/20\n",
            "16/16 [==============================] - 76s 5s/step - loss: 0.2621 - hinge_accuracy: 0.9023 - val_loss: 0.8679 - val_hinge_accuracy: 0.5719\n",
            "Epoch 19/20\n",
            "16/16 [==============================] - 76s 5s/step - loss: 0.2946 - hinge_accuracy: 0.8776 - val_loss: 0.8646 - val_hinge_accuracy: 0.5719\n",
            "Epoch 20/20\n",
            "16/16 [==============================] - 76s 5s/step - loss: 0.2605 - hinge_accuracy: 0.8860 - val_loss: 0.8633 - val_hinge_accuracy: 0.5719\n"
          ],
          "name": "stdout"
        }
      ]
    },
    {
      "cell_type": "code",
      "metadata": {
        "colab": {
          "base_uri": "https://localhost:8080/"
        },
        "id": "X_6BgV3Q-l57",
        "outputId": "b9c12b17-623b-470b-a805-e5653349780c"
      },
      "source": [
        "qnn_results = model.evaluate(x_test_tfcirc, y_test_hinge)"
      ],
      "execution_count": null,
      "outputs": [
        {
          "output_type": "stream",
          "text": [
            "29/29 [==============================] - 42s 1s/step - loss: 0.8633 - hinge_accuracy: 0.5700\n"
          ],
          "name": "stdout"
        }
      ]
    },
    {
      "cell_type": "code",
      "metadata": {
        "id": "63nq2dB7aLlC",
        "colab": {
          "base_uri": "https://localhost:8080/",
          "height": 386
        },
        "outputId": "c523b45a-916e-42f2-8160-331273c61626"
      },
      "source": [
        "x_ticks = [int(i) for i in range(0,20)]\n",
        "import matplotlib.ticker as ticker\n",
        "\n",
        "plt.plot(x_ticks, np.multiply(qnn_history.history['hinge_accuracy'],100), 'r')\n",
        "plt.plot(x_ticks, np.multiply(qnn_history.history['val_hinge_accuracy'],100),'g--')\n",
        "#plt.title('model accuracy')\n",
        "plt.ylabel('Classification accuracy (%)',fontsize=12)\n",
        "plt.xlabel('Number of epochs',fontsize=12)\n",
        "plt.legend(['training', 'validation'], loc='lower right',fontsize=12)\n",
        "plt.tight_layout()\n",
        "plt.grid(True)\n",
        "\n",
        "ax = plt.axes()\n",
        "ax.xaxis.set_major_locator(ticker.MultipleLocator(5))\n",
        "ax.xaxis.set_minor_locator(ticker.MultipleLocator(1))\n",
        "plt.savefig('classification accuracy.png',dpi=300)\n",
        "plt.show()\n",
        "\"\"\"\n",
        "# summarize history for loss\n",
        "plt.plot(qnn_history.history['loss'])\n",
        "plt.plot(qnn_history.history['val_loss'])\n",
        "plt.title('model loss')\n",
        "plt.ylabel('loss')\n",
        "plt.xlabel('epoch')\n",
        "plt.legend(['train', 'test'], loc='upper left')\n",
        "plt.show()\n",
        "\"\"\""
      ],
      "execution_count": null,
      "outputs": [
        {
          "output_type": "stream",
          "text": [
            "/usr/local/lib/python3.7/dist-packages/ipykernel_launcher.py:13: MatplotlibDeprecationWarning: Adding an axes using the same arguments as a previous axes currently reuses the earlier instance.  In a future version, a new instance will always be created and returned.  Meanwhile, this warning can be suppressed, and the future behavior ensured, by passing a unique label to each axes instance.\n",
            "  del sys.path[0]\n"
          ],
          "name": "stderr"
        },
        {
          "output_type": "display_data",
          "data": {
            "image/png": "[encoded data removed]",
            "text/plain": [
              "<Figure size 432x288 with 1 Axes>"
            ]
          },
          "metadata": {
            "tags": [],
            "needs_background": "light"
          }
        },
        {
          "output_type": "execute_result",
          "data": {
            "application/vnd.google.colaboratory.intrinsic+json": {
              "type": "string"
            },
            "text/plain": [
              "\"\\n# summarize history for loss\\nplt.plot(qnn_history.history['loss'])\\nplt.plot(qnn_history.history['val_loss'])\\nplt.title('model loss')\\nplt.ylabel('loss')\\nplt.xlabel('epoch')\\nplt.legend(['train', 'test'], loc='upper left')\\nplt.show()\\n\""
            ]
          },
          "metadata": {
            "tags": []
          },
          "execution_count": 40
        }
      ]
    },
    {
      "cell_type": "markdown",
      "metadata": {
        "id": "3rzKODD8I6W_"
      },
      "source": [
        "# Fair Mode"
      ]
    },
    {
      "cell_type": "code",
      "metadata": {
        "colab": {
          "base_uri": "https://localhost:8080/"
        },
        "id": "8QDz9zTd-m7N",
        "outputId": "7349e492-0e5d-4171-f1ab-d59e787673c3"
      },
      "source": [
        "def create_fair_classical_model():\n",
        "    # A simple model based off LeNet \n",
        "    model = tf.keras.Sequential()\n",
        "    model.add(tf.keras.layers.Flatten(input_shape=(4,4,1)))\n",
        "    model.add(tf.keras.layers.Dense(2, activation='relu'))\n",
        "    #model.add(tf.keras.layers.Dense(3, activation='relu'))\n",
        "    model.add(tf.keras.layers.Dense(1))\n",
        "    return model\n",
        "\n",
        "\n",
        "_fair_model = create_fair_classical_model()\n",
        "_fair_model.compile(loss=tf.keras.losses.BinaryCrossentropy(from_logits=True),\n",
        "              optimizer=tf.keras.optimizers.Adam(),\n",
        "              metrics=['accuracy'])\n",
        "\n",
        "_fair_model.summary()\n",
        "EPOCHS = 50\n",
        "BATCH_SIZE = 32\n",
        "_fair_history = _fair_model.fit(x_train_bin,\n",
        "          y_train,\n",
        "          batch_size=BATCH_SIZE,\n",
        "          epochs=EPOCHS,\n",
        "          verbose=1,\n",
        "          validation_data=(x_test_bin, y_test))"
      ],
      "execution_count": null,
      "outputs": [
        {
          "output_type": "stream",
          "text": [
            "Model: \"sequential_1\"\n",
            "_________________________________________________________________\n",
            "Layer (type)                 Output Shape              Param #   \n",
            "=================================================================\n",
            "flatten (Flatten)            (None, 16)                0         \n",
            "_________________________________________________________________\n",
            "dense (Dense)                (None, 2)                 34        \n",
            "_________________________________________________________________\n",
            "dense_1 (Dense)              (None, 1)                 3         \n",
            "=================================================================\n",
            "Total params: 37\n",
            "Trainable params: 37\n",
            "Non-trainable params: 0\n",
            "_________________________________________________________________\n",
            "Epoch 1/50\n",
            "62/62 [==============================] - 1s 5ms/step - loss: 0.7932 - accuracy: 0.4876 - val_loss: 0.7373 - val_accuracy: 0.4767\n",
            "Epoch 2/50\n",
            "62/62 [==============================] - 0s 2ms/step - loss: 0.7261 - accuracy: 0.4960 - val_loss: 0.6777 - val_accuracy: 0.4767\n",
            "Epoch 3/50\n",
            "62/62 [==============================] - 0s 2ms/step - loss: 0.6625 - accuracy: 0.4722 - val_loss: 0.6171 - val_accuracy: 0.4767\n",
            "Epoch 4/50\n",
            "62/62 [==============================] - 0s 2ms/step - loss: 0.5935 - accuracy: 0.4897 - val_loss: 0.5559 - val_accuracy: 0.4767\n",
            "Epoch 5/50\n",
            "62/62 [==============================] - 0s 2ms/step - loss: 0.4978 - accuracy: 0.5304 - val_loss: 0.4078 - val_accuracy: 0.8678\n",
            "Epoch 6/50\n",
            "62/62 [==============================] - 0s 2ms/step - loss: 0.3316 - accuracy: 0.9359 - val_loss: 0.2988 - val_accuracy: 0.9044\n",
            "Epoch 7/50\n",
            "62/62 [==============================] - 0s 2ms/step - loss: 0.2141 - accuracy: 0.9824 - val_loss: 0.2390 - val_accuracy: 0.9222\n",
            "Epoch 8/50\n",
            "62/62 [==============================] - 0s 2ms/step - loss: 0.1439 - accuracy: 0.9909 - val_loss: 0.2077 - val_accuracy: 0.9289\n",
            "Epoch 9/50\n",
            "62/62 [==============================] - 0s 2ms/step - loss: 0.1092 - accuracy: 0.9896 - val_loss: 0.1908 - val_accuracy: 0.9322\n",
            "Epoch 10/50\n",
            "62/62 [==============================] - 0s 2ms/step - loss: 0.0883 - accuracy: 0.9870 - val_loss: 0.1819 - val_accuracy: 0.9322\n",
            "Epoch 11/50\n",
            "62/62 [==============================] - 0s 2ms/step - loss: 0.0682 - accuracy: 0.9913 - val_loss: 0.1774 - val_accuracy: 0.9411\n",
            "Epoch 12/50\n",
            "62/62 [==============================] - 0s 2ms/step - loss: 0.0564 - accuracy: 0.9910 - val_loss: 0.1753 - val_accuracy: 0.9400\n",
            "Epoch 13/50\n",
            "62/62 [==============================] - 0s 3ms/step - loss: 0.0475 - accuracy: 0.9922 - val_loss: 0.1748 - val_accuracy: 0.9411\n",
            "Epoch 14/50\n",
            "62/62 [==============================] - 0s 3ms/step - loss: 0.0438 - accuracy: 0.9907 - val_loss: 0.1752 - val_accuracy: 0.9411\n",
            "Epoch 15/50\n",
            "62/62 [==============================] - 0s 2ms/step - loss: 0.0354 - accuracy: 0.9935 - val_loss: 0.1763 - val_accuracy: 0.9411\n",
            "Epoch 16/50\n",
            "62/62 [==============================] - 0s 2ms/step - loss: 0.0363 - accuracy: 0.9903 - val_loss: 0.1778 - val_accuracy: 0.9422\n",
            "Epoch 17/50\n",
            "62/62 [==============================] - 0s 2ms/step - loss: 0.0319 - accuracy: 0.9914 - val_loss: 0.1795 - val_accuracy: 0.9422\n",
            "Epoch 18/50\n",
            "62/62 [==============================] - 0s 2ms/step - loss: 0.0346 - accuracy: 0.9906 - val_loss: 0.1815 - val_accuracy: 0.9422\n",
            "Epoch 19/50\n",
            "62/62 [==============================] - 0s 2ms/step - loss: 0.0269 - accuracy: 0.9917 - val_loss: 0.1833 - val_accuracy: 0.9400\n",
            "Epoch 20/50\n",
            "62/62 [==============================] - 0s 2ms/step - loss: 0.0301 - accuracy: 0.9910 - val_loss: 0.1854 - val_accuracy: 0.9400\n",
            "Epoch 21/50\n",
            "62/62 [==============================] - 0s 2ms/step - loss: 0.0329 - accuracy: 0.9872 - val_loss: 0.1872 - val_accuracy: 0.9400\n",
            "Epoch 22/50\n",
            "62/62 [==============================] - 0s 2ms/step - loss: 0.0275 - accuracy: 0.9909 - val_loss: 0.1892 - val_accuracy: 0.9389\n",
            "Epoch 23/50\n",
            "62/62 [==============================] - 0s 2ms/step - loss: 0.0268 - accuracy: 0.9898 - val_loss: 0.1913 - val_accuracy: 0.9400\n",
            "Epoch 24/50\n",
            "62/62 [==============================] - 0s 2ms/step - loss: 0.0266 - accuracy: 0.9903 - val_loss: 0.1933 - val_accuracy: 0.9400\n",
            "Epoch 25/50\n",
            "62/62 [==============================] - 0s 2ms/step - loss: 0.0213 - accuracy: 0.9922 - val_loss: 0.1947 - val_accuracy: 0.9389\n",
            "Epoch 26/50\n",
            "62/62 [==============================] - 0s 2ms/step - loss: 0.0221 - accuracy: 0.9907 - val_loss: 0.1967 - val_accuracy: 0.9389\n",
            "Epoch 27/50\n",
            "62/62 [==============================] - 0s 2ms/step - loss: 0.0251 - accuracy: 0.9883 - val_loss: 0.1986 - val_accuracy: 0.9389\n",
            "Epoch 28/50\n",
            "62/62 [==============================] - 0s 2ms/step - loss: 0.0210 - accuracy: 0.9917 - val_loss: 0.2005 - val_accuracy: 0.9389\n",
            "Epoch 29/50\n",
            "62/62 [==============================] - 0s 2ms/step - loss: 0.0218 - accuracy: 0.9939 - val_loss: 0.2023 - val_accuracy: 0.9389\n",
            "Epoch 30/50\n",
            "62/62 [==============================] - 0s 2ms/step - loss: 0.0280 - accuracy: 0.9860 - val_loss: 0.2040 - val_accuracy: 0.9389\n",
            "Epoch 31/50\n",
            "62/62 [==============================] - 0s 2ms/step - loss: 0.0198 - accuracy: 0.9922 - val_loss: 0.2057 - val_accuracy: 0.9389\n",
            "Epoch 32/50\n",
            "62/62 [==============================] - 0s 2ms/step - loss: 0.0242 - accuracy: 0.9886 - val_loss: 0.2071 - val_accuracy: 0.9422\n",
            "Epoch 33/50\n",
            "62/62 [==============================] - 0s 2ms/step - loss: 0.0266 - accuracy: 0.9897 - val_loss: 0.2089 - val_accuracy: 0.9422\n",
            "Epoch 34/50\n",
            "62/62 [==============================] - 0s 2ms/step - loss: 0.0211 - accuracy: 0.9916 - val_loss: 0.2104 - val_accuracy: 0.9422\n",
            "Epoch 35/50\n",
            "62/62 [==============================] - 0s 2ms/step - loss: 0.0190 - accuracy: 0.9919 - val_loss: 0.2119 - val_accuracy: 0.9422\n",
            "Epoch 36/50\n",
            "62/62 [==============================] - 0s 2ms/step - loss: 0.0215 - accuracy: 0.9916 - val_loss: 0.2133 - val_accuracy: 0.9422\n",
            "Epoch 37/50\n",
            "62/62 [==============================] - 0s 2ms/step - loss: 0.0192 - accuracy: 0.9926 - val_loss: 0.2149 - val_accuracy: 0.9422\n",
            "Epoch 38/50\n",
            "62/62 [==============================] - 0s 2ms/step - loss: 0.0224 - accuracy: 0.9905 - val_loss: 0.2162 - val_accuracy: 0.9422\n",
            "Epoch 39/50\n",
            "62/62 [==============================] - 0s 2ms/step - loss: 0.0217 - accuracy: 0.9912 - val_loss: 0.2176 - val_accuracy: 0.9422\n",
            "Epoch 40/50\n",
            "62/62 [==============================] - 0s 2ms/step - loss: 0.0212 - accuracy: 0.9912 - val_loss: 0.2188 - val_accuracy: 0.9422\n",
            "Epoch 41/50\n",
            "62/62 [==============================] - 0s 2ms/step - loss: 0.0190 - accuracy: 0.9922 - val_loss: 0.2202 - val_accuracy: 0.9422\n",
            "Epoch 42/50\n",
            "62/62 [==============================] - 0s 2ms/step - loss: 0.0208 - accuracy: 0.9921 - val_loss: 0.2217 - val_accuracy: 0.9422\n",
            "Epoch 43/50\n",
            "62/62 [==============================] - 0s 2ms/step - loss: 0.0163 - accuracy: 0.9932 - val_loss: 0.2228 - val_accuracy: 0.9422\n",
            "Epoch 44/50\n",
            "62/62 [==============================] - 0s 2ms/step - loss: 0.0174 - accuracy: 0.9922 - val_loss: 0.2240 - val_accuracy: 0.9422\n",
            "Epoch 45/50\n",
            "62/62 [==============================] - 0s 2ms/step - loss: 0.0198 - accuracy: 0.9900 - val_loss: 0.2251 - val_accuracy: 0.9422\n",
            "Epoch 46/50\n",
            "62/62 [==============================] - 0s 3ms/step - loss: 0.0217 - accuracy: 0.9932 - val_loss: 0.2261 - val_accuracy: 0.9422\n",
            "Epoch 47/50\n",
            "62/62 [==============================] - 0s 2ms/step - loss: 0.0180 - accuracy: 0.9933 - val_loss: 0.2274 - val_accuracy: 0.9422\n",
            "Epoch 48/50\n",
            "62/62 [==============================] - 0s 2ms/step - loss: 0.0157 - accuracy: 0.9923 - val_loss: 0.2287 - val_accuracy: 0.9422\n",
            "Epoch 49/50\n",
            "62/62 [==============================] - 0s 2ms/step - loss: 0.0178 - accuracy: 0.9933 - val_loss: 0.2285 - val_accuracy: 0.9444\n",
            "Epoch 50/50\n",
            "62/62 [==============================] - 0s 2ms/step - loss: 0.0221 - accuracy: 0.9912 - val_loss: 0.2300 - val_accuracy: 0.9422\n"
          ],
          "name": "stdout"
        }
      ]
    },
    {
      "cell_type": "code",
      "metadata": {
        "colab": {
          "base_uri": "https://localhost:8080/",
          "height": 34
        },
        "id": "yKkCb_tmKONb",
        "outputId": "40a17d67-9103-4fdf-db8b-ba2ba18fa9c5"
      },
      "source": [
        "fair_nn_results = fair_model.evaluate(x_test, y_test)"
      ],
      "execution_count": null,
      "outputs": [
        {
          "output_type": "stream",
          "text": [
            "29/29 [==============================] - 0s 873us/step - loss: 0.1472 - accuracy: 0.9489\n"
          ],
          "name": "stdout"
        }
      ]
    },
    {
      "cell_type": "code",
      "metadata": {
        "colab": {
          "base_uri": "https://localhost:8080/",
          "height": 573
        },
        "id": "rS49hCrzZiiq",
        "outputId": "0b7105c5-5e35-4d23-f694-ca677eef62cc"
      },
      "source": [
        "plt.plot(fair_history.history['accuracy'])\n",
        "plt.plot(fair_history.history['val_accuracy'])\n",
        "plt.title('model accuracy')\n",
        "plt.ylabel('accuracy')\n",
        "plt.xlabel('epoch')\n",
        "plt.legend(['train', 'test'], loc='upper left')\n",
        "plt.show()\n",
        "# summarize history for loss\n",
        "plt.plot(fair_history.history['loss'])\n",
        "plt.plot(fair_history.history['val_loss'])\n",
        "plt.title('model loss')\n",
        "plt.ylabel('loss')\n",
        "plt.xlabel('epoch')\n",
        "plt.legend(['train', 'test'], loc='upper left')\n",
        "plt.show()"
      ],
      "execution_count": null,
      "outputs": [
        {
          "output_type": "display_data",
          "data": {
            "image/png": "[encoded data removed]",
            "text/plain": [
              "<Figure size 432x288 with 1 Axes>"
            ]
          },
          "metadata": {
            "tags": []
          }
        },
        {
          "output_type": "display_data",
          "data": {
            "image/png": "[encoded data removed]",
            "text/plain": [
              "<Figure size 432x288 with 1 Axes>"
            ]
          },
          "metadata": {
            "tags": []
          }
        }
      ]
    },
    {
      "cell_type": "code",
      "metadata": {
        "colab": {
          "base_uri": "https://localhost:8080/",
          "height": 34
        },
        "id": "3iEE6gSTJ6gh",
        "outputId": "66076c7b-8d0e-4a14-a801-64c151aa03d8"
      },
      "source": [
        "fair_nn_results = fair_model.evaluate(x_test, y_test)"
      ],
      "execution_count": null,
      "outputs": [
        {
          "output_type": "stream",
          "text": [
            "29/29 [==============================] - 0s 2ms/step - loss: 0.2139 - accuracy: 0.9533\n"
          ],
          "name": "stdout"
        }
      ]
    },
    {
      "cell_type": "code",
      "metadata": {
        "colab": {
          "base_uri": "https://localhost:8080/",
          "height": 255
        },
        "id": "WsTTN0A-WpVW",
        "outputId": "3f20d722-8d1c-4ffb-9289-56a79f2454e9"
      },
      "source": [
        "def create_fair_classical_model():\n",
        "    # A simple model based off LeNet \n",
        "    model = tf.keras.Sequential()\n",
        "    model.add(tf.keras.layers.Flatten(input_shape=(4,4,1)))\n",
        "    model.add(tf.keras.layers.Dense(2, activation='relu'))\n",
        "    #model.add(tf.keras.layers.Dense(3, activation='relu'))\n",
        "    model.add(tf.keras.layers.Dense(1))\n",
        "    return model\n",
        "\n",
        "\n",
        "model = create_fair_classical_model()\n",
        "model.compile(loss=tf.keras.losses.BinaryCrossentropy(from_logits=True),\n",
        "              optimizer=tf.keras.optimizers.Adam(),\n",
        "              metrics=['accuracy'])\n",
        "\n",
        "model.summary()"
      ],
      "execution_count": null,
      "outputs": [
        {
          "output_type": "stream",
          "text": [
            "Model: \"sequential_11\"\n",
            "_________________________________________________________________\n",
            "Layer (type)                 Output Shape              Param #   \n",
            "=================================================================\n",
            "flatten_6 (Flatten)          (None, 16)                0         \n",
            "_________________________________________________________________\n",
            "dense_13 (Dense)             (None, 2)                 34        \n",
            "_________________________________________________________________\n",
            "dense_14 (Dense)             (None, 1)                 3         \n",
            "=================================================================\n",
            "Total params: 37\n",
            "Trainable params: 37\n",
            "Non-trainable params: 0\n",
            "_________________________________________________________________\n"
          ],
          "name": "stdout"
        }
      ]
    },
    {
      "cell_type": "code",
      "metadata": {
        "colab": {
          "base_uri": "https://localhost:8080/",
          "height": 1000
        },
        "id": "DwJQJT5uJLjm",
        "outputId": "1b5918be-4ee4-4d5f-867d-3fb2c8c8f00c"
      },
      "source": [
        "fair_history = model.fit(x_train,\n",
        "          y_train,\n",
        "          batch_size=BATCH_SIZE,\n",
        "          epochs=EPOCHS,\n",
        "          verbose=1,\n",
        "          validation_data=(x_test, y_test))\n",
        "\n",
        "fair_nn_results = model.evaluate(x_test, y_test)"
      ],
      "execution_count": null,
      "outputs": [
        {
          "output_type": "stream",
          "text": [
            "Epoch 1/50\n",
            "67/67 [==============================] - 0s 3ms/step - loss: 0.5181 - accuracy: 0.5602 - val_loss: 0.3902 - val_accuracy: 0.6725\n",
            "Epoch 2/50\n",
            "67/67 [==============================] - 0s 1ms/step - loss: 0.3968 - accuracy: 0.5602 - val_loss: 0.3157 - val_accuracy: 0.6725\n",
            "Epoch 3/50\n",
            "67/67 [==============================] - 0s 1ms/step - loss: 0.3491 - accuracy: 0.5602 - val_loss: 0.2809 - val_accuracy: 0.6725\n",
            "Epoch 4/50\n",
            "67/67 [==============================] - 0s 1ms/step - loss: 0.3220 - accuracy: 0.5602 - val_loss: 0.2606 - val_accuracy: 0.6725\n",
            "Epoch 5/50\n",
            "67/67 [==============================] - 0s 1ms/step - loss: 0.3026 - accuracy: 0.5602 - val_loss: 0.2458 - val_accuracy: 0.6725\n",
            "Epoch 6/50\n",
            "67/67 [==============================] - 0s 1ms/step - loss: 0.2868 - accuracy: 0.5602 - val_loss: 0.2339 - val_accuracy: 0.6725\n",
            "Epoch 7/50\n",
            "67/67 [==============================] - 0s 1ms/step - loss: 0.2731 - accuracy: 0.5602 - val_loss: 0.2237 - val_accuracy: 0.6725\n",
            "Epoch 8/50\n",
            "67/67 [==============================] - 0s 1ms/step - loss: 0.2606 - accuracy: 0.5602 - val_loss: 0.2147 - val_accuracy: 0.6725\n",
            "Epoch 9/50\n",
            "67/67 [==============================] - 0s 1ms/step - loss: 0.2491 - accuracy: 0.5602 - val_loss: 0.2064 - val_accuracy: 0.6725\n",
            "Epoch 10/50\n",
            "67/67 [==============================] - 0s 1ms/step - loss: 0.2385 - accuracy: 0.8327 - val_loss: 0.1989 - val_accuracy: 0.9651\n",
            "Epoch 11/50\n",
            "67/67 [==============================] - 0s 1ms/step - loss: 0.2287 - accuracy: 0.9774 - val_loss: 0.1919 - val_accuracy: 0.9651\n",
            "Epoch 12/50\n",
            "67/67 [==============================] - 0s 2ms/step - loss: 0.2194 - accuracy: 0.9756 - val_loss: 0.1855 - val_accuracy: 0.9607\n",
            "Epoch 13/50\n",
            "67/67 [==============================] - 0s 1ms/step - loss: 0.2107 - accuracy: 0.9793 - val_loss: 0.1795 - val_accuracy: 0.9607\n",
            "Epoch 14/50\n",
            "67/67 [==============================] - 0s 1ms/step - loss: 0.2024 - accuracy: 0.9793 - val_loss: 0.1738 - val_accuracy: 0.9607\n",
            "Epoch 15/50\n",
            "67/67 [==============================] - 0s 1ms/step - loss: 0.1946 - accuracy: 0.9793 - val_loss: 0.1687 - val_accuracy: 0.9651\n",
            "Epoch 16/50\n",
            "67/67 [==============================] - 0s 1ms/step - loss: 0.1872 - accuracy: 0.9831 - val_loss: 0.1635 - val_accuracy: 0.9694\n",
            "Epoch 17/50\n",
            "67/67 [==============================] - 0s 1ms/step - loss: 0.1800 - accuracy: 0.9831 - val_loss: 0.1589 - val_accuracy: 0.9694\n",
            "Epoch 18/50\n",
            "67/67 [==============================] - 0s 1ms/step - loss: 0.1733 - accuracy: 0.9831 - val_loss: 0.1546 - val_accuracy: 0.9694\n",
            "Epoch 19/50\n",
            "67/67 [==============================] - 0s 1ms/step - loss: 0.1669 - accuracy: 0.9831 - val_loss: 0.1505 - val_accuracy: 0.9694\n",
            "Epoch 20/50\n",
            "67/67 [==============================] - 0s 1ms/step - loss: 0.1609 - accuracy: 0.9831 - val_loss: 0.1466 - val_accuracy: 0.9694\n",
            "Epoch 21/50\n",
            "67/67 [==============================] - 0s 2ms/step - loss: 0.1551 - accuracy: 0.9831 - val_loss: 0.1429 - val_accuracy: 0.9694\n",
            "Epoch 22/50\n",
            "67/67 [==============================] - 0s 1ms/step - loss: 0.1497 - accuracy: 0.9887 - val_loss: 0.1394 - val_accuracy: 0.9694\n",
            "Epoch 23/50\n",
            "67/67 [==============================] - 0s 1ms/step - loss: 0.1446 - accuracy: 0.9868 - val_loss: 0.1362 - val_accuracy: 0.9694\n",
            "Epoch 24/50\n",
            "67/67 [==============================] - 0s 1ms/step - loss: 0.1395 - accuracy: 0.9906 - val_loss: 0.1331 - val_accuracy: 0.9694\n",
            "Epoch 25/50\n",
            "67/67 [==============================] - 0s 1ms/step - loss: 0.1348 - accuracy: 0.9925 - val_loss: 0.1303 - val_accuracy: 0.9694\n",
            "Epoch 26/50\n",
            "67/67 [==============================] - 0s 1ms/step - loss: 0.1303 - accuracy: 0.9925 - val_loss: 0.1276 - val_accuracy: 0.9694\n",
            "Epoch 27/50\n",
            "67/67 [==============================] - 0s 2ms/step - loss: 0.1261 - accuracy: 0.9925 - val_loss: 0.1253 - val_accuracy: 0.9694\n",
            "Epoch 28/50\n",
            "67/67 [==============================] - 0s 1ms/step - loss: 0.1221 - accuracy: 0.9925 - val_loss: 0.1228 - val_accuracy: 0.9694\n",
            "Epoch 29/50\n",
            "67/67 [==============================] - 0s 1ms/step - loss: 0.1182 - accuracy: 0.9925 - val_loss: 0.1209 - val_accuracy: 0.9694\n",
            "Epoch 30/50\n",
            "67/67 [==============================] - 0s 1ms/step - loss: 0.1145 - accuracy: 0.9925 - val_loss: 0.1188 - val_accuracy: 0.9694\n",
            "Epoch 31/50\n",
            "67/67 [==============================] - 0s 2ms/step - loss: 0.1110 - accuracy: 0.9925 - val_loss: 0.1169 - val_accuracy: 0.9694\n",
            "Epoch 32/50\n",
            "67/67 [==============================] - 0s 2ms/step - loss: 0.1077 - accuracy: 0.9925 - val_loss: 0.1152 - val_accuracy: 0.9694\n",
            "Epoch 33/50\n",
            "67/67 [==============================] - 0s 1ms/step - loss: 0.1045 - accuracy: 0.9925 - val_loss: 0.1136 - val_accuracy: 0.9694\n",
            "Epoch 34/50\n",
            "67/67 [==============================] - 0s 1ms/step - loss: 0.1014 - accuracy: 0.9925 - val_loss: 0.1119 - val_accuracy: 0.9694\n",
            "Epoch 35/50\n",
            "67/67 [==============================] - 0s 1ms/step - loss: 0.0985 - accuracy: 0.9944 - val_loss: 0.1105 - val_accuracy: 0.9694\n",
            "Epoch 36/50\n",
            "67/67 [==============================] - 0s 1ms/step - loss: 0.0958 - accuracy: 0.9925 - val_loss: 0.1091 - val_accuracy: 0.9694\n",
            "Epoch 37/50\n",
            "67/67 [==============================] - 0s 1ms/step - loss: 0.0931 - accuracy: 0.9944 - val_loss: 0.1078 - val_accuracy: 0.9694\n",
            "Epoch 38/50\n",
            "67/67 [==============================] - 0s 1ms/step - loss: 0.0905 - accuracy: 0.9944 - val_loss: 0.1063 - val_accuracy: 0.9694\n",
            "Epoch 39/50\n",
            "67/67 [==============================] - 0s 2ms/step - loss: 0.0881 - accuracy: 0.9944 - val_loss: 0.1052 - val_accuracy: 0.9694\n",
            "Epoch 40/50\n",
            "67/67 [==============================] - 0s 1ms/step - loss: 0.0858 - accuracy: 0.9944 - val_loss: 0.1042 - val_accuracy: 0.9694\n",
            "Epoch 41/50\n",
            "67/67 [==============================] - 0s 2ms/step - loss: 0.0837 - accuracy: 0.9944 - val_loss: 0.1028 - val_accuracy: 0.9694\n",
            "Epoch 42/50\n",
            "67/67 [==============================] - 0s 1ms/step - loss: 0.0814 - accuracy: 0.9944 - val_loss: 0.1026 - val_accuracy: 0.9694\n",
            "Epoch 43/50\n",
            "67/67 [==============================] - 0s 2ms/step - loss: 0.0794 - accuracy: 0.9944 - val_loss: 0.1009 - val_accuracy: 0.9694\n",
            "Epoch 44/50\n",
            "67/67 [==============================] - 0s 1ms/step - loss: 0.0775 - accuracy: 0.9925 - val_loss: 0.1002 - val_accuracy: 0.9694\n",
            "Epoch 45/50\n",
            "67/67 [==============================] - 0s 1ms/step - loss: 0.0757 - accuracy: 0.9925 - val_loss: 0.0992 - val_accuracy: 0.9694\n",
            "Epoch 46/50\n",
            "67/67 [==============================] - 0s 1ms/step - loss: 0.0737 - accuracy: 0.9925 - val_loss: 0.0985 - val_accuracy: 0.9694\n",
            "Epoch 47/50\n",
            "67/67 [==============================] - 0s 1ms/step - loss: 0.0721 - accuracy: 0.9925 - val_loss: 0.0979 - val_accuracy: 0.9694\n",
            "Epoch 48/50\n",
            "67/67 [==============================] - 0s 2ms/step - loss: 0.0704 - accuracy: 0.9925 - val_loss: 0.0969 - val_accuracy: 0.9694\n",
            "Epoch 49/50\n",
            "67/67 [==============================] - 0s 1ms/step - loss: 0.0688 - accuracy: 0.9925 - val_loss: 0.0964 - val_accuracy: 0.9694\n",
            "Epoch 50/50\n",
            "67/67 [==============================] - 0s 2ms/step - loss: 0.0674 - accuracy: 0.9925 - val_loss: 0.0957 - val_accuracy: 0.9694\n",
            "8/8 [==============================] - 0s 2ms/step - loss: 0.0957 - accuracy: 0.9694\n"
          ],
          "name": "stdout"
        }
      ]
    },
    {
      "cell_type": "code",
      "metadata": {
        "colab": {
          "base_uri": "https://localhost:8080/",
          "height": 573
        },
        "id": "lmwSf-b_irZq",
        "outputId": "e2011335-02ca-4cf4-b9d5-84d6bd620c31"
      },
      "source": [
        "plt.plot(fair_history.history['accuracy'])\n",
        "plt.plot(fair_history.history['val_accuracy'])\n",
        "plt.title('model accuracy')\n",
        "plt.ylabel('accuracy')\n",
        "plt.xlabel('epoch')\n",
        "plt.legend(['train', 'test'], loc='upper left')\n",
        "plt.show()\n",
        "# summarize history for loss\n",
        "plt.plot(fair_history.history['loss'])\n",
        "plt.plot(fair_history.history['val_loss'])\n",
        "plt.title('model loss')\n",
        "plt.ylabel('loss')\n",
        "plt.xlabel('epoch')\n",
        "plt.legend(['train', 'test'], loc='upper left')\n",
        "plt.show()"
      ],
      "execution_count": null,
      "outputs": [
        {
          "output_type": "display_data",
          "data": {
            "image/png": "[encoded data removed]",
            "text/plain": [
              "<Figure size 432x288 with 1 Axes>"
            ]
          },
          "metadata": {
            "tags": []
          }
        },
        {
          "output_type": "display_data",
          "data": {
            "image/png": "[encoded data removed]",
            "text/plain": [
              "<Figure size 432x288 with 1 Axes>"
            ]
          },
          "metadata": {
            "tags": []
          }
        }
      ]
    },
    {
      "cell_type": "code",
      "metadata": {
        "id": "v2Uh8gKQjW7s"
      },
      "source": [
        ""
      ],
      "execution_count": null,
      "outputs": []
    }
  ]
}